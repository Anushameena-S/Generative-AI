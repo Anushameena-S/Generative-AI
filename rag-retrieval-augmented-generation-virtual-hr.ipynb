{
 "cells": [
  {
   "cell_type": "markdown",
   "metadata": {
    "_cell_guid": "b1076dfc-b9ad-4769-8c92-a6c4dae69d19",
    "_uuid": "8f2839f25d086af736a60e9eeb907d3b93b6e0e5"
   },
   "source": [
    "#### 1. Install Packages"
   ]
  },
  {
   "cell_type": "code",
   "execution_count": 1,
   "metadata": {
    "execution": {
     "iopub.execute_input": "2025-01-21T13:58:24.117712Z",
     "iopub.status.busy": "2025-01-21T13:58:24.117253Z",
     "iopub.status.idle": "2025-01-21T13:58:57.034469Z",
     "shell.execute_reply": "2025-01-21T13:58:57.032867Z",
     "shell.execute_reply.started": "2025-01-21T13:58:24.117681Z"
    }
   },
   "outputs": [
    {
     "name": "stdout",
     "output_type": "stream",
     "text": [
      "Requirement already satisfied: langchain in /usr/local/lib/python3.10/dist-packages (0.3.12)\n",
      "Requirement already satisfied: PyYAML>=5.3 in /usr/local/lib/python3.10/dist-packages (from langchain) (6.0.2)\n",
      "Requirement already satisfied: SQLAlchemy<3,>=1.4 in /usr/local/lib/python3.10/dist-packages (from langchain) (2.0.36)\n",
      "Requirement already satisfied: aiohttp<4.0.0,>=3.8.3 in /usr/local/lib/python3.10/dist-packages (from langchain) (3.11.10)\n",
      "Requirement already satisfied: async-timeout<5.0.0,>=4.0.0 in /usr/local/lib/python3.10/dist-packages (from langchain) (4.0.3)\n",
      "Requirement already satisfied: langchain-core<0.4.0,>=0.3.25 in /usr/local/lib/python3.10/dist-packages (from langchain) (0.3.25)\n",
      "Requirement already satisfied: langchain-text-splitters<0.4.0,>=0.3.3 in /usr/local/lib/python3.10/dist-packages (from langchain) (0.3.3)\n",
      "Requirement already satisfied: langsmith<0.3,>=0.1.17 in /usr/local/lib/python3.10/dist-packages (from langchain) (0.2.3)\n",
      "Requirement already satisfied: numpy<2,>=1.22.4 in /usr/local/lib/python3.10/dist-packages (from langchain) (1.26.4)\n",
      "Requirement already satisfied: pydantic<3.0.0,>=2.7.4 in /usr/local/lib/python3.10/dist-packages (from langchain) (2.10.3)\n",
      "Requirement already satisfied: requests<3,>=2 in /usr/local/lib/python3.10/dist-packages (from langchain) (2.32.3)\n",
      "Requirement already satisfied: tenacity!=8.4.0,<10,>=8.1.0 in /usr/local/lib/python3.10/dist-packages (from langchain) (9.0.0)\n",
      "Requirement already satisfied: aiohappyeyeballs>=2.3.0 in /usr/local/lib/python3.10/dist-packages (from aiohttp<4.0.0,>=3.8.3->langchain) (2.4.4)\n",
      "Requirement already satisfied: aiosignal>=1.1.2 in /usr/local/lib/python3.10/dist-packages (from aiohttp<4.0.0,>=3.8.3->langchain) (1.3.2)\n",
      "Requirement already satisfied: attrs>=17.3.0 in /usr/local/lib/python3.10/dist-packages (from aiohttp<4.0.0,>=3.8.3->langchain) (24.3.0)\n",
      "Requirement already satisfied: frozenlist>=1.1.1 in /usr/local/lib/python3.10/dist-packages (from aiohttp<4.0.0,>=3.8.3->langchain) (1.5.0)\n",
      "Requirement already satisfied: multidict<7.0,>=4.5 in /usr/local/lib/python3.10/dist-packages (from aiohttp<4.0.0,>=3.8.3->langchain) (6.1.0)\n",
      "Requirement already satisfied: propcache>=0.2.0 in /usr/local/lib/python3.10/dist-packages (from aiohttp<4.0.0,>=3.8.3->langchain) (0.2.1)\n",
      "Requirement already satisfied: yarl<2.0,>=1.17.0 in /usr/local/lib/python3.10/dist-packages (from aiohttp<4.0.0,>=3.8.3->langchain) (1.18.3)\n",
      "Requirement already satisfied: jsonpatch<2.0,>=1.33 in /usr/local/lib/python3.10/dist-packages (from langchain-core<0.4.0,>=0.3.25->langchain) (1.33)\n",
      "Requirement already satisfied: packaging<25,>=23.2 in /usr/local/lib/python3.10/dist-packages (from langchain-core<0.4.0,>=0.3.25->langchain) (24.2)\n",
      "Requirement already satisfied: typing-extensions>=4.7 in /usr/local/lib/python3.10/dist-packages (from langchain-core<0.4.0,>=0.3.25->langchain) (4.12.2)\n",
      "Requirement already satisfied: httpx<1,>=0.23.0 in /usr/local/lib/python3.10/dist-packages (from langsmith<0.3,>=0.1.17->langchain) (0.28.1)\n",
      "Requirement already satisfied: orjson<4.0.0,>=3.9.14 in /usr/local/lib/python3.10/dist-packages (from langsmith<0.3,>=0.1.17->langchain) (3.10.12)\n",
      "Requirement already satisfied: requests-toolbelt<2.0.0,>=1.0.0 in /usr/local/lib/python3.10/dist-packages (from langsmith<0.3,>=0.1.17->langchain) (1.0.0)\n",
      "Requirement already satisfied: mkl_fft in /usr/local/lib/python3.10/dist-packages (from numpy<2,>=1.22.4->langchain) (1.3.8)\n",
      "Requirement already satisfied: mkl_random in /usr/local/lib/python3.10/dist-packages (from numpy<2,>=1.22.4->langchain) (1.2.4)\n",
      "Requirement already satisfied: mkl_umath in /usr/local/lib/python3.10/dist-packages (from numpy<2,>=1.22.4->langchain) (0.1.1)\n",
      "Requirement already satisfied: mkl in /usr/local/lib/python3.10/dist-packages (from numpy<2,>=1.22.4->langchain) (2025.0.1)\n",
      "Requirement already satisfied: tbb4py in /usr/local/lib/python3.10/dist-packages (from numpy<2,>=1.22.4->langchain) (2022.0.0)\n",
      "Requirement already satisfied: mkl-service in /usr/local/lib/python3.10/dist-packages (from numpy<2,>=1.22.4->langchain) (2.4.1)\n",
      "Requirement already satisfied: annotated-types>=0.6.0 in /usr/local/lib/python3.10/dist-packages (from pydantic<3.0.0,>=2.7.4->langchain) (0.7.0)\n",
      "Requirement already satisfied: pydantic-core==2.27.1 in /usr/local/lib/python3.10/dist-packages (from pydantic<3.0.0,>=2.7.4->langchain) (2.27.1)\n",
      "Requirement already satisfied: charset-normalizer<4,>=2 in /usr/local/lib/python3.10/dist-packages (from requests<3,>=2->langchain) (3.4.0)\n",
      "Requirement already satisfied: idna<4,>=2.5 in /usr/local/lib/python3.10/dist-packages (from requests<3,>=2->langchain) (3.10)\n",
      "Requirement already satisfied: urllib3<3,>=1.21.1 in /usr/local/lib/python3.10/dist-packages (from requests<3,>=2->langchain) (2.2.3)\n",
      "Requirement already satisfied: certifi>=2017.4.17 in /usr/local/lib/python3.10/dist-packages (from requests<3,>=2->langchain) (2024.12.14)\n",
      "Requirement already satisfied: greenlet!=0.4.17 in /usr/local/lib/python3.10/dist-packages (from SQLAlchemy<3,>=1.4->langchain) (3.1.1)\n",
      "Requirement already satisfied: anyio in /usr/local/lib/python3.10/dist-packages (from httpx<1,>=0.23.0->langsmith<0.3,>=0.1.17->langchain) (3.7.1)\n",
      "Requirement already satisfied: httpcore==1.* in /usr/local/lib/python3.10/dist-packages (from httpx<1,>=0.23.0->langsmith<0.3,>=0.1.17->langchain) (1.0.7)\n",
      "Requirement already satisfied: h11<0.15,>=0.13 in /usr/local/lib/python3.10/dist-packages (from httpcore==1.*->httpx<1,>=0.23.0->langsmith<0.3,>=0.1.17->langchain) (0.14.0)\n",
      "Requirement already satisfied: jsonpointer>=1.9 in /usr/local/lib/python3.10/dist-packages (from jsonpatch<2.0,>=1.33->langchain-core<0.4.0,>=0.3.25->langchain) (3.0.0)\n",
      "Requirement already satisfied: intel-openmp>=2024 in /usr/local/lib/python3.10/dist-packages (from mkl->numpy<2,>=1.22.4->langchain) (2024.2.0)\n",
      "Requirement already satisfied: tbb==2022.* in /usr/local/lib/python3.10/dist-packages (from mkl->numpy<2,>=1.22.4->langchain) (2022.0.0)\n",
      "Requirement already satisfied: tcmlib==1.* in /usr/local/lib/python3.10/dist-packages (from tbb==2022.*->mkl->numpy<2,>=1.22.4->langchain) (1.2.0)\n",
      "Requirement already satisfied: intel-cmplr-lib-rt in /usr/local/lib/python3.10/dist-packages (from mkl_umath->numpy<2,>=1.22.4->langchain) (2024.2.0)\n",
      "Requirement already satisfied: intel-cmplr-lib-ur==2024.2.0 in /usr/local/lib/python3.10/dist-packages (from intel-openmp>=2024->mkl->numpy<2,>=1.22.4->langchain) (2024.2.0)\n",
      "Requirement already satisfied: sniffio>=1.1 in /usr/local/lib/python3.10/dist-packages (from anyio->httpx<1,>=0.23.0->langsmith<0.3,>=0.1.17->langchain) (1.3.1)\n",
      "Requirement already satisfied: exceptiongroup in /usr/local/lib/python3.10/dist-packages (from anyio->httpx<1,>=0.23.0->langsmith<0.3,>=0.1.17->langchain) (1.2.2)\n",
      "Requirement already satisfied: openai in /usr/local/lib/python3.10/dist-packages (1.57.4)\n",
      "Requirement already satisfied: anyio<5,>=3.5.0 in /usr/local/lib/python3.10/dist-packages (from openai) (3.7.1)\n",
      "Requirement already satisfied: distro<2,>=1.7.0 in /usr/local/lib/python3.10/dist-packages (from openai) (1.9.0)\n",
      "Requirement already satisfied: httpx<1,>=0.23.0 in /usr/local/lib/python3.10/dist-packages (from openai) (0.28.1)\n",
      "Requirement already satisfied: jiter<1,>=0.4.0 in /usr/local/lib/python3.10/dist-packages (from openai) (0.8.2)\n",
      "Requirement already satisfied: pydantic<3,>=1.9.0 in /usr/local/lib/python3.10/dist-packages (from openai) (2.10.3)\n",
      "Requirement already satisfied: sniffio in /usr/local/lib/python3.10/dist-packages (from openai) (1.3.1)\n",
      "Requirement already satisfied: tqdm>4 in /usr/local/lib/python3.10/dist-packages (from openai) (4.67.1)\n",
      "Requirement already satisfied: typing-extensions<5,>=4.11 in /usr/local/lib/python3.10/dist-packages (from openai) (4.12.2)\n",
      "Requirement already satisfied: idna>=2.8 in /usr/local/lib/python3.10/dist-packages (from anyio<5,>=3.5.0->openai) (3.10)\n",
      "Requirement already satisfied: exceptiongroup in /usr/local/lib/python3.10/dist-packages (from anyio<5,>=3.5.0->openai) (1.2.2)\n",
      "Requirement already satisfied: certifi in /usr/local/lib/python3.10/dist-packages (from httpx<1,>=0.23.0->openai) (2024.12.14)\n",
      "Requirement already satisfied: httpcore==1.* in /usr/local/lib/python3.10/dist-packages (from httpx<1,>=0.23.0->openai) (1.0.7)\n",
      "Requirement already satisfied: h11<0.15,>=0.13 in /usr/local/lib/python3.10/dist-packages (from httpcore==1.*->httpx<1,>=0.23.0->openai) (0.14.0)\n",
      "Requirement already satisfied: annotated-types>=0.6.0 in /usr/local/lib/python3.10/dist-packages (from pydantic<3,>=1.9.0->openai) (0.7.0)\n",
      "Requirement already satisfied: pydantic-core==2.27.1 in /usr/local/lib/python3.10/dist-packages (from pydantic<3,>=1.9.0->openai) (2.27.1)\n",
      "Requirement already satisfied: tiktoken in /usr/local/lib/python3.10/dist-packages (0.8.0)\n",
      "Requirement already satisfied: regex>=2022.1.18 in /usr/local/lib/python3.10/dist-packages (from tiktoken) (2024.11.6)\n",
      "Requirement already satisfied: requests>=2.26.0 in /usr/local/lib/python3.10/dist-packages (from tiktoken) (2.32.3)\n",
      "Requirement already satisfied: charset-normalizer<4,>=2 in /usr/local/lib/python3.10/dist-packages (from requests>=2.26.0->tiktoken) (3.4.0)\n",
      "Requirement already satisfied: idna<4,>=2.5 in /usr/local/lib/python3.10/dist-packages (from requests>=2.26.0->tiktoken) (3.10)\n",
      "Requirement already satisfied: urllib3<3,>=1.21.1 in /usr/local/lib/python3.10/dist-packages (from requests>=2.26.0->tiktoken) (2.2.3)\n",
      "Requirement already satisfied: certifi>=2017.4.17 in /usr/local/lib/python3.10/dist-packages (from requests>=2.26.0->tiktoken) (2024.12.14)\n",
      "Requirement already satisfied: pypdf in /usr/local/lib/python3.10/dist-packages (5.1.0)\n",
      "Requirement already satisfied: typing_extensions>=4.0 in /usr/local/lib/python3.10/dist-packages (from pypdf) (4.12.2)\n",
      "Collecting langchain-community\n",
      "  Downloading langchain_community-0.3.15-py3-none-any.whl.metadata (2.9 kB)\n",
      "Requirement already satisfied: PyYAML>=5.3 in /usr/local/lib/python3.10/dist-packages (from langchain-community) (6.0.2)\n",
      "Requirement already satisfied: SQLAlchemy<3,>=1.4 in /usr/local/lib/python3.10/dist-packages (from langchain-community) (2.0.36)\n",
      "Requirement already satisfied: aiohttp<4.0.0,>=3.8.3 in /usr/local/lib/python3.10/dist-packages (from langchain-community) (3.11.10)\n",
      "Requirement already satisfied: dataclasses-json<0.7,>=0.5.7 in /usr/local/lib/python3.10/dist-packages (from langchain-community) (0.6.7)\n",
      "Collecting httpx-sse<0.5.0,>=0.4.0 (from langchain-community)\n",
      "  Downloading httpx_sse-0.4.0-py3-none-any.whl.metadata (9.0 kB)\n",
      "Collecting langchain<0.4.0,>=0.3.15 (from langchain-community)\n",
      "  Downloading langchain-0.3.15-py3-none-any.whl.metadata (7.1 kB)\n",
      "Collecting langchain-core<0.4.0,>=0.3.31 (from langchain-community)\n",
      "  Downloading langchain_core-0.3.31-py3-none-any.whl.metadata (6.3 kB)\n",
      "Requirement already satisfied: langsmith<0.4,>=0.1.125 in /usr/local/lib/python3.10/dist-packages (from langchain-community) (0.2.3)\n",
      "Requirement already satisfied: numpy<2,>=1.22.4 in /usr/local/lib/python3.10/dist-packages (from langchain-community) (1.26.4)\n",
      "Collecting pydantic-settings<3.0.0,>=2.4.0 (from langchain-community)\n",
      "  Downloading pydantic_settings-2.7.1-py3-none-any.whl.metadata (3.5 kB)\n",
      "Requirement already satisfied: requests<3,>=2 in /usr/local/lib/python3.10/dist-packages (from langchain-community) (2.32.3)\n",
      "Requirement already satisfied: tenacity!=8.4.0,<10,>=8.1.0 in /usr/local/lib/python3.10/dist-packages (from langchain-community) (9.0.0)\n",
      "Requirement already satisfied: aiohappyeyeballs>=2.3.0 in /usr/local/lib/python3.10/dist-packages (from aiohttp<4.0.0,>=3.8.3->langchain-community) (2.4.4)\n",
      "Requirement already satisfied: aiosignal>=1.1.2 in /usr/local/lib/python3.10/dist-packages (from aiohttp<4.0.0,>=3.8.3->langchain-community) (1.3.2)\n",
      "Requirement already satisfied: async-timeout<6.0,>=4.0 in /usr/local/lib/python3.10/dist-packages (from aiohttp<4.0.0,>=3.8.3->langchain-community) (4.0.3)\n",
      "Requirement already satisfied: attrs>=17.3.0 in /usr/local/lib/python3.10/dist-packages (from aiohttp<4.0.0,>=3.8.3->langchain-community) (24.3.0)\n",
      "Requirement already satisfied: frozenlist>=1.1.1 in /usr/local/lib/python3.10/dist-packages (from aiohttp<4.0.0,>=3.8.3->langchain-community) (1.5.0)\n",
      "Requirement already satisfied: multidict<7.0,>=4.5 in /usr/local/lib/python3.10/dist-packages (from aiohttp<4.0.0,>=3.8.3->langchain-community) (6.1.0)\n",
      "Requirement already satisfied: propcache>=0.2.0 in /usr/local/lib/python3.10/dist-packages (from aiohttp<4.0.0,>=3.8.3->langchain-community) (0.2.1)\n",
      "Requirement already satisfied: yarl<2.0,>=1.17.0 in /usr/local/lib/python3.10/dist-packages (from aiohttp<4.0.0,>=3.8.3->langchain-community) (1.18.3)\n",
      "Requirement already satisfied: marshmallow<4.0.0,>=3.18.0 in /usr/local/lib/python3.10/dist-packages (from dataclasses-json<0.7,>=0.5.7->langchain-community) (3.24.2)\n",
      "Requirement already satisfied: typing-inspect<1,>=0.4.0 in /usr/local/lib/python3.10/dist-packages (from dataclasses-json<0.7,>=0.5.7->langchain-community) (0.9.0)\n",
      "Requirement already satisfied: langchain-text-splitters<0.4.0,>=0.3.3 in /usr/local/lib/python3.10/dist-packages (from langchain<0.4.0,>=0.3.15->langchain-community) (0.3.3)\n",
      "Requirement already satisfied: pydantic<3.0.0,>=2.7.4 in /usr/local/lib/python3.10/dist-packages (from langchain<0.4.0,>=0.3.15->langchain-community) (2.10.3)\n",
      "Requirement already satisfied: jsonpatch<2.0,>=1.33 in /usr/local/lib/python3.10/dist-packages (from langchain-core<0.4.0,>=0.3.31->langchain-community) (1.33)\n",
      "Requirement already satisfied: packaging<25,>=23.2 in /usr/local/lib/python3.10/dist-packages (from langchain-core<0.4.0,>=0.3.31->langchain-community) (24.2)\n",
      "Requirement already satisfied: typing-extensions>=4.7 in /usr/local/lib/python3.10/dist-packages (from langchain-core<0.4.0,>=0.3.31->langchain-community) (4.12.2)\n",
      "Requirement already satisfied: httpx<1,>=0.23.0 in /usr/local/lib/python3.10/dist-packages (from langsmith<0.4,>=0.1.125->langchain-community) (0.28.1)\n",
      "Requirement already satisfied: orjson<4.0.0,>=3.9.14 in /usr/local/lib/python3.10/dist-packages (from langsmith<0.4,>=0.1.125->langchain-community) (3.10.12)\n",
      "Requirement already satisfied: requests-toolbelt<2.0.0,>=1.0.0 in /usr/local/lib/python3.10/dist-packages (from langsmith<0.4,>=0.1.125->langchain-community) (1.0.0)\n",
      "Requirement already satisfied: mkl_fft in /usr/local/lib/python3.10/dist-packages (from numpy<2,>=1.22.4->langchain-community) (1.3.8)\n",
      "Requirement already satisfied: mkl_random in /usr/local/lib/python3.10/dist-packages (from numpy<2,>=1.22.4->langchain-community) (1.2.4)\n",
      "Requirement already satisfied: mkl_umath in /usr/local/lib/python3.10/dist-packages (from numpy<2,>=1.22.4->langchain-community) (0.1.1)\n",
      "Requirement already satisfied: mkl in /usr/local/lib/python3.10/dist-packages (from numpy<2,>=1.22.4->langchain-community) (2025.0.1)\n",
      "Requirement already satisfied: tbb4py in /usr/local/lib/python3.10/dist-packages (from numpy<2,>=1.22.4->langchain-community) (2022.0.0)\n",
      "Requirement already satisfied: mkl-service in /usr/local/lib/python3.10/dist-packages (from numpy<2,>=1.22.4->langchain-community) (2.4.1)\n",
      "Collecting python-dotenv>=0.21.0 (from pydantic-settings<3.0.0,>=2.4.0->langchain-community)\n",
      "  Downloading python_dotenv-1.0.1-py3-none-any.whl.metadata (23 kB)\n",
      "Requirement already satisfied: charset-normalizer<4,>=2 in /usr/local/lib/python3.10/dist-packages (from requests<3,>=2->langchain-community) (3.4.0)\n",
      "Requirement already satisfied: idna<4,>=2.5 in /usr/local/lib/python3.10/dist-packages (from requests<3,>=2->langchain-community) (3.10)\n",
      "Requirement already satisfied: urllib3<3,>=1.21.1 in /usr/local/lib/python3.10/dist-packages (from requests<3,>=2->langchain-community) (2.2.3)\n",
      "Requirement already satisfied: certifi>=2017.4.17 in /usr/local/lib/python3.10/dist-packages (from requests<3,>=2->langchain-community) (2024.12.14)\n",
      "Requirement already satisfied: greenlet!=0.4.17 in /usr/local/lib/python3.10/dist-packages (from SQLAlchemy<3,>=1.4->langchain-community) (3.1.1)\n",
      "Requirement already satisfied: anyio in /usr/local/lib/python3.10/dist-packages (from httpx<1,>=0.23.0->langsmith<0.4,>=0.1.125->langchain-community) (3.7.1)\n",
      "Requirement already satisfied: httpcore==1.* in /usr/local/lib/python3.10/dist-packages (from httpx<1,>=0.23.0->langsmith<0.4,>=0.1.125->langchain-community) (1.0.7)\n",
      "Requirement already satisfied: h11<0.15,>=0.13 in /usr/local/lib/python3.10/dist-packages (from httpcore==1.*->httpx<1,>=0.23.0->langsmith<0.4,>=0.1.125->langchain-community) (0.14.0)\n",
      "Requirement already satisfied: jsonpointer>=1.9 in /usr/local/lib/python3.10/dist-packages (from jsonpatch<2.0,>=1.33->langchain-core<0.4.0,>=0.3.31->langchain-community) (3.0.0)\n",
      "Requirement already satisfied: annotated-types>=0.6.0 in /usr/local/lib/python3.10/dist-packages (from pydantic<3.0.0,>=2.7.4->langchain<0.4.0,>=0.3.15->langchain-community) (0.7.0)\n",
      "Requirement already satisfied: pydantic-core==2.27.1 in /usr/local/lib/python3.10/dist-packages (from pydantic<3.0.0,>=2.7.4->langchain<0.4.0,>=0.3.15->langchain-community) (2.27.1)\n",
      "Requirement already satisfied: mypy-extensions>=0.3.0 in /usr/local/lib/python3.10/dist-packages (from typing-inspect<1,>=0.4.0->dataclasses-json<0.7,>=0.5.7->langchain-community) (1.0.0)\n",
      "Requirement already satisfied: intel-openmp>=2024 in /usr/local/lib/python3.10/dist-packages (from mkl->numpy<2,>=1.22.4->langchain-community) (2024.2.0)\n",
      "Requirement already satisfied: tbb==2022.* in /usr/local/lib/python3.10/dist-packages (from mkl->numpy<2,>=1.22.4->langchain-community) (2022.0.0)\n",
      "Requirement already satisfied: tcmlib==1.* in /usr/local/lib/python3.10/dist-packages (from tbb==2022.*->mkl->numpy<2,>=1.22.4->langchain-community) (1.2.0)\n",
      "Requirement already satisfied: intel-cmplr-lib-rt in /usr/local/lib/python3.10/dist-packages (from mkl_umath->numpy<2,>=1.22.4->langchain-community) (2024.2.0)\n",
      "Requirement already satisfied: intel-cmplr-lib-ur==2024.2.0 in /usr/local/lib/python3.10/dist-packages (from intel-openmp>=2024->mkl->numpy<2,>=1.22.4->langchain-community) (2024.2.0)\n",
      "Requirement already satisfied: sniffio>=1.1 in /usr/local/lib/python3.10/dist-packages (from anyio->httpx<1,>=0.23.0->langsmith<0.4,>=0.1.125->langchain-community) (1.3.1)\n",
      "Requirement already satisfied: exceptiongroup in /usr/local/lib/python3.10/dist-packages (from anyio->httpx<1,>=0.23.0->langsmith<0.4,>=0.1.125->langchain-community) (1.2.2)\n",
      "Downloading langchain_community-0.3.15-py3-none-any.whl (2.5 MB)\n",
      "\u001b[2K   \u001b[90m━━━━━━━━━━━━━━━━━━━━━━━━━━━━━━━━━━━━━━━━\u001b[0m \u001b[32m2.5/2.5 MB\u001b[0m \u001b[31m43.1 MB/s\u001b[0m eta \u001b[36m0:00:00\u001b[0m00:01\u001b[0m\n",
      "\u001b[?25hDownloading httpx_sse-0.4.0-py3-none-any.whl (7.8 kB)\n",
      "Downloading langchain-0.3.15-py3-none-any.whl (1.0 MB)\n",
      "\u001b[2K   \u001b[90m━━━━━━━━━━━━━━━━━━━━━━━━━━━━━━━━━━━━━━━━\u001b[0m \u001b[32m1.0/1.0 MB\u001b[0m \u001b[31m27.2 MB/s\u001b[0m eta \u001b[36m0:00:00\u001b[0m:00:01\u001b[0m\n",
      "\u001b[?25hDownloading langchain_core-0.3.31-py3-none-any.whl (412 kB)\n",
      "\u001b[2K   \u001b[90m━━━━━━━━━━━━━━━━━━━━━━━━━━━━━━━━━━━━━━━━\u001b[0m \u001b[32m412.2/412.2 kB\u001b[0m \u001b[31m14.3 MB/s\u001b[0m eta \u001b[36m0:00:00\u001b[0m\n",
      "\u001b[?25hDownloading pydantic_settings-2.7.1-py3-none-any.whl (29 kB)\n",
      "Downloading python_dotenv-1.0.1-py3-none-any.whl (19 kB)\n",
      "Installing collected packages: python-dotenv, httpx-sse, pydantic-settings, langchain-core, langchain, langchain-community\n",
      "  Attempting uninstall: langchain-core\n",
      "    Found existing installation: langchain-core 0.3.25\n",
      "    Uninstalling langchain-core-0.3.25:\n",
      "      Successfully uninstalled langchain-core-0.3.25\n",
      "  Attempting uninstall: langchain\n",
      "    Found existing installation: langchain 0.3.12\n",
      "    Uninstalling langchain-0.3.12:\n",
      "      Successfully uninstalled langchain-0.3.12\n",
      "Successfully installed httpx-sse-0.4.0 langchain-0.3.15 langchain-community-0.3.15 langchain-core-0.3.31 pydantic-settings-2.7.1 python-dotenv-1.0.1\n"
     ]
    }
   ],
   "source": [
    "!pip install langchain\n",
    "!pip install openai\n",
    "!pip install tiktoken\n",
    "!pip install pypdf\n",
    "!pip install langchain-community"
   ]
  },
  {
   "cell_type": "code",
   "execution_count": 2,
   "metadata": {
    "execution": {
     "iopub.execute_input": "2025-01-21T13:58:57.037156Z",
     "iopub.status.busy": "2025-01-21T13:58:57.036723Z",
     "iopub.status.idle": "2025-01-21T13:59:39.857070Z",
     "shell.execute_reply": "2025-01-21T13:59:39.855337Z",
     "shell.execute_reply.started": "2025-01-21T13:58:57.037113Z"
    }
   },
   "outputs": [
    {
     "name": "stdout",
     "output_type": "stream",
     "text": [
      "Collecting chromadb\n",
      "  Downloading chromadb-0.6.3-py3-none-any.whl.metadata (6.8 kB)\n",
      "Collecting build>=1.0.3 (from chromadb)\n",
      "  Downloading build-1.2.2.post1-py3-none-any.whl.metadata (6.5 kB)\n",
      "Requirement already satisfied: pydantic>=1.9 in /usr/local/lib/python3.10/dist-packages (from chromadb) (2.10.3)\n",
      "Collecting chroma-hnswlib==0.7.6 (from chromadb)\n",
      "  Downloading chroma_hnswlib-0.7.6-cp310-cp310-manylinux_2_17_x86_64.manylinux2014_x86_64.whl.metadata (252 bytes)\n",
      "Collecting fastapi>=0.95.2 (from chromadb)\n",
      "  Downloading fastapi-0.115.6-py3-none-any.whl.metadata (27 kB)\n",
      "Collecting uvicorn>=0.18.3 (from uvicorn[standard]>=0.18.3->chromadb)\n",
      "  Downloading uvicorn-0.34.0-py3-none-any.whl.metadata (6.5 kB)\n",
      "Requirement already satisfied: numpy>=1.22.5 in /usr/local/lib/python3.10/dist-packages (from chromadb) (1.26.4)\n",
      "Collecting posthog>=2.4.0 (from chromadb)\n",
      "  Downloading posthog-3.8.4-py2.py3-none-any.whl.metadata (2.8 kB)\n",
      "Requirement already satisfied: typing_extensions>=4.5.0 in /usr/local/lib/python3.10/dist-packages (from chromadb) (4.12.2)\n",
      "Collecting onnxruntime>=1.14.1 (from chromadb)\n",
      "  Downloading onnxruntime-1.20.1-cp310-cp310-manylinux_2_27_x86_64.manylinux_2_28_x86_64.whl.metadata (4.5 kB)\n",
      "Requirement already satisfied: opentelemetry-api>=1.2.0 in /usr/local/lib/python3.10/dist-packages (from chromadb) (1.29.0)\n",
      "Collecting opentelemetry-exporter-otlp-proto-grpc>=1.2.0 (from chromadb)\n",
      "  Downloading opentelemetry_exporter_otlp_proto_grpc-1.29.0-py3-none-any.whl.metadata (2.2 kB)\n",
      "Collecting opentelemetry-instrumentation-fastapi>=0.41b0 (from chromadb)\n",
      "  Downloading opentelemetry_instrumentation_fastapi-0.50b0-py3-none-any.whl.metadata (2.1 kB)\n",
      "Requirement already satisfied: opentelemetry-sdk>=1.2.0 in /usr/local/lib/python3.10/dist-packages (from chromadb) (1.29.0)\n",
      "Requirement already satisfied: tokenizers>=0.13.2 in /usr/local/lib/python3.10/dist-packages (from chromadb) (0.21.0)\n",
      "Collecting pypika>=0.48.9 (from chromadb)\n",
      "  Downloading PyPika-0.48.9.tar.gz (67 kB)\n",
      "\u001b[2K     \u001b[90m━━━━━━━━━━━━━━━━━━━━━━━━━━━━━━━━━━━━━━━━\u001b[0m \u001b[32m67.3/67.3 kB\u001b[0m \u001b[31m2.5 MB/s\u001b[0m eta \u001b[36m0:00:00\u001b[0m\n",
      "\u001b[?25h  Installing build dependencies ... \u001b[?25l\u001b[?25hdone\n",
      "  Getting requirements to build wheel ... \u001b[?25l\u001b[?25hdone\n",
      "  Preparing metadata (pyproject.toml) ... \u001b[?25l\u001b[?25hdone\n",
      "Requirement already satisfied: tqdm>=4.65.0 in /usr/local/lib/python3.10/dist-packages (from chromadb) (4.67.1)\n",
      "Requirement already satisfied: overrides>=7.3.1 in /usr/local/lib/python3.10/dist-packages (from chromadb) (7.7.0)\n",
      "Requirement already satisfied: importlib-resources in /usr/local/lib/python3.10/dist-packages (from chromadb) (6.4.5)\n",
      "Requirement already satisfied: grpcio>=1.58.0 in /usr/local/lib/python3.10/dist-packages (from chromadb) (1.68.1)\n",
      "Collecting bcrypt>=4.0.1 (from chromadb)\n",
      "  Downloading bcrypt-4.2.1-cp39-abi3-manylinux_2_28_x86_64.whl.metadata (9.8 kB)\n",
      "Requirement already satisfied: typer>=0.9.0 in /usr/local/lib/python3.10/dist-packages (from chromadb) (0.15.1)\n",
      "Collecting kubernetes>=28.1.0 (from chromadb)\n",
      "  Downloading kubernetes-31.0.0-py2.py3-none-any.whl.metadata (1.5 kB)\n",
      "Requirement already satisfied: tenacity>=8.2.3 in /usr/local/lib/python3.10/dist-packages (from chromadb) (9.0.0)\n",
      "Requirement already satisfied: PyYAML>=6.0.0 in /usr/local/lib/python3.10/dist-packages (from chromadb) (6.0.2)\n",
      "Collecting mmh3>=4.0.1 (from chromadb)\n",
      "  Downloading mmh3-5.0.1-cp310-cp310-manylinux_2_5_x86_64.manylinux1_x86_64.manylinux_2_17_x86_64.manylinux2014_x86_64.whl.metadata (14 kB)\n",
      "Requirement already satisfied: orjson>=3.9.12 in /usr/local/lib/python3.10/dist-packages (from chromadb) (3.10.12)\n",
      "Requirement already satisfied: httpx>=0.27.0 in /usr/local/lib/python3.10/dist-packages (from chromadb) (0.28.1)\n",
      "Requirement already satisfied: rich>=10.11.0 in /usr/local/lib/python3.10/dist-packages (from chromadb) (13.9.4)\n",
      "Requirement already satisfied: packaging>=19.1 in /usr/local/lib/python3.10/dist-packages (from build>=1.0.3->chromadb) (24.2)\n",
      "Collecting pyproject_hooks (from build>=1.0.3->chromadb)\n",
      "  Downloading pyproject_hooks-1.2.0-py3-none-any.whl.metadata (1.3 kB)\n",
      "Requirement already satisfied: tomli>=1.1.0 in /usr/local/lib/python3.10/dist-packages (from build>=1.0.3->chromadb) (2.2.1)\n",
      "Collecting starlette<0.42.0,>=0.40.0 (from fastapi>=0.95.2->chromadb)\n",
      "  Downloading starlette-0.41.3-py3-none-any.whl.metadata (6.0 kB)\n",
      "Requirement already satisfied: anyio in /usr/local/lib/python3.10/dist-packages (from httpx>=0.27.0->chromadb) (3.7.1)\n",
      "Requirement already satisfied: certifi in /usr/local/lib/python3.10/dist-packages (from httpx>=0.27.0->chromadb) (2024.12.14)\n",
      "Requirement already satisfied: httpcore==1.* in /usr/local/lib/python3.10/dist-packages (from httpx>=0.27.0->chromadb) (1.0.7)\n",
      "Requirement already satisfied: idna in /usr/local/lib/python3.10/dist-packages (from httpx>=0.27.0->chromadb) (3.10)\n",
      "Requirement already satisfied: h11<0.15,>=0.13 in /usr/local/lib/python3.10/dist-packages (from httpcore==1.*->httpx>=0.27.0->chromadb) (0.14.0)\n",
      "Requirement already satisfied: six>=1.9.0 in /usr/local/lib/python3.10/dist-packages (from kubernetes>=28.1.0->chromadb) (1.17.0)\n",
      "Requirement already satisfied: python-dateutil>=2.5.3 in /usr/local/lib/python3.10/dist-packages (from kubernetes>=28.1.0->chromadb) (2.8.2)\n",
      "Requirement already satisfied: google-auth>=1.0.1 in /usr/local/lib/python3.10/dist-packages (from kubernetes>=28.1.0->chromadb) (2.27.0)\n",
      "Requirement already satisfied: websocket-client!=0.40.0,!=0.41.*,!=0.42.*,>=0.32.0 in /usr/local/lib/python3.10/dist-packages (from kubernetes>=28.1.0->chromadb) (1.8.0)\n",
      "Requirement already satisfied: requests in /usr/local/lib/python3.10/dist-packages (from kubernetes>=28.1.0->chromadb) (2.32.3)\n",
      "Requirement already satisfied: requests-oauthlib in /usr/local/lib/python3.10/dist-packages (from kubernetes>=28.1.0->chromadb) (1.3.1)\n",
      "Requirement already satisfied: oauthlib>=3.2.2 in /usr/local/lib/python3.10/dist-packages (from kubernetes>=28.1.0->chromadb) (3.2.2)\n",
      "Requirement already satisfied: urllib3>=1.24.2 in /usr/local/lib/python3.10/dist-packages (from kubernetes>=28.1.0->chromadb) (2.2.3)\n",
      "Collecting durationpy>=0.7 (from kubernetes>=28.1.0->chromadb)\n",
      "  Downloading durationpy-0.9-py3-none-any.whl.metadata (338 bytes)\n",
      "Requirement already satisfied: mkl_fft in /usr/local/lib/python3.10/dist-packages (from numpy>=1.22.5->chromadb) (1.3.8)\n",
      "Requirement already satisfied: mkl_random in /usr/local/lib/python3.10/dist-packages (from numpy>=1.22.5->chromadb) (1.2.4)\n",
      "Requirement already satisfied: mkl_umath in /usr/local/lib/python3.10/dist-packages (from numpy>=1.22.5->chromadb) (0.1.1)\n",
      "Requirement already satisfied: mkl in /usr/local/lib/python3.10/dist-packages (from numpy>=1.22.5->chromadb) (2025.0.1)\n",
      "Requirement already satisfied: tbb4py in /usr/local/lib/python3.10/dist-packages (from numpy>=1.22.5->chromadb) (2022.0.0)\n",
      "Requirement already satisfied: mkl-service in /usr/local/lib/python3.10/dist-packages (from numpy>=1.22.5->chromadb) (2.4.1)\n",
      "Collecting coloredlogs (from onnxruntime>=1.14.1->chromadb)\n",
      "  Downloading coloredlogs-15.0.1-py2.py3-none-any.whl.metadata (12 kB)\n",
      "Requirement already satisfied: flatbuffers in /usr/local/lib/python3.10/dist-packages (from onnxruntime>=1.14.1->chromadb) (24.3.25)\n",
      "Requirement already satisfied: protobuf in /usr/local/lib/python3.10/dist-packages (from onnxruntime>=1.14.1->chromadb) (3.20.3)\n",
      "Requirement already satisfied: sympy in /usr/local/lib/python3.10/dist-packages (from onnxruntime>=1.14.1->chromadb) (1.13.1)\n",
      "Requirement already satisfied: deprecated>=1.2.6 in /usr/local/lib/python3.10/dist-packages (from opentelemetry-api>=1.2.0->chromadb) (1.2.15)\n",
      "Requirement already satisfied: importlib-metadata<=8.5.0,>=6.0 in /usr/local/lib/python3.10/dist-packages (from opentelemetry-api>=1.2.0->chromadb) (8.5.0)\n",
      "Requirement already satisfied: googleapis-common-protos~=1.52 in /usr/local/lib/python3.10/dist-packages (from opentelemetry-exporter-otlp-proto-grpc>=1.2.0->chromadb) (1.66.0)\n",
      "Collecting opentelemetry-exporter-otlp-proto-common==1.29.0 (from opentelemetry-exporter-otlp-proto-grpc>=1.2.0->chromadb)\n",
      "  Downloading opentelemetry_exporter_otlp_proto_common-1.29.0-py3-none-any.whl.metadata (1.8 kB)\n",
      "Collecting opentelemetry-proto==1.29.0 (from opentelemetry-exporter-otlp-proto-grpc>=1.2.0->chromadb)\n",
      "  Downloading opentelemetry_proto-1.29.0-py3-none-any.whl.metadata (2.3 kB)\n",
      "Collecting protobuf (from onnxruntime>=1.14.1->chromadb)\n",
      "  Downloading protobuf-5.29.3-cp38-abi3-manylinux2014_x86_64.whl.metadata (592 bytes)\n",
      "Collecting opentelemetry-instrumentation-asgi==0.50b0 (from opentelemetry-instrumentation-fastapi>=0.41b0->chromadb)\n",
      "  Downloading opentelemetry_instrumentation_asgi-0.50b0-py3-none-any.whl.metadata (1.9 kB)\n",
      "Collecting opentelemetry-instrumentation==0.50b0 (from opentelemetry-instrumentation-fastapi>=0.41b0->chromadb)\n",
      "  Downloading opentelemetry_instrumentation-0.50b0-py3-none-any.whl.metadata (6.1 kB)\n",
      "Requirement already satisfied: opentelemetry-semantic-conventions==0.50b0 in /usr/local/lib/python3.10/dist-packages (from opentelemetry-instrumentation-fastapi>=0.41b0->chromadb) (0.50b0)\n",
      "Collecting opentelemetry-util-http==0.50b0 (from opentelemetry-instrumentation-fastapi>=0.41b0->chromadb)\n",
      "  Downloading opentelemetry_util_http-0.50b0-py3-none-any.whl.metadata (2.5 kB)\n",
      "Requirement already satisfied: wrapt<2.0.0,>=1.0.0 in /usr/local/lib/python3.10/dist-packages (from opentelemetry-instrumentation==0.50b0->opentelemetry-instrumentation-fastapi>=0.41b0->chromadb) (1.17.0)\n",
      "Collecting asgiref~=3.0 (from opentelemetry-instrumentation-asgi==0.50b0->opentelemetry-instrumentation-fastapi>=0.41b0->chromadb)\n",
      "  Downloading asgiref-3.8.1-py3-none-any.whl.metadata (9.3 kB)\n",
      "Collecting monotonic>=1.5 (from posthog>=2.4.0->chromadb)\n",
      "  Downloading monotonic-1.6-py2.py3-none-any.whl.metadata (1.5 kB)\n",
      "Collecting backoff>=1.10.0 (from posthog>=2.4.0->chromadb)\n",
      "  Downloading backoff-2.2.1-py3-none-any.whl.metadata (14 kB)\n",
      "Requirement already satisfied: annotated-types>=0.6.0 in /usr/local/lib/python3.10/dist-packages (from pydantic>=1.9->chromadb) (0.7.0)\n",
      "Requirement already satisfied: pydantic-core==2.27.1 in /usr/local/lib/python3.10/dist-packages (from pydantic>=1.9->chromadb) (2.27.1)\n",
      "Requirement already satisfied: markdown-it-py>=2.2.0 in /usr/local/lib/python3.10/dist-packages (from rich>=10.11.0->chromadb) (3.0.0)\n",
      "Requirement already satisfied: pygments<3.0.0,>=2.13.0 in /usr/local/lib/python3.10/dist-packages (from rich>=10.11.0->chromadb) (2.18.0)\n",
      "Requirement already satisfied: huggingface-hub<1.0,>=0.16.4 in /usr/local/lib/python3.10/dist-packages (from tokenizers>=0.13.2->chromadb) (0.27.0)\n",
      "Requirement already satisfied: click>=8.0.0 in /usr/local/lib/python3.10/dist-packages (from typer>=0.9.0->chromadb) (8.1.7)\n",
      "Requirement already satisfied: shellingham>=1.3.0 in /usr/local/lib/python3.10/dist-packages (from typer>=0.9.0->chromadb) (1.5.4)\n",
      "Collecting httptools>=0.6.3 (from uvicorn[standard]>=0.18.3->chromadb)\n",
      "  Downloading httptools-0.6.4-cp310-cp310-manylinux_2_5_x86_64.manylinux1_x86_64.manylinux_2_17_x86_64.manylinux2014_x86_64.whl.metadata (3.6 kB)\n",
      "Requirement already satisfied: python-dotenv>=0.13 in /usr/local/lib/python3.10/dist-packages (from uvicorn[standard]>=0.18.3->chromadb) (1.0.1)\n",
      "Collecting uvloop!=0.15.0,!=0.15.1,>=0.14.0 (from uvicorn[standard]>=0.18.3->chromadb)\n",
      "  Downloading uvloop-0.21.0-cp310-cp310-manylinux_2_17_x86_64.manylinux2014_x86_64.whl.metadata (4.9 kB)\n",
      "Collecting watchfiles>=0.13 (from uvicorn[standard]>=0.18.3->chromadb)\n",
      "  Downloading watchfiles-1.0.4-cp310-cp310-manylinux_2_17_x86_64.manylinux2014_x86_64.whl.metadata (4.9 kB)\n",
      "Requirement already satisfied: websockets>=10.4 in /usr/local/lib/python3.10/dist-packages (from uvicorn[standard]>=0.18.3->chromadb) (14.1)\n",
      "Requirement already satisfied: cachetools<6.0,>=2.0.0 in /usr/local/lib/python3.10/dist-packages (from google-auth>=1.0.1->kubernetes>=28.1.0->chromadb) (5.5.0)\n",
      "Requirement already satisfied: pyasn1-modules>=0.2.1 in /usr/local/lib/python3.10/dist-packages (from google-auth>=1.0.1->kubernetes>=28.1.0->chromadb) (0.4.1)\n",
      "Requirement already satisfied: rsa<5,>=3.1.4 in /usr/local/lib/python3.10/dist-packages (from google-auth>=1.0.1->kubernetes>=28.1.0->chromadb) (4.9)\n",
      "Requirement already satisfied: filelock in /usr/local/lib/python3.10/dist-packages (from huggingface-hub<1.0,>=0.16.4->tokenizers>=0.13.2->chromadb) (3.16.1)\n",
      "Requirement already satisfied: fsspec>=2023.5.0 in /usr/local/lib/python3.10/dist-packages (from huggingface-hub<1.0,>=0.16.4->tokenizers>=0.13.2->chromadb) (2024.9.0)\n",
      "Requirement already satisfied: zipp>=3.20 in /usr/local/lib/python3.10/dist-packages (from importlib-metadata<=8.5.0,>=6.0->opentelemetry-api>=1.2.0->chromadb) (3.21.0)\n",
      "Requirement already satisfied: mdurl~=0.1 in /usr/local/lib/python3.10/dist-packages (from markdown-it-py>=2.2.0->rich>=10.11.0->chromadb) (0.1.2)\n",
      "Requirement already satisfied: charset-normalizer<4,>=2 in /usr/local/lib/python3.10/dist-packages (from requests->kubernetes>=28.1.0->chromadb) (3.4.0)\n",
      "Requirement already satisfied: sniffio>=1.1 in /usr/local/lib/python3.10/dist-packages (from anyio->httpx>=0.27.0->chromadb) (1.3.1)\n",
      "Requirement already satisfied: exceptiongroup in /usr/local/lib/python3.10/dist-packages (from anyio->httpx>=0.27.0->chromadb) (1.2.2)\n",
      "Collecting humanfriendly>=9.1 (from coloredlogs->onnxruntime>=1.14.1->chromadb)\n",
      "  Downloading humanfriendly-10.0-py2.py3-none-any.whl.metadata (9.2 kB)\n",
      "Requirement already satisfied: intel-openmp>=2024 in /usr/local/lib/python3.10/dist-packages (from mkl->numpy>=1.22.5->chromadb) (2024.2.0)\n",
      "Requirement already satisfied: tbb==2022.* in /usr/local/lib/python3.10/dist-packages (from mkl->numpy>=1.22.5->chromadb) (2022.0.0)\n",
      "Requirement already satisfied: tcmlib==1.* in /usr/local/lib/python3.10/dist-packages (from tbb==2022.*->mkl->numpy>=1.22.5->chromadb) (1.2.0)\n",
      "Requirement already satisfied: intel-cmplr-lib-rt in /usr/local/lib/python3.10/dist-packages (from mkl_umath->numpy>=1.22.5->chromadb) (2024.2.0)\n",
      "Requirement already satisfied: mpmath<1.4,>=1.1.0 in /usr/local/lib/python3.10/dist-packages (from sympy->onnxruntime>=1.14.1->chromadb) (1.3.0)\n",
      "Requirement already satisfied: intel-cmplr-lib-ur==2024.2.0 in /usr/local/lib/python3.10/dist-packages (from intel-openmp>=2024->mkl->numpy>=1.22.5->chromadb) (2024.2.0)\n",
      "Requirement already satisfied: pyasn1<0.7.0,>=0.4.6 in /usr/local/lib/python3.10/dist-packages (from pyasn1-modules>=0.2.1->google-auth>=1.0.1->kubernetes>=28.1.0->chromadb) (0.6.1)\n",
      "Downloading chromadb-0.6.3-py3-none-any.whl (611 kB)\n",
      "\u001b[2K   \u001b[90m━━━━━━━━━━━━━━━━━━━━━━━━━━━━━━━━━━━━━━━━\u001b[0m \u001b[32m611.1/611.1 kB\u001b[0m \u001b[31m15.6 MB/s\u001b[0m eta \u001b[36m0:00:00\u001b[0m00:01\u001b[0m\n",
      "\u001b[?25hDownloading chroma_hnswlib-0.7.6-cp310-cp310-manylinux_2_17_x86_64.manylinux2014_x86_64.whl (2.4 MB)\n",
      "\u001b[2K   \u001b[90m━━━━━━━━━━━━━━━━━━━━━━━━━━━━━━━━━━━━━━━━\u001b[0m \u001b[32m2.4/2.4 MB\u001b[0m \u001b[31m51.4 MB/s\u001b[0m eta \u001b[36m0:00:00\u001b[0m:00:01\u001b[0m\n",
      "\u001b[?25hDownloading bcrypt-4.2.1-cp39-abi3-manylinux_2_28_x86_64.whl (278 kB)\n",
      "\u001b[2K   \u001b[90m━━━━━━━━━━━━━━━━━━━━━━━━━━━━━━━━━━━━━━━━\u001b[0m \u001b[32m278.6/278.6 kB\u001b[0m \u001b[31m11.3 MB/s\u001b[0m eta \u001b[36m0:00:00\u001b[0m\n",
      "\u001b[?25hDownloading build-1.2.2.post1-py3-none-any.whl (22 kB)\n",
      "Downloading fastapi-0.115.6-py3-none-any.whl (94 kB)\n",
      "\u001b[2K   \u001b[90m━━━━━━━━━━━━━━━━━━━━━━━━━━━━━━━━━━━━━━━━\u001b[0m \u001b[32m94.8/94.8 kB\u001b[0m \u001b[31m4.1 MB/s\u001b[0m eta \u001b[36m0:00:00\u001b[0m\n",
      "\u001b[?25hDownloading kubernetes-31.0.0-py2.py3-none-any.whl (1.9 MB)\n",
      "\u001b[2K   \u001b[90m━━━━━━━━━━━━━━━━━━━━━━━━━━━━━━━━━━━━━━━━\u001b[0m \u001b[32m1.9/1.9 MB\u001b[0m \u001b[31m48.3 MB/s\u001b[0m eta \u001b[36m0:00:00\u001b[0m:00:01\u001b[0m\n",
      "\u001b[?25hDownloading mmh3-5.0.1-cp310-cp310-manylinux_2_5_x86_64.manylinux1_x86_64.manylinux_2_17_x86_64.manylinux2014_x86_64.whl (93 kB)\n",
      "\u001b[2K   \u001b[90m━━━━━━━━━━━━━━━━━━━━━━━━━━━━━━━━━━━━━━━━\u001b[0m \u001b[32m93.2/93.2 kB\u001b[0m \u001b[31m4.3 MB/s\u001b[0m eta \u001b[36m0:00:00\u001b[0m\n",
      "\u001b[?25hDownloading onnxruntime-1.20.1-cp310-cp310-manylinux_2_27_x86_64.manylinux_2_28_x86_64.whl (13.3 MB)\n",
      "\u001b[2K   \u001b[90m━━━━━━━━━━━━━━━━━━━━━━━━━━━━━━━━━━━━━━━━\u001b[0m \u001b[32m13.3/13.3 MB\u001b[0m \u001b[31m75.5 MB/s\u001b[0m eta \u001b[36m0:00:00\u001b[0m:00:01\u001b[0m00:01\u001b[0m\n",
      "\u001b[?25hDownloading opentelemetry_exporter_otlp_proto_grpc-1.29.0-py3-none-any.whl (18 kB)\n",
      "Downloading opentelemetry_exporter_otlp_proto_common-1.29.0-py3-none-any.whl (18 kB)\n",
      "Downloading opentelemetry_proto-1.29.0-py3-none-any.whl (55 kB)\n",
      "\u001b[2K   \u001b[90m━━━━━━━━━━━━━━━━━━━━━━━━━━━━━━━━━━━━━━━━\u001b[0m \u001b[32m55.8/55.8 kB\u001b[0m \u001b[31m2.3 MB/s\u001b[0m eta \u001b[36m0:00:00\u001b[0m\n",
      "\u001b[?25hDownloading opentelemetry_instrumentation_fastapi-0.50b0-py3-none-any.whl (12 kB)\n",
      "Downloading opentelemetry_instrumentation-0.50b0-py3-none-any.whl (30 kB)\n",
      "Downloading opentelemetry_instrumentation_asgi-0.50b0-py3-none-any.whl (16 kB)\n",
      "Downloading opentelemetry_util_http-0.50b0-py3-none-any.whl (6.9 kB)\n",
      "Downloading posthog-3.8.4-py2.py3-none-any.whl (69 kB)\n",
      "\u001b[2K   \u001b[90m━━━━━━━━━━━━━━━━━━━━━━━━━━━━━━━━━━━━━━━━\u001b[0m \u001b[32m69.8/69.8 kB\u001b[0m \u001b[31m3.3 MB/s\u001b[0m eta \u001b[36m0:00:00\u001b[0m\n",
      "\u001b[?25hDownloading uvicorn-0.34.0-py3-none-any.whl (62 kB)\n",
      "\u001b[2K   \u001b[90m━━━━━━━━━━━━━━━━━━━━━━━━━━━━━━━━━━━━━━━━\u001b[0m \u001b[32m62.3/62.3 kB\u001b[0m \u001b[31m2.8 MB/s\u001b[0m eta \u001b[36m0:00:00\u001b[0m\n",
      "\u001b[?25hDownloading backoff-2.2.1-py3-none-any.whl (15 kB)\n",
      "Downloading durationpy-0.9-py3-none-any.whl (3.5 kB)\n",
      "Downloading httptools-0.6.4-cp310-cp310-manylinux_2_5_x86_64.manylinux1_x86_64.manylinux_2_17_x86_64.manylinux2014_x86_64.whl (442 kB)\n",
      "\u001b[2K   \u001b[90m━━━━━━━━━━━━━━━━━━━━━━━━━━━━━━━━━━━━━━━━\u001b[0m \u001b[32m442.1/442.1 kB\u001b[0m \u001b[31m17.9 MB/s\u001b[0m eta \u001b[36m0:00:00\u001b[0m\n",
      "\u001b[?25hDownloading monotonic-1.6-py2.py3-none-any.whl (8.2 kB)\n",
      "Downloading protobuf-5.29.3-cp38-abi3-manylinux2014_x86_64.whl (319 kB)\n",
      "\u001b[2K   \u001b[90m━━━━━━━━━━━━━━━━━━━━━━━━━━━━━━━━━━━━━━━━\u001b[0m \u001b[32m319.7/319.7 kB\u001b[0m \u001b[31m14.0 MB/s\u001b[0m eta \u001b[36m0:00:00\u001b[0m\n",
      "\u001b[?25hDownloading starlette-0.41.3-py3-none-any.whl (73 kB)\n",
      "\u001b[2K   \u001b[90m━━━━━━━━━━━━━━━━━━━━━━━━━━━━━━━━━━━━━━━━\u001b[0m \u001b[32m73.2/73.2 kB\u001b[0m \u001b[31m3.1 MB/s\u001b[0m eta \u001b[36m0:00:00\u001b[0m\n",
      "\u001b[?25hDownloading uvloop-0.21.0-cp310-cp310-manylinux_2_17_x86_64.manylinux2014_x86_64.whl (3.8 MB)\n",
      "\u001b[2K   \u001b[90m━━━━━━━━━━━━━━━━━━━━━━━━━━━━━━━━━━━━━━━━\u001b[0m \u001b[32m3.8/3.8 MB\u001b[0m \u001b[31m29.3 MB/s\u001b[0m eta \u001b[36m0:00:00\u001b[0m00:01\u001b[0m:00:01\u001b[0m\n",
      "\u001b[?25hDownloading watchfiles-1.0.4-cp310-cp310-manylinux_2_17_x86_64.manylinux2014_x86_64.whl (452 kB)\n",
      "\u001b[2K   \u001b[90m━━━━━━━━━━━━━━━━━━━━━━━━━━━━━━━━━━━━━━━━\u001b[0m \u001b[32m452.9/452.9 kB\u001b[0m \u001b[31m18.4 MB/s\u001b[0m eta \u001b[36m0:00:00\u001b[0m\n",
      "\u001b[?25hDownloading coloredlogs-15.0.1-py2.py3-none-any.whl (46 kB)\n",
      "\u001b[2K   \u001b[90m━━━━━━━━━━━━━━━━━━━━━━━━━━━━━━━━━━━━━━━━\u001b[0m \u001b[32m46.0/46.0 kB\u001b[0m \u001b[31m2.0 MB/s\u001b[0m eta \u001b[36m0:00:00\u001b[0m\n",
      "\u001b[?25hDownloading pyproject_hooks-1.2.0-py3-none-any.whl (10 kB)\n",
      "Downloading asgiref-3.8.1-py3-none-any.whl (23 kB)\n",
      "Downloading humanfriendly-10.0-py2.py3-none-any.whl (86 kB)\n",
      "\u001b[2K   \u001b[90m━━━━━━━━━━━━━━━━━━━━━━━━━━━━━━━━━━━━━━━━\u001b[0m \u001b[32m86.8/86.8 kB\u001b[0m \u001b[31m3.9 MB/s\u001b[0m eta \u001b[36m0:00:00\u001b[0m\n",
      "\u001b[?25hBuilding wheels for collected packages: pypika\n",
      "  Building wheel for pypika (pyproject.toml) ... \u001b[?25l\u001b[?25hdone\n",
      "  Created wheel for pypika: filename=PyPika-0.48.9-py2.py3-none-any.whl size=53771 sha256=b341f41979ae559d9c89f09d0fcafc3dd347154e8cb0e3df9ec13d15b0de0067\n",
      "  Stored in directory: /root/.cache/pip/wheels/e1/26/51/d0bffb3d2fd82256676d7ad3003faea3bd6dddc9577af665f4\n",
      "Successfully built pypika\n",
      "Installing collected packages: pypika, monotonic, durationpy, uvloop, uvicorn, pyproject_hooks, protobuf, opentelemetry-util-http, mmh3, humanfriendly, httptools, bcrypt, backoff, asgiref, watchfiles, starlette, posthog, opentelemetry-proto, coloredlogs, build, opentelemetry-exporter-otlp-proto-common, kubernetes, fastapi, opentelemetry-instrumentation, opentelemetry-instrumentation-asgi, opentelemetry-exporter-otlp-proto-grpc, opentelemetry-instrumentation-fastapi, onnxruntime, chroma-hnswlib, chromadb\n",
      "  Attempting uninstall: protobuf\n",
      "    Found existing installation: protobuf 3.20.3\n",
      "    Uninstalling protobuf-3.20.3:\n",
      "      Successfully uninstalled protobuf-3.20.3\n",
      "\u001b[31mERROR: pip's dependency resolver does not currently take into account all the packages that are installed. This behaviour is the source of the following dependency conflicts.\n",
      "google-api-core 1.34.1 requires protobuf!=3.20.0,!=3.20.1,!=4.21.0,!=4.21.1,!=4.21.2,!=4.21.3,!=4.21.4,!=4.21.5,<4.0.0dev,>=3.19.5, but you have protobuf 5.29.3 which is incompatible.\n",
      "google-cloud-bigtable 2.27.0 requires google-api-core[grpc]<3.0.0dev,>=2.16.0, but you have google-api-core 1.34.1 which is incompatible.\n",
      "google-cloud-translate 3.12.1 requires protobuf!=3.20.0,!=3.20.1,!=4.21.0,!=4.21.1,!=4.21.2,!=4.21.3,!=4.21.4,!=4.21.5,<5.0.0dev,>=3.19.5, but you have protobuf 5.29.3 which is incompatible.\n",
      "pandas-gbq 0.25.0 requires google-api-core<3.0.0dev,>=2.10.2, but you have google-api-core 1.34.1 which is incompatible.\n",
      "tensorflow 2.17.1 requires protobuf!=4.21.0,!=4.21.1,!=4.21.2,!=4.21.3,!=4.21.4,!=4.21.5,<5.0.0dev,>=3.20.3, but you have protobuf 5.29.3 which is incompatible.\n",
      "tensorflow-decision-forests 1.10.0 requires tensorflow==2.17.0, but you have tensorflow 2.17.1 which is incompatible.\n",
      "tensorflow-metadata 1.13.1 requires protobuf<5,>=3.20.3, but you have protobuf 5.29.3 which is incompatible.\u001b[0m\u001b[31m\n",
      "\u001b[0mSuccessfully installed asgiref-3.8.1 backoff-2.2.1 bcrypt-4.2.1 build-1.2.2.post1 chroma-hnswlib-0.7.6 chromadb-0.6.3 coloredlogs-15.0.1 durationpy-0.9 fastapi-0.115.6 httptools-0.6.4 humanfriendly-10.0 kubernetes-31.0.0 mmh3-5.0.1 monotonic-1.6 onnxruntime-1.20.1 opentelemetry-exporter-otlp-proto-common-1.29.0 opentelemetry-exporter-otlp-proto-grpc-1.29.0 opentelemetry-instrumentation-0.50b0 opentelemetry-instrumentation-asgi-0.50b0 opentelemetry-instrumentation-fastapi-0.50b0 opentelemetry-proto-1.29.0 opentelemetry-util-http-0.50b0 posthog-3.8.4 protobuf-5.29.3 pypika-0.48.9 pyproject_hooks-1.2.0 starlette-0.41.3 uvicorn-0.34.0 uvloop-0.21.0 watchfiles-1.0.4\n"
     ]
    }
   ],
   "source": [
    "!pip install chromadb"
   ]
  },
  {
   "cell_type": "code",
   "execution_count": 3,
   "metadata": {
    "execution": {
     "iopub.execute_input": "2025-01-21T13:59:39.860064Z",
     "iopub.status.busy": "2025-01-21T13:59:39.859741Z",
     "iopub.status.idle": "2025-01-21T13:59:43.042363Z",
     "shell.execute_reply": "2025-01-21T13:59:43.041022Z",
     "shell.execute_reply.started": "2025-01-21T13:59:39.860038Z"
    }
   },
   "outputs": [],
   "source": [
    "import openai\n",
    "from langchain.document_loaders import PyPDFLoader, TextLoader, DirectoryLoader\n",
    "# converting documents into smaller chunks of token\n",
    "from langchain.text_splitter import RecursiveCharacterTextSplitter\n",
    "# Embeddings\n",
    "from langchain.embeddings import OpenAIEmbeddings\n",
    "# Storing and creating a persitance vectorized form of text\n",
    "from langchain.vectorstores import Chroma\n",
    "from langchain.chat_models import ChatOpenAI\n",
    "from langchain.chains import RetrievalQA\n",
    "from langchain.llms import OpenAI"
   ]
  },
  {
   "cell_type": "code",
   "execution_count": 4,
   "metadata": {
    "execution": {
     "iopub.execute_input": "2025-01-21T13:59:43.044778Z",
     "iopub.status.busy": "2025-01-21T13:59:43.044161Z",
     "iopub.status.idle": "2025-01-21T13:59:43.050884Z",
     "shell.execute_reply": "2025-01-21T13:59:43.049274Z",
     "shell.execute_reply.started": "2025-01-21T13:59:43.044745Z"
    }
   },
   "outputs": [],
   "source": [
    "import warnings\n",
    "warnings.filterwarnings('ignore')"
   ]
  },
  {
   "cell_type": "markdown",
   "metadata": {},
   "source": [
    "#### Read the data from directory and create a document"
   ]
  },
  {
   "cell_type": "code",
   "execution_count": 5,
   "metadata": {
    "execution": {
     "iopub.execute_input": "2025-01-21T13:59:43.053175Z",
     "iopub.status.busy": "2025-01-21T13:59:43.052643Z",
     "iopub.status.idle": "2025-01-21T13:59:44.057386Z",
     "shell.execute_reply": "2025-01-21T13:59:44.055747Z",
     "shell.execute_reply.started": "2025-01-21T13:59:43.053129Z"
    }
   },
   "outputs": [],
   "source": [
    "doc_loader = PyPDFLoader('/kaggle/input/humanresourcehr-policy/humanresourcespolicy.pdf')\n",
    "documents = doc_loader.load()"
   ]
  },
  {
   "cell_type": "code",
   "execution_count": 6,
   "metadata": {
    "execution": {
     "iopub.execute_input": "2025-01-21T13:59:44.059139Z",
     "iopub.status.busy": "2025-01-21T13:59:44.058608Z",
     "iopub.status.idle": "2025-01-21T13:59:44.069394Z",
     "shell.execute_reply": "2025-01-21T13:59:44.067900Z",
     "shell.execute_reply.started": "2025-01-21T13:59:44.059110Z"
    }
   },
   "outputs": [
    {
     "data": {
      "text/plain": [
       "[Document(metadata={'source': '/kaggle/input/humanresourcehr-policy/humanresourcespolicy.pdf', 'page': 0, 'page_label': '1'}, page_content='The Nestlé Human Resources Policy\\n© October 2002, Nestec Ltd., Human Resources Department\\nConcept and design: Nestec Ltd., B-COM , Corporate Identity and Design, Vevey, Switzerland\\nPrinted by Neidhart + Schön AG, Zurich, Switzerland'),\n",
       " Document(metadata={'source': '/kaggle/input/humanresourcehr-policy/humanresourcespolicy.pdf', 'page': 1, 'page_label': '2'}, page_content='2 The Nestlé human Resources Policy\\n4 A shared Responsibility\\n5 Dealing with People\\n6 Joining Nestlé\\n8 Employment at Nestlé\\n9 Work/Life Balance\\n10 Remuneration\\n11 Professional Development\\n14 Industrial Relations\\n15 HR Organisation\\nThe Nestlé Human Resources Policy\\nTable of Contents'),\n",
       " Document(metadata={'source': '/kaggle/input/humanresourcehr-policy/humanresourcespolicy.pdf', 'page': 2, 'page_label': '3'}, page_content='The Nestlé\\nHuman Resources Policy'),\n",
       " Document(metadata={'source': '/kaggle/input/humanresourcehr-policy/humanresourcespolicy.pdf', 'page': 3, 'page_label': '4'}, page_content='3\\nThe Nestlé Human Resources Policy\\nThis policy encompasses those guidelines\\nwhich constitute a sound basis for efficient\\nand effective HR Management in the Nestlé\\nGroup around the world.\\nThey are in essence flexible and dynamic\\nand may require adjustment to a variety of\\ncircumstances. Therefore its implementation\\nwill be inspired by sound judgement,\\ncompliance with local market laws and\\ncommon sense, taking into account the\\nspecific context. Its spirit should be\\nrespected under all circumstances.\\nAs Nestlé is operating on a worldwide \\nbasis, it is essential that local legislation \\nand practices be respected everywhere.\\nAlso to be considered is the degree \\nof development of each market and its\\ncapacity to advance in the management \\nof their human resources.\\nShould any HR policy conflict with local\\nlegislation, local legislation will prevail.\\nThese policies are addressed to all those\\nwho have a responsibility in managing\\npeople as well as to HR professionals. \\nThe Nestlé Management and Leadership\\nPrinciples include the guidelines inspiring \\nall the Nestlé employees in their action \\nand in their dealings with others. The\\nCorporate Business Principles refer to all \\nthe basic principles which Nestlé endorses\\nand subscribes to on a worldwide basis.\\nBoth these documents are the pillars on\\nwhich the present policy has been built.\\nP. Brabeck-Letmathe\\nChief Executive Officer\\n'),\n",
       " Document(metadata={'source': '/kaggle/input/humanresourcehr-policy/humanresourcespolicy.pdf', 'page': 4, 'page_label': '5'}, page_content='Each employee has a distinct\\nresponsibility in dealing \\nwith people be it as a leader \\nof a team or as a peer.\\nHR managers and their staff are there \\nto provide professional support in handling\\npeople matters but should not substitute\\nthemselves to the responsible manager.\\nTheir prime responsibility is to contribute\\nactively to the quality of HR management\\nthroughout the organisation by proposing\\nadequate policies, ensuring their consistent\\napplication and coherent implementation\\nwith fairness.\\nActing as business partners, the \\nHR manager advises and offers solutions \\nwhich results in positive impact on the\\norganisation’s effectiveness.\\nFurthermore, she/he proposes best\\npractices and provides state-of-the-art\\nsupport and counselling to her/his\\ncolleagues. Together they act as \\nco-responsible partners for all HR matters.\\nThis partnership is the key for\\nefficiency in people management.\\nThe communication skills of the HR staff\\nmust be appropriate to deal with all delicate\\nmatters as they occur frequently in human\\nrelations issues. They gain their credibility\\nnot only from their professional contribution\\nbut also through the care and the excellence\\nof their communication skills.\\n4\\nThe Nestlé Human Resources Policy\\nA shared Responsibility'),\n",
       " Document(metadata={'source': '/kaggle/input/humanresourcehr-policy/humanresourcespolicy.pdf', 'page': 5, 'page_label': '6'}, page_content='The Nestlé Management and Leadership\\nPrinciples describe the management \\nstyle and the corporate values of the \\nNestlé Group, specifically in the area of\\ninterpersonal relations. Their respect \\ncalls for specific attitudes which deserve \\nto be outlined in the present policy:\\n_ A prerequisite for dealing with people is\\nrespect and trust. There can be no room for\\nintolerance, harassment or discrimination \\nof any kind as they are the expression of an\\nelementary lack of respect. This principle\\nsuffers no exception and is to be applied at\\nall levels and under all circumstances.\\n_ Transparency and honesty in dealing with\\npeople are a sine qua non for efficient\\ncommunication. Based on facts and on a\\nsincere dialogue, such transparency is the\\nonly solid basis for boosting continuous\\nimprovement.\\n_ This is to be complemented by open\\ncommunication with the purpose of sharing\\ncompetencies and boosting creativity. It is\\nparticularly relevant in a flat organisation to\\nconvey systematically all information to\\nthose who need it to do their work properly.\\nOtherwise no effective delegation or\\nknowledge improvement are possible.\\n_ To communicate is not only to inform. \\nIt is also to listen and to engage in dialogue.\\nEvery employee has the right to an open\\nconversation with superiors or colleagues. \\n_ The willingness to cooperate and to help\\nothers is a required basis for assessing\\npotential candidates in view of a promotion.\\n_ In case of discord between an employee\\nand her/his superior or another employee,\\nthe possibility must be offered for a fair\\nhearing. The HR staff will provide assistance\\nto ensure that the disharmony is dealt \\nwith impartially and that each party has the\\nopportunity to explain her/his viewpoint\\nregardless of hierarchical position.\\n5\\nThe Nestlé Human Resources Policy\\nDealing with People'),\n",
       " Document(metadata={'source': '/kaggle/input/humanresourcehr-policy/humanresourcespolicy.pdf', 'page': 6, 'page_label': '7'}, page_content='6\\nThe Nestlé Human Resources Policy\\nThe long-term success of the Company\\ndepends on its capacity to attract, retain\\nand develop employees able to ensure \\nits growth on a continuing basis. This \\nis a primary responsibility for all managers.\\nThe Nestlé policy is to hire staff with\\npersonal attitudes and professional skills\\nenabling them to develop a long-term\\nrelationship with the Company. \\nTherefore the potential \\nfor professional development \\nis an essential standard \\nfor recruitment.\\nEach new member joining Nestlé is to\\nbecome a participant in developing a\\nsustainable quality culture which implies \\na commitment to the organisation, a sense\\nfor continuous improvement and leaves no\\nplace for complacency.\\nTherefore, and in view of the importance of\\nthese Nestlé values, special attention will be\\npaid to the matching between a candidate’s\\nvalues and the Company culture.\\nHence, a clear communication of these\\nprinciples and values from the very beginning\\nof the recruitment process is required.\\nThose who are not willing to adhere to \\nthe Corporate Business Principles and/or to\\nthe Nestlé Management and Leadership\\nPrinciples cannot be part of the Company, \\nas both these documents express the basic\\nvalues and principles of the Organisation.\\nMoreover, for managerial positions specific\\nleadership qualities and business acumen\\nwill be required.\\nNestlé wishes to maintain and develop \\nits reputation as an employer of high repute.\\nContacts with universities, attendance at\\nrecruitment events and other contacts are \\nto be undertaken so as to ensure good\\nvisibility of the Company vis-à-vis relevant\\nrecruitment sources. Particular care \\nwill be given to the treatment of each\\ncandidacy regardless of the outcome of \\nthe selection process. \\nEven when promoting employees intensively\\nfrom within the organisation, it is the role \\nof management and HR to keep an eye on\\nvaluable candidates from outside and to\\nbenchmark internal skills with external offers.\\nJoining Nestlé'),\n",
       " Document(metadata={'source': '/kaggle/input/humanresourcehr-policy/humanresourcespolicy.pdf', 'page': 7, 'page_label': '8'}, page_content='7\\nThe Nestlé Human Resources Policy\\nWhilst adequate recruitment tools may\\nimprove the hiring process, it is understood\\nthat the decision to hire a candidate remains\\nin the hands of the responsible manager\\nsupported by the HR staff. Under no\\ncircumstances should the decision to hire \\nor not to hire be left in the hands of an\\noutside consultant or expert. \\nAs mentioned in the Nestlé Management \\nand Leadership Principles , only relevant \\nskills and experience and the adherence to\\nthe above principles will be considered \\nin employing a person. No consideration will\\nbe given to a candidate’s origin, nationality,\\nreligion, race, gender or age. \\nIt is as important to hire the right person \\nas it is to integrate newcomers in the\\norganisation so that their skills and\\nbehaviour can merge smoothly with the\\ncompany culture. Whereas from new\\nemployees it is expected to respect our\\ncompany’s culture, it is accordingly required\\nfrom all employees to show an open mind\\ntowards new ideas and proposals coming\\nfrom outside.'),\n",
       " Document(metadata={'source': '/kaggle/input/humanresourcehr-policy/humanresourcespolicy.pdf', 'page': 8, 'page_label': '9'}, page_content='8\\nThe Nestlé Human Resources Policy\\nThe Corporate Business Principles outline \\nthe Company’s commitment to fully endorse\\nand to respect a series of principles and\\ninternational conventions concerning\\nemployee’s rights, the protection of children\\nagainst child labour and other important\\nissues. These principles are to be respected\\neverywhere and under all circumstances.\\nThe management will implement the\\nnecessary processes to ensure that these\\nprinciples are enforced at all levels.\\nEmployees who are not abiding with \\nthe Corporate Business Principles and \\nthe Nestlé Management and Leadership\\nPrinciples cannot be maintained in\\nemployment and will be requested to \\nleave the organisation.\\nAlso our main suppliers and providers \\nof outsourced services should be informed\\nof the Corporate Business Principles\\nand should comply with those.\\nNestlé provides a working environment\\nwhich protects the health and welfare of \\nthe employees according to the highest\\naffordable standards of safety, hygiene and\\nsecurity. Each employee should not only\\ncare for her/his own safety but also that of\\nher/his colleagues. Therefore, suggestions\\nfor improvement are welcome and will \\nbe given prime consideration.\\nIn the same way that no discrimination for\\nreason of origin, nationality, religion, race,\\ngender or age will be tolerated when \\njoining Nestlé, no such discrimination will\\nbe tolerated towards Nestlé’s employees.\\nFurthermore, any form of harassment, moral\\nor sexual, will not only be prohibited but\\nactively tracked and eliminated. Internal\\nrules and regulations will explicitly deal with\\ndiscrimination and harassment issues so \\nas to obtain the best possible prevention.\\nNestlé considers that it is not enough to\\navoid discrimination or harassment. \\nIt is essential to build a relationship based\\non trust and respect of employees at all\\nlevels. Therefore, it is indispensable for each\\nmanager to know how her/his employees\\nfeel in their work. In larger units it may \\nbe necessary to organise such feedback \\non a regular basis, using internal surveys \\nor other valuable approaches.\\nNestlé favours a policy of long-term\\nemployment. Whenever, an operation/\\nactivity cannot be maintained within the\\nNestlé sphere, reasonable steps will \\nbe undertaken to avoid overall loss of\\nemployment by identifying an external\\nbusiness willing to take over activity \\nfrom Nestlé, whenever this is possible.\\nIf this is not possible, a closing down may\\nbe unavoidable. It will be handled in \\nfull respect of local legislation and of the\\nCorporate Business Principles . A social plan\\nwill be elaborated taking into account the\\nlegitimate interests of the concerned staff.\\nReasonable efforts will be deployed to\\nreduce, as much as possible, the negative\\nsocial impact of such a situation.\\nEmployment at Nestlé'),\n",
       " Document(metadata={'source': '/kaggle/input/humanresourcehr-policy/humanresourcespolicy.pdf', 'page': 9, 'page_label': '10'}, page_content='9\\nWork/Life Balance\\nAt Nestlé we believe that \\nthe employee’s private \\nand professional life should \\nhave a good balance. \\nNot only because it reinforces employee’s\\nsatisfaction, loyalty and enhances\\nproductivity but also because it positively\\nreflects on the Company’s reputation. \\nIt helps attracting and retaining people \\nand reconciles economical imperatives with\\nwell being.\\nNestlé is willing to support employees who\\nwish to take an active part in the life of the\\ncommunity or by assuming responsibilities\\nin professional, civic, cultural, religious or\\nvoluntary organisations it being understood\\nthat any activity during working hours \\nbe first approved by the Company.\\nIn the same spirit, Nestlé\\nencourages flexible working \\nconditions whenever possible and\\nencourages its employees \\nto have interests and motivations\\noutside work.\\nThe Nestlé Human Resources Policy'),\n",
       " Document(metadata={'source': '/kaggle/input/humanresourcehr-policy/humanresourcespolicy.pdf', 'page': 10, 'page_label': '11'}, page_content='10\\nThe Nestlé Human Resources Policy\\nNestlé favours competitive, stimulating \\nand fair remuneration structures offering \\nan overall competitive and attractive\\ncompensation package. Remuneration\\nincludes salary, any variable part of\\nremuneration as well as social, pension \\nand other benefits.\\nEach operating company will establish \\na compensation practice taking into account\\nrelevant external compensation levels as\\nwell as the requirement of internal fairness.\\nIt is recommended to undertake regular\\nsurveys so as to gather relevant information\\non the remuneration levels practised at \\na local or national level.\\nNestlé’s policy is to strive to position itself\\nas an employer offering remuneration \\nlevels above the average of the relevant\\nbenchmark. Nestlé reviews regularly its\\ncompetitive position with other companies\\nso as to keep in line with the market trends.\\nHowever, the evolution of remuneration is in\\nthe first instance determined by the capacity \\nof the Company to improve its productivity.\\nWage and salary structures should be kept\\nsimple and avoid unnecessary complexity \\nso as to provide effective compensation \\nand reward.\\nRemuneration structures should specifically\\nfacilitate the implementation of flat\\norganisational structures and be flexible \\nso as to be able to adapt to the evolution \\nof the market conditions. This means \\nbroad spans allowing sufficient flexibility \\nto effectively reward high professional\\ninsight and performances as well as\\nindividual potential.\\nIt is the responsibility of each manager to\\npropose, within the framework of the\\ncompany policy, the remuneration of her/his\\nemployees, taking into account the local\\nmarket, individual performance, skills and\\npotential for development.\\nIt is also the responsibility of each \\nmanager, if needed with the support \\nof HR management, to communicate\\nproperly, clearly and with sufficient\\ntransparency, the individual remuneration \\nof each staff member taking into account\\nher/his professional performance and \\nher/his specific responsibilities.\\nThe quality of communication in these\\nmatters is an essential part of the dialogue\\nthat each manager will have with her/his\\nemployees on remuneration matters.\\nSpecifically at management level, the\\nvariable part of the remuneration may be\\nsubstantial. This part will be linked to a\\ncombination of group, business and\\nindividual or team target achievements. \\nThe higher the remuneration level, the more\\nimportant will become the variable part.\\nIt should be realised that, however\\nimportant remuneration is for each\\nemployee, it is not remuneration alone that\\nwill stimulate the motivation of the staff. \\nThe HR management sees to it that the\\nimplementation of the remuneration policy\\nis fair throughout the organisation and \\nthat its spirit is duly reflected.\\nRemuneration'),\n",
       " Document(metadata={'source': '/kaggle/input/humanresourcehr-policy/humanresourcespolicy.pdf', 'page': 11, 'page_label': '12'}, page_content='Learning\\nLearning is part of the Company culture.\\nEach employee, at all levels, is conscious of\\nthe need to upgrade continuously her/his\\nknowledge and skills.\\nThe willingness to learn is therefore \\na non-negotiable condition to be employed \\nby Nestlé.\\nFirst and foremost, training is done \\non-the-job. Guiding and coaching is part \\nof the responsibility of each manager \\nand it is crucial to make each one progress \\nin her/his position.\\nWhen formal training programs are\\norganised they should be purpose oriented\\nand designed to improve relevant skills and\\ncompetencies. Therefore they are proposed\\nin the framework of individual development\\nprograms. As a consequence, attending \\na program should never be considered as \\na reward.\\nAdequate training programs \\nare developed at the level of each\\noperating company capitalising \\non the availability of local, regional\\nor global resources of the Group. \\nIt is the responsibility of HR staff to\\nassist the management in the\\nelaboration of training programs.\\nGreat importance will be attached to\\nprograms enhancing the language skills \\nof the employees.\\nTraining programs organised at the\\nInternational Training Centre Rive-Reine \\naim at developing and sharing best\\npractices of the various management\\ndisciplines practised in the Group. They \\nalso strive to strengthen corporate \\ncohesion as well as to promote networking\\nthroughout the Group. \\nTraining programs should, as much as\\npossible, be based on action learning \\nand reduce ex-cathedra teaching to the\\nstrict minimum.\\nIt is necessary to make optimal use of \\ne-learning programs as a complement to \\nor a substitute for formal training programs.\\nAccording to needs they should be made\\navailable at shop floor level and enlarge \\nthe access to training.\\nIt is the role of each manager to assess\\nprogress achieved as a result of training\\nprograms.\\nAssessing and Developing\\nEach employee is in charge of her/his \\nown professional development. However,\\nthe Company endeavours to offer the\\nopportunity to progress for those having \\nthe determination and the potential to\\ndevelop their capabilities.\\n11\\nProfessional Development\\nThe Nestlé Human Resources Policy'),\n",
       " Document(metadata={'source': '/kaggle/input/humanresourcehr-policy/humanresourcespolicy.pdf', 'page': 12, 'page_label': '13'}, page_content='Professional Development \\nSuch opportunities should take into account\\nthe potential of each employee and be\\ndiscussed with transparency. They will be\\nbased on defined possibilities, concentrate\\non the next career step and not on vague\\npromises or remote hypotheses. The\\nCompany encourages its employees to\\nexpress their objectives and expectations \\nin an open dialogue.\\nThe objective is to retain and motivate\\nemployees by offering attractive but realistic\\ncareer moves allowing them to develop \\ntheir skills over a long-term period \\nwithin the framework of economic reality\\nand a changing environment.\\nWhereas succession plans forecast the\\nCompany needs, they will be reconciled,\\ninasmuch as possible, with individual\\ndevelopment plans.\\nHR management provides the support for\\nimplementing the necessary planning tools,\\nhaving in mind the necessary flexibility \\nto cope with unforeseen situations.\\nHowever, it is understood that each\\nmanager is co-responsible for preparing \\nthe resources necessary to the development\\nof the Company as this is also part of \\nhis accountability.\\nRegular counselling and guidance are \\nthe best tools for improving performance \\nand for helping people develop their \\nskills. It also allows to correct errors swiftly\\nand to transform them into a positive\\nlearning experience. In an organisation \\nwith flat structures this supports better\\ndelegation. Direct personal contact should\\nalways been given preference over written\\ncommunication whenever possible. \\nEach manager has the duty to act\\nas a mentor for his employees.\\nFormal assessment should take place on \\na regular basis, preferably once a year. Its\\npurpose is to provide feedback on past\\nperformance and future potential as well as\\non other relevant aspects concerning a staff\\nmember’s work including the development\\nof his skills and competencies. Both the\\npositive and negative aspects of individual\\nperformance should be frankly addressed.\\nAssessment of performance should be\\nbased on facts rather than opinions. \\nFor managerial positions, assessment will\\nbe based essentially on agreed objectives\\nand their level of achievement.\\n12\\nThe Nestlé Human Resources Policy'),\n",
       " Document(metadata={'source': '/kaggle/input/humanresourcehr-policy/humanresourcespolicy.pdf', 'page': 13, 'page_label': '14'}, page_content='Efficient performance management\\nemphasising the achievement of agreed\\nobjectives is a prime responsibility for \\neach manager. The necessary time should\\nbe dedicated to the monitoring and the\\nfollow-up of the progressive achievement \\nof objectives during the year.\\nThis feedback is meant to stimulate\\nperformance and should take place through\\nan open dialogue based on mutual trust \\nand willingness to progress. It is requested\\nto provide written evidence of such\\nmeetings. Focus should be essentially on\\ncontinuous improvement, appropriate\\ntraining measures but also on shaping a\\nstimulating working environment.\\nIn case of serious underperformance, \\na termination of employment should be\\nenvisaged. Such termination should \\nbe handled with due respect of the person\\nand should include, where appropriate,\\nseparation terms that take into account \\nthe employee’s personal situation.\\nWhen assessing potential it should be \\nkept in mind that the best indicator of talent \\nis achievement. Therefore responsibility\\nshould be given as early as reasonable \\nto allow people to prove themselves.\\nCandidates for managerial positions should\\nclearly have demonstrated their willingness\\nand ability to apply the Nestlé Management\\nand Leadership Principles . \\n13\\nThe Nestlé Human Resources Policy\\nPromotions will exclusively \\nbe based on competence, insight,\\nperformance and potential with \\nthe exclusion of any consideration\\nfor origin, race, nationality, gender,\\nreligion or age.\\nFlexibility is a requirement for ensuring \\na positive professional evolution. Staff may\\nbe requested to move to other positions.\\nManagers, especially international staff, may\\nbe asked to move to other locations.\\nInternational experience and participation \\nin group development initiatives such as\\nGLOBE, SMPT and others can be acquired\\nin all countries of the Group and are a\\nrequirement for holding high-level positions.\\nThe development of expertise in specific\\nareas of competence is determinant for the\\nCompany’s success. Therefore job rotation\\nshould be practised with caution. Whilst \\njob rotation might be useful under certain\\ncircumstances, it should not result \\nin weakening our expertise in key areas.\\nProfessional Development '),\n",
       " Document(metadata={'source': '/kaggle/input/humanresourcehr-policy/humanresourcespolicy.pdf', 'page': 14, 'page_label': '15'}, page_content='Nestlé upholds the freedom of association\\nof its employees and the effective\\nrecognition of the right to collective\\nbargaining.\\nNestlé wishes, also through its relationship\\nwith unions and other representative\\nassociations, to sustain the long-term\\ndevelopment of the Company, both to the\\nbenefit of the employees and of the\\nCompany, by maintaining a level of\\ncompetitiveness adapted to its economic\\nenvironment.\\nIndustrial relations are a clear responsibility\\nof local management and will be handled \\nat the appropriate level: first at site \\nlevel (factories, warehouse) subsequently \\nat regional or national level, according \\nto local law and practices.\\nNestlé will ensure that direct and frequent\\ncommunication is established with its\\nemployees, both union members and \\nnon-members, as mentioned in the Nestlé\\nManagement and Leadership Principles .\\nRelations with unions will be established\\nunder strict observation of national law,\\nlocal practices as well as those international\\nrecommendations to which Nestlé has\\nadhered to on a voluntary basis as stated \\nin the Corporate Business Principles.\\n14\\nThe Nestlé Human Resources Policy\\nContacts with union delegates should create\\na further opportunity to provide information\\nallowing their members and other\\nrepresentative associations to acquire a full\\nunderstanding of the business activities \\nand the goals of Nestlé.\\nIn accordance with local legislation, Nestlé\\nwill refrain from any action restricting the\\nemployee’s right to be or not to be affiliated\\nto a union.\\nNestlé will not engage with any union or\\nother representative association in activities\\nor discussions other than those relating \\nto employment and working conditions as\\nwell as issues relating to the workplace.\\nWhenever negotiations take place, they will\\nbe duly prepared with the full involvement\\nof line management and take into account\\nboth the Company’s and the employees’\\nlegitimate interest. In dealings with \\nunions, it will be ensured that management\\nprerogatives be properly maintained.\\nIndustrial Relations'),\n",
       " Document(metadata={'source': '/kaggle/input/humanresourcehr-policy/humanresourcespolicy.pdf', 'page': 15, 'page_label': '16'}, page_content='The fact that Nestlé is more \\npeople and product than systems\\noriented is reflected in the way HR\\nis functioning and is organised.\\nProcesses and systems as well as\\nprofessional HR tools are there to support\\nHR management but never to the detriment\\nof the human dimension. The human\\nperspective should be present at all times\\nand under all circumstances.\\nThe HR function should report to the\\nmanager responsible for a defined operation\\n(Region, Market, Country, Factory) with a\\nfunctional relation to the market HR\\naccording to the size of that operation.\\nThe HR manager should not only have the\\nskills and competencies from a purely\\nprofessional standpoint but also have the\\ncharisma and the credibility to be a\\ntrustworthy partner to her/his colleagues. \\nWhereas the HR function should indeed\\nprovide flawless administrative support, its\\nmain role is to add value to the business\\nand to play a proactive role in every\\nsituation where HR action is required. \\nSpecific HR KPI’s are useful in assessing \\nthe performance of an HR unit. However, \\nit should be kept in mind that the \\nHR contribution aims in the first place at\\noptimising the overall company performance\\nthrough improving people performance.\\nWith the evidence that the human capital \\nis of increasing importance, HR plays\\nindeed a pivotal role in the conception \\nand implementation of the people \\nstrategies that impact financial results \\nand the organisation’s overall reputation \\nand effectiveness.\\n15\\nThe Nestlé Human Resources Policy\\nHR Organisation'),\n",
       " Document(metadata={'source': '/kaggle/input/humanresourcehr-policy/humanresourcespolicy.pdf', 'page': 16, 'page_label': '17'}, page_content='The Nestlé Human Resources Policy\\n© October 2002, Nestec Ltd., Human Resources Department\\nConcept and design: Nestec Ltd., B-COM , Corporate Identity and Design, Vevey, Switzerland\\nPrinted by Neidhart + Schön AG, Zurich, Switzerland')]"
      ]
     },
     "execution_count": 6,
     "metadata": {},
     "output_type": "execute_result"
    }
   ],
   "source": [
    "documents"
   ]
  },
  {
   "cell_type": "markdown",
   "metadata": {},
   "source": [
    "#### TextSplitter - RecurssiveTextSplitter"
   ]
  },
  {
   "cell_type": "code",
   "execution_count": 7,
   "metadata": {
    "execution": {
     "iopub.execute_input": "2025-01-21T13:59:44.071381Z",
     "iopub.status.busy": "2025-01-21T13:59:44.070928Z",
     "iopub.status.idle": "2025-01-21T13:59:44.098564Z",
     "shell.execute_reply": "2025-01-21T13:59:44.097223Z",
     "shell.execute_reply.started": "2025-01-21T13:59:44.071338Z"
    }
   },
   "outputs": [],
   "source": [
    "# split documents into smaller chunk and maximum chunk size = 100.\n",
    "# 20 characters of overlap between chunks\n",
    "text_splitter = RecursiveCharacterTextSplitter(chunk_size = 200, chunk_overlap = 20)\n",
    "texts = text_splitter.split_documents(documents)"
   ]
  },
  {
   "cell_type": "code",
   "execution_count": 8,
   "metadata": {
    "execution": {
     "iopub.execute_input": "2025-01-21T13:59:44.101157Z",
     "iopub.status.busy": "2025-01-21T13:59:44.100756Z",
     "iopub.status.idle": "2025-01-21T13:59:44.131226Z",
     "shell.execute_reply": "2025-01-21T13:59:44.129966Z",
     "shell.execute_reply.started": "2025-01-21T13:59:44.101123Z"
    }
   },
   "outputs": [
    {
     "data": {
      "text/plain": [
       "[Document(metadata={'source': '/kaggle/input/humanresourcehr-policy/humanresourcespolicy.pdf', 'page': 0, 'page_label': '1'}, page_content='The Nestlé Human Resources Policy\\n© October 2002, Nestec Ltd., Human Resources Department\\nConcept and design: Nestec Ltd., B-COM , Corporate Identity and Design, Vevey, Switzerland'),\n",
       " Document(metadata={'source': '/kaggle/input/humanresourcehr-policy/humanresourcespolicy.pdf', 'page': 0, 'page_label': '1'}, page_content='Printed by Neidhart + Schön AG, Zurich, Switzerland'),\n",
       " Document(metadata={'source': '/kaggle/input/humanresourcehr-policy/humanresourcespolicy.pdf', 'page': 1, 'page_label': '2'}, page_content='2 The Nestlé human Resources Policy\\n4 A shared Responsibility\\n5 Dealing with People\\n6 Joining Nestlé\\n8 Employment at Nestlé\\n9 Work/Life Balance\\n10 Remuneration\\n11 Professional Development'),\n",
       " Document(metadata={'source': '/kaggle/input/humanresourcehr-policy/humanresourcespolicy.pdf', 'page': 1, 'page_label': '2'}, page_content='14 Industrial Relations\\n15 HR Organisation\\nThe Nestlé Human Resources Policy\\nTable of Contents'),\n",
       " Document(metadata={'source': '/kaggle/input/humanresourcehr-policy/humanresourcespolicy.pdf', 'page': 2, 'page_label': '3'}, page_content='The Nestlé\\nHuman Resources Policy'),\n",
       " Document(metadata={'source': '/kaggle/input/humanresourcehr-policy/humanresourcespolicy.pdf', 'page': 3, 'page_label': '4'}, page_content='3\\nThe Nestlé Human Resources Policy\\nThis policy encompasses those guidelines\\nwhich constitute a sound basis for efficient\\nand effective HR Management in the Nestlé\\nGroup around the world.'),\n",
       " Document(metadata={'source': '/kaggle/input/humanresourcehr-policy/humanresourcespolicy.pdf', 'page': 3, 'page_label': '4'}, page_content='They are in essence flexible and dynamic\\nand may require adjustment to a variety of\\ncircumstances. Therefore its implementation\\nwill be inspired by sound judgement,'),\n",
       " Document(metadata={'source': '/kaggle/input/humanresourcehr-policy/humanresourcespolicy.pdf', 'page': 3, 'page_label': '4'}, page_content='compliance with local market laws and\\ncommon sense, taking into account the\\nspecific context. Its spirit should be\\nrespected under all circumstances.\\nAs Nestlé is operating on a worldwide'),\n",
       " Document(metadata={'source': '/kaggle/input/humanresourcehr-policy/humanresourcespolicy.pdf', 'page': 3, 'page_label': '4'}, page_content='basis, it is essential that local legislation \\nand practices be respected everywhere.\\nAlso to be considered is the degree \\nof development of each market and its\\ncapacity to advance in the management'),\n",
       " Document(metadata={'source': '/kaggle/input/humanresourcehr-policy/humanresourcespolicy.pdf', 'page': 3, 'page_label': '4'}, page_content='of their human resources.\\nShould any HR policy conflict with local\\nlegislation, local legislation will prevail.\\nThese policies are addressed to all those\\nwho have a responsibility in managing'),\n",
       " Document(metadata={'source': '/kaggle/input/humanresourcehr-policy/humanresourcespolicy.pdf', 'page': 3, 'page_label': '4'}, page_content='people as well as to HR professionals. \\nThe Nestlé Management and Leadership\\nPrinciples include the guidelines inspiring \\nall the Nestlé employees in their action'),\n",
       " Document(metadata={'source': '/kaggle/input/humanresourcehr-policy/humanresourcespolicy.pdf', 'page': 3, 'page_label': '4'}, page_content='and in their dealings with others. The\\nCorporate Business Principles refer to all \\nthe basic principles which Nestlé endorses\\nand subscribes to on a worldwide basis.'),\n",
       " Document(metadata={'source': '/kaggle/input/humanresourcehr-policy/humanresourcespolicy.pdf', 'page': 3, 'page_label': '4'}, page_content='Both these documents are the pillars on\\nwhich the present policy has been built.\\nP. Brabeck-Letmathe\\nChief Executive Officer'),\n",
       " Document(metadata={'source': '/kaggle/input/humanresourcehr-policy/humanresourcespolicy.pdf', 'page': 4, 'page_label': '5'}, page_content='Each employee has a distinct\\nresponsibility in dealing \\nwith people be it as a leader \\nof a team or as a peer.\\nHR managers and their staff are there \\nto provide professional support in handling'),\n",
       " Document(metadata={'source': '/kaggle/input/humanresourcehr-policy/humanresourcespolicy.pdf', 'page': 4, 'page_label': '5'}, page_content='people matters but should not substitute\\nthemselves to the responsible manager.\\nTheir prime responsibility is to contribute\\nactively to the quality of HR management'),\n",
       " Document(metadata={'source': '/kaggle/input/humanresourcehr-policy/humanresourcespolicy.pdf', 'page': 4, 'page_label': '5'}, page_content='throughout the organisation by proposing\\nadequate policies, ensuring their consistent\\napplication and coherent implementation\\nwith fairness.\\nActing as business partners, the'),\n",
       " Document(metadata={'source': '/kaggle/input/humanresourcehr-policy/humanresourcespolicy.pdf', 'page': 4, 'page_label': '5'}, page_content='HR manager advises and offers solutions \\nwhich results in positive impact on the\\norganisation’s effectiveness.\\nFurthermore, she/he proposes best\\npractices and provides state-of-the-art'),\n",
       " Document(metadata={'source': '/kaggle/input/humanresourcehr-policy/humanresourcespolicy.pdf', 'page': 4, 'page_label': '5'}, page_content='support and counselling to her/his\\ncolleagues. Together they act as \\nco-responsible partners for all HR matters.\\nThis partnership is the key for\\nefficiency in people management.'),\n",
       " Document(metadata={'source': '/kaggle/input/humanresourcehr-policy/humanresourcespolicy.pdf', 'page': 4, 'page_label': '5'}, page_content='The communication skills of the HR staff\\nmust be appropriate to deal with all delicate\\nmatters as they occur frequently in human\\nrelations issues. They gain their credibility'),\n",
       " Document(metadata={'source': '/kaggle/input/humanresourcehr-policy/humanresourcespolicy.pdf', 'page': 4, 'page_label': '5'}, page_content='not only from their professional contribution\\nbut also through the care and the excellence\\nof their communication skills.\\n4\\nThe Nestlé Human Resources Policy\\nA shared Responsibility'),\n",
       " Document(metadata={'source': '/kaggle/input/humanresourcehr-policy/humanresourcespolicy.pdf', 'page': 5, 'page_label': '6'}, page_content='The Nestlé Management and Leadership\\nPrinciples describe the management \\nstyle and the corporate values of the \\nNestlé Group, specifically in the area of\\ninterpersonal relations. Their respect'),\n",
       " Document(metadata={'source': '/kaggle/input/humanresourcehr-policy/humanresourcespolicy.pdf', 'page': 5, 'page_label': '6'}, page_content='calls for specific attitudes which deserve \\nto be outlined in the present policy:\\n_ A prerequisite for dealing with people is\\nrespect and trust. There can be no room for'),\n",
       " Document(metadata={'source': '/kaggle/input/humanresourcehr-policy/humanresourcespolicy.pdf', 'page': 5, 'page_label': '6'}, page_content='intolerance, harassment or discrimination \\nof any kind as they are the expression of an\\nelementary lack of respect. This principle\\nsuffers no exception and is to be applied at'),\n",
       " Document(metadata={'source': '/kaggle/input/humanresourcehr-policy/humanresourcespolicy.pdf', 'page': 5, 'page_label': '6'}, page_content='all levels and under all circumstances.\\n_ Transparency and honesty in dealing with\\npeople are a sine qua non for efficient\\ncommunication. Based on facts and on a'),\n",
       " Document(metadata={'source': '/kaggle/input/humanresourcehr-policy/humanresourcespolicy.pdf', 'page': 5, 'page_label': '6'}, page_content='sincere dialogue, such transparency is the\\nonly solid basis for boosting continuous\\nimprovement.\\n_ This is to be complemented by open\\ncommunication with the purpose of sharing'),\n",
       " Document(metadata={'source': '/kaggle/input/humanresourcehr-policy/humanresourcespolicy.pdf', 'page': 5, 'page_label': '6'}, page_content='competencies and boosting creativity. It is\\nparticularly relevant in a flat organisation to\\nconvey systematically all information to\\nthose who need it to do their work properly.'),\n",
       " Document(metadata={'source': '/kaggle/input/humanresourcehr-policy/humanresourcespolicy.pdf', 'page': 5, 'page_label': '6'}, page_content='Otherwise no effective delegation or\\nknowledge improvement are possible.\\n_ To communicate is not only to inform. \\nIt is also to listen and to engage in dialogue.'),\n",
       " Document(metadata={'source': '/kaggle/input/humanresourcehr-policy/humanresourcespolicy.pdf', 'page': 5, 'page_label': '6'}, page_content='Every employee has the right to an open\\nconversation with superiors or colleagues. \\n_ The willingness to cooperate and to help\\nothers is a required basis for assessing'),\n",
       " Document(metadata={'source': '/kaggle/input/humanresourcehr-policy/humanresourcespolicy.pdf', 'page': 5, 'page_label': '6'}, page_content='potential candidates in view of a promotion.\\n_ In case of discord between an employee\\nand her/his superior or another employee,\\nthe possibility must be offered for a fair'),\n",
       " Document(metadata={'source': '/kaggle/input/humanresourcehr-policy/humanresourcespolicy.pdf', 'page': 5, 'page_label': '6'}, page_content='hearing. The HR staff will provide assistance\\nto ensure that the disharmony is dealt \\nwith impartially and that each party has the\\nopportunity to explain her/his viewpoint'),\n",
       " Document(metadata={'source': '/kaggle/input/humanresourcehr-policy/humanresourcespolicy.pdf', 'page': 5, 'page_label': '6'}, page_content='regardless of hierarchical position.\\n5\\nThe Nestlé Human Resources Policy\\nDealing with People'),\n",
       " Document(metadata={'source': '/kaggle/input/humanresourcehr-policy/humanresourcespolicy.pdf', 'page': 6, 'page_label': '7'}, page_content='6\\nThe Nestlé Human Resources Policy\\nThe long-term success of the Company\\ndepends on its capacity to attract, retain\\nand develop employees able to ensure \\nits growth on a continuing basis. This'),\n",
       " Document(metadata={'source': '/kaggle/input/humanresourcehr-policy/humanresourcespolicy.pdf', 'page': 6, 'page_label': '7'}, page_content='is a primary responsibility for all managers.\\nThe Nestlé policy is to hire staff with\\npersonal attitudes and professional skills\\nenabling them to develop a long-term\\nrelationship with the Company.'),\n",
       " Document(metadata={'source': '/kaggle/input/humanresourcehr-policy/humanresourcespolicy.pdf', 'page': 6, 'page_label': '7'}, page_content='Therefore the potential \\nfor professional development \\nis an essential standard \\nfor recruitment.\\nEach new member joining Nestlé is to\\nbecome a participant in developing a'),\n",
       " Document(metadata={'source': '/kaggle/input/humanresourcehr-policy/humanresourcespolicy.pdf', 'page': 6, 'page_label': '7'}, page_content='sustainable quality culture which implies \\na commitment to the organisation, a sense\\nfor continuous improvement and leaves no\\nplace for complacency.\\nTherefore, and in view of the importance of'),\n",
       " Document(metadata={'source': '/kaggle/input/humanresourcehr-policy/humanresourcespolicy.pdf', 'page': 6, 'page_label': '7'}, page_content='these Nestlé values, special attention will be\\npaid to the matching between a candidate’s\\nvalues and the Company culture.\\nHence, a clear communication of these'),\n",
       " Document(metadata={'source': '/kaggle/input/humanresourcehr-policy/humanresourcespolicy.pdf', 'page': 6, 'page_label': '7'}, page_content='principles and values from the very beginning\\nof the recruitment process is required.\\nThose who are not willing to adhere to \\nthe Corporate Business Principles and/or to'),\n",
       " Document(metadata={'source': '/kaggle/input/humanresourcehr-policy/humanresourcespolicy.pdf', 'page': 6, 'page_label': '7'}, page_content='the Nestlé Management and Leadership\\nPrinciples cannot be part of the Company, \\nas both these documents express the basic\\nvalues and principles of the Organisation.'),\n",
       " Document(metadata={'source': '/kaggle/input/humanresourcehr-policy/humanresourcespolicy.pdf', 'page': 6, 'page_label': '7'}, page_content='Moreover, for managerial positions specific\\nleadership qualities and business acumen\\nwill be required.\\nNestlé wishes to maintain and develop \\nits reputation as an employer of high repute.'),\n",
       " Document(metadata={'source': '/kaggle/input/humanresourcehr-policy/humanresourcespolicy.pdf', 'page': 6, 'page_label': '7'}, page_content='Contacts with universities, attendance at\\nrecruitment events and other contacts are \\nto be undertaken so as to ensure good\\nvisibility of the Company vis-à-vis relevant'),\n",
       " Document(metadata={'source': '/kaggle/input/humanresourcehr-policy/humanresourcespolicy.pdf', 'page': 6, 'page_label': '7'}, page_content='recruitment sources. Particular care \\nwill be given to the treatment of each\\ncandidacy regardless of the outcome of \\nthe selection process. \\nEven when promoting employees intensively'),\n",
       " Document(metadata={'source': '/kaggle/input/humanresourcehr-policy/humanresourcespolicy.pdf', 'page': 6, 'page_label': '7'}, page_content='from within the organisation, it is the role \\nof management and HR to keep an eye on\\nvaluable candidates from outside and to\\nbenchmark internal skills with external offers.\\nJoining Nestlé'),\n",
       " Document(metadata={'source': '/kaggle/input/humanresourcehr-policy/humanresourcespolicy.pdf', 'page': 7, 'page_label': '8'}, page_content='7\\nThe Nestlé Human Resources Policy\\nWhilst adequate recruitment tools may\\nimprove the hiring process, it is understood\\nthat the decision to hire a candidate remains'),\n",
       " Document(metadata={'source': '/kaggle/input/humanresourcehr-policy/humanresourcespolicy.pdf', 'page': 7, 'page_label': '8'}, page_content='in the hands of the responsible manager\\nsupported by the HR staff. Under no\\ncircumstances should the decision to hire \\nor not to hire be left in the hands of an\\noutside consultant or expert.'),\n",
       " Document(metadata={'source': '/kaggle/input/humanresourcehr-policy/humanresourcespolicy.pdf', 'page': 7, 'page_label': '8'}, page_content='As mentioned in the Nestlé Management \\nand Leadership Principles , only relevant \\nskills and experience and the adherence to\\nthe above principles will be considered'),\n",
       " Document(metadata={'source': '/kaggle/input/humanresourcehr-policy/humanresourcespolicy.pdf', 'page': 7, 'page_label': '8'}, page_content='in employing a person. No consideration will\\nbe given to a candidate’s origin, nationality,\\nreligion, race, gender or age. \\nIt is as important to hire the right person'),\n",
       " Document(metadata={'source': '/kaggle/input/humanresourcehr-policy/humanresourcespolicy.pdf', 'page': 7, 'page_label': '8'}, page_content='as it is to integrate newcomers in the\\norganisation so that their skills and\\nbehaviour can merge smoothly with the\\ncompany culture. Whereas from new\\nemployees it is expected to respect our'),\n",
       " Document(metadata={'source': '/kaggle/input/humanresourcehr-policy/humanresourcespolicy.pdf', 'page': 7, 'page_label': '8'}, page_content='company’s culture, it is accordingly required\\nfrom all employees to show an open mind\\ntowards new ideas and proposals coming\\nfrom outside.'),\n",
       " Document(metadata={'source': '/kaggle/input/humanresourcehr-policy/humanresourcespolicy.pdf', 'page': 8, 'page_label': '9'}, page_content='8\\nThe Nestlé Human Resources Policy\\nThe Corporate Business Principles outline \\nthe Company’s commitment to fully endorse\\nand to respect a series of principles and\\ninternational conventions concerning'),\n",
       " Document(metadata={'source': '/kaggle/input/humanresourcehr-policy/humanresourcespolicy.pdf', 'page': 8, 'page_label': '9'}, page_content='employee’s rights, the protection of children\\nagainst child labour and other important\\nissues. These principles are to be respected\\neverywhere and under all circumstances.'),\n",
       " Document(metadata={'source': '/kaggle/input/humanresourcehr-policy/humanresourcespolicy.pdf', 'page': 8, 'page_label': '9'}, page_content='The management will implement the\\nnecessary processes to ensure that these\\nprinciples are enforced at all levels.\\nEmployees who are not abiding with \\nthe Corporate Business Principles and'),\n",
       " Document(metadata={'source': '/kaggle/input/humanresourcehr-policy/humanresourcespolicy.pdf', 'page': 8, 'page_label': '9'}, page_content='the Nestlé Management and Leadership\\nPrinciples cannot be maintained in\\nemployment and will be requested to \\nleave the organisation.\\nAlso our main suppliers and providers'),\n",
       " Document(metadata={'source': '/kaggle/input/humanresourcehr-policy/humanresourcespolicy.pdf', 'page': 8, 'page_label': '9'}, page_content='of outsourced services should be informed\\nof the Corporate Business Principles\\nand should comply with those.\\nNestlé provides a working environment\\nwhich protects the health and welfare of'),\n",
       " Document(metadata={'source': '/kaggle/input/humanresourcehr-policy/humanresourcespolicy.pdf', 'page': 8, 'page_label': '9'}, page_content='the employees according to the highest\\naffordable standards of safety, hygiene and\\nsecurity. Each employee should not only\\ncare for her/his own safety but also that of'),\n",
       " Document(metadata={'source': '/kaggle/input/humanresourcehr-policy/humanresourcespolicy.pdf', 'page': 8, 'page_label': '9'}, page_content='her/his colleagues. Therefore, suggestions\\nfor improvement are welcome and will \\nbe given prime consideration.\\nIn the same way that no discrimination for'),\n",
       " Document(metadata={'source': '/kaggle/input/humanresourcehr-policy/humanresourcespolicy.pdf', 'page': 8, 'page_label': '9'}, page_content='reason of origin, nationality, religion, race,\\ngender or age will be tolerated when \\njoining Nestlé, no such discrimination will\\nbe tolerated towards Nestlé’s employees.'),\n",
       " Document(metadata={'source': '/kaggle/input/humanresourcehr-policy/humanresourcespolicy.pdf', 'page': 8, 'page_label': '9'}, page_content='Furthermore, any form of harassment, moral\\nor sexual, will not only be prohibited but\\nactively tracked and eliminated. Internal\\nrules and regulations will explicitly deal with'),\n",
       " Document(metadata={'source': '/kaggle/input/humanresourcehr-policy/humanresourcespolicy.pdf', 'page': 8, 'page_label': '9'}, page_content='discrimination and harassment issues so \\nas to obtain the best possible prevention.\\nNestlé considers that it is not enough to\\navoid discrimination or harassment.'),\n",
       " Document(metadata={'source': '/kaggle/input/humanresourcehr-policy/humanresourcespolicy.pdf', 'page': 8, 'page_label': '9'}, page_content='It is essential to build a relationship based\\non trust and respect of employees at all\\nlevels. Therefore, it is indispensable for each\\nmanager to know how her/his employees'),\n",
       " Document(metadata={'source': '/kaggle/input/humanresourcehr-policy/humanresourcespolicy.pdf', 'page': 8, 'page_label': '9'}, page_content='feel in their work. In larger units it may \\nbe necessary to organise such feedback \\non a regular basis, using internal surveys \\nor other valuable approaches.\\nNestlé favours a policy of long-term'),\n",
       " Document(metadata={'source': '/kaggle/input/humanresourcehr-policy/humanresourcespolicy.pdf', 'page': 8, 'page_label': '9'}, page_content='employment. Whenever, an operation/\\nactivity cannot be maintained within the\\nNestlé sphere, reasonable steps will \\nbe undertaken to avoid overall loss of\\nemployment by identifying an external'),\n",
       " Document(metadata={'source': '/kaggle/input/humanresourcehr-policy/humanresourcespolicy.pdf', 'page': 8, 'page_label': '9'}, page_content='business willing to take over activity \\nfrom Nestlé, whenever this is possible.\\nIf this is not possible, a closing down may\\nbe unavoidable. It will be handled in'),\n",
       " Document(metadata={'source': '/kaggle/input/humanresourcehr-policy/humanresourcespolicy.pdf', 'page': 8, 'page_label': '9'}, page_content='full respect of local legislation and of the\\nCorporate Business Principles . A social plan\\nwill be elaborated taking into account the\\nlegitimate interests of the concerned staff.'),\n",
       " Document(metadata={'source': '/kaggle/input/humanresourcehr-policy/humanresourcespolicy.pdf', 'page': 8, 'page_label': '9'}, page_content='Reasonable efforts will be deployed to\\nreduce, as much as possible, the negative\\nsocial impact of such a situation.\\nEmployment at Nestlé'),\n",
       " Document(metadata={'source': '/kaggle/input/humanresourcehr-policy/humanresourcespolicy.pdf', 'page': 9, 'page_label': '10'}, page_content='9\\nWork/Life Balance\\nAt Nestlé we believe that \\nthe employee’s private \\nand professional life should \\nhave a good balance. \\nNot only because it reinforces employee’s\\nsatisfaction, loyalty and enhances'),\n",
       " Document(metadata={'source': '/kaggle/input/humanresourcehr-policy/humanresourcespolicy.pdf', 'page': 9, 'page_label': '10'}, page_content='productivity but also because it positively\\nreflects on the Company’s reputation. \\nIt helps attracting and retaining people \\nand reconciles economical imperatives with\\nwell being.'),\n",
       " Document(metadata={'source': '/kaggle/input/humanresourcehr-policy/humanresourcespolicy.pdf', 'page': 9, 'page_label': '10'}, page_content='well being.\\nNestlé is willing to support employees who\\nwish to take an active part in the life of the\\ncommunity or by assuming responsibilities\\nin professional, civic, cultural, religious or'),\n",
       " Document(metadata={'source': '/kaggle/input/humanresourcehr-policy/humanresourcespolicy.pdf', 'page': 9, 'page_label': '10'}, page_content='voluntary organisations it being understood\\nthat any activity during working hours \\nbe first approved by the Company.\\nIn the same spirit, Nestlé\\nencourages flexible working'),\n",
       " Document(metadata={'source': '/kaggle/input/humanresourcehr-policy/humanresourcespolicy.pdf', 'page': 9, 'page_label': '10'}, page_content='conditions whenever possible and\\nencourages its employees \\nto have interests and motivations\\noutside work.\\nThe Nestlé Human Resources Policy'),\n",
       " Document(metadata={'source': '/kaggle/input/humanresourcehr-policy/humanresourcespolicy.pdf', 'page': 10, 'page_label': '11'}, page_content='10\\nThe Nestlé Human Resources Policy\\nNestlé favours competitive, stimulating \\nand fair remuneration structures offering \\nan overall competitive and attractive\\ncompensation package. Remuneration'),\n",
       " Document(metadata={'source': '/kaggle/input/humanresourcehr-policy/humanresourcespolicy.pdf', 'page': 10, 'page_label': '11'}, page_content='includes salary, any variable part of\\nremuneration as well as social, pension \\nand other benefits.\\nEach operating company will establish \\na compensation practice taking into account'),\n",
       " Document(metadata={'source': '/kaggle/input/humanresourcehr-policy/humanresourcespolicy.pdf', 'page': 10, 'page_label': '11'}, page_content='relevant external compensation levels as\\nwell as the requirement of internal fairness.\\nIt is recommended to undertake regular\\nsurveys so as to gather relevant information'),\n",
       " Document(metadata={'source': '/kaggle/input/humanresourcehr-policy/humanresourcespolicy.pdf', 'page': 10, 'page_label': '11'}, page_content='on the remuneration levels practised at \\na local or national level.\\nNestlé’s policy is to strive to position itself\\nas an employer offering remuneration \\nlevels above the average of the relevant'),\n",
       " Document(metadata={'source': '/kaggle/input/humanresourcehr-policy/humanresourcespolicy.pdf', 'page': 10, 'page_label': '11'}, page_content='benchmark. Nestlé reviews regularly its\\ncompetitive position with other companies\\nso as to keep in line with the market trends.\\nHowever, the evolution of remuneration is in'),\n",
       " Document(metadata={'source': '/kaggle/input/humanresourcehr-policy/humanresourcespolicy.pdf', 'page': 10, 'page_label': '11'}, page_content='the first instance determined by the capacity \\nof the Company to improve its productivity.\\nWage and salary structures should be kept\\nsimple and avoid unnecessary complexity'),\n",
       " Document(metadata={'source': '/kaggle/input/humanresourcehr-policy/humanresourcespolicy.pdf', 'page': 10, 'page_label': '11'}, page_content='so as to provide effective compensation \\nand reward.\\nRemuneration structures should specifically\\nfacilitate the implementation of flat\\norganisational structures and be flexible'),\n",
       " Document(metadata={'source': '/kaggle/input/humanresourcehr-policy/humanresourcespolicy.pdf', 'page': 10, 'page_label': '11'}, page_content='so as to be able to adapt to the evolution \\nof the market conditions. This means \\nbroad spans allowing sufficient flexibility \\nto effectively reward high professional'),\n",
       " Document(metadata={'source': '/kaggle/input/humanresourcehr-policy/humanresourcespolicy.pdf', 'page': 10, 'page_label': '11'}, page_content='insight and performances as well as\\nindividual potential.\\nIt is the responsibility of each manager to\\npropose, within the framework of the\\ncompany policy, the remuneration of her/his'),\n",
       " Document(metadata={'source': '/kaggle/input/humanresourcehr-policy/humanresourcespolicy.pdf', 'page': 10, 'page_label': '11'}, page_content='employees, taking into account the local\\nmarket, individual performance, skills and\\npotential for development.\\nIt is also the responsibility of each \\nmanager, if needed with the support'),\n",
       " Document(metadata={'source': '/kaggle/input/humanresourcehr-policy/humanresourcespolicy.pdf', 'page': 10, 'page_label': '11'}, page_content='of HR management, to communicate\\nproperly, clearly and with sufficient\\ntransparency, the individual remuneration \\nof each staff member taking into account\\nher/his professional performance and'),\n",
       " Document(metadata={'source': '/kaggle/input/humanresourcehr-policy/humanresourcespolicy.pdf', 'page': 10, 'page_label': '11'}, page_content='her/his specific responsibilities.\\nThe quality of communication in these\\nmatters is an essential part of the dialogue\\nthat each manager will have with her/his\\nemployees on remuneration matters.'),\n",
       " Document(metadata={'source': '/kaggle/input/humanresourcehr-policy/humanresourcespolicy.pdf', 'page': 10, 'page_label': '11'}, page_content='Specifically at management level, the\\nvariable part of the remuneration may be\\nsubstantial. This part will be linked to a\\ncombination of group, business and\\nindividual or team target achievements.'),\n",
       " Document(metadata={'source': '/kaggle/input/humanresourcehr-policy/humanresourcespolicy.pdf', 'page': 10, 'page_label': '11'}, page_content='The higher the remuneration level, the more\\nimportant will become the variable part.\\nIt should be realised that, however\\nimportant remuneration is for each\\nemployee, it is not remuneration alone that'),\n",
       " Document(metadata={'source': '/kaggle/input/humanresourcehr-policy/humanresourcespolicy.pdf', 'page': 10, 'page_label': '11'}, page_content='will stimulate the motivation of the staff. \\nThe HR management sees to it that the\\nimplementation of the remuneration policy\\nis fair throughout the organisation and'),\n",
       " Document(metadata={'source': '/kaggle/input/humanresourcehr-policy/humanresourcespolicy.pdf', 'page': 10, 'page_label': '11'}, page_content='that its spirit is duly reflected.\\nRemuneration'),\n",
       " Document(metadata={'source': '/kaggle/input/humanresourcehr-policy/humanresourcespolicy.pdf', 'page': 11, 'page_label': '12'}, page_content='Learning\\nLearning is part of the Company culture.\\nEach employee, at all levels, is conscious of\\nthe need to upgrade continuously her/his\\nknowledge and skills.\\nThe willingness to learn is therefore'),\n",
       " Document(metadata={'source': '/kaggle/input/humanresourcehr-policy/humanresourcespolicy.pdf', 'page': 11, 'page_label': '12'}, page_content='a non-negotiable condition to be employed \\nby Nestlé.\\nFirst and foremost, training is done \\non-the-job. Guiding and coaching is part \\nof the responsibility of each manager'),\n",
       " Document(metadata={'source': '/kaggle/input/humanresourcehr-policy/humanresourcespolicy.pdf', 'page': 11, 'page_label': '12'}, page_content='and it is crucial to make each one progress \\nin her/his position.\\nWhen formal training programs are\\norganised they should be purpose oriented\\nand designed to improve relevant skills and'),\n",
       " Document(metadata={'source': '/kaggle/input/humanresourcehr-policy/humanresourcespolicy.pdf', 'page': 11, 'page_label': '12'}, page_content='competencies. Therefore they are proposed\\nin the framework of individual development\\nprograms. As a consequence, attending \\na program should never be considered as \\na reward.'),\n",
       " Document(metadata={'source': '/kaggle/input/humanresourcehr-policy/humanresourcespolicy.pdf', 'page': 11, 'page_label': '12'}, page_content='a reward.\\nAdequate training programs \\nare developed at the level of each\\noperating company capitalising \\non the availability of local, regional\\nor global resources of the Group.'),\n",
       " Document(metadata={'source': '/kaggle/input/humanresourcehr-policy/humanresourcespolicy.pdf', 'page': 11, 'page_label': '12'}, page_content='It is the responsibility of HR staff to\\nassist the management in the\\nelaboration of training programs.\\nGreat importance will be attached to\\nprograms enhancing the language skills \\nof the employees.'),\n",
       " Document(metadata={'source': '/kaggle/input/humanresourcehr-policy/humanresourcespolicy.pdf', 'page': 11, 'page_label': '12'}, page_content='of the employees.\\nTraining programs organised at the\\nInternational Training Centre Rive-Reine \\naim at developing and sharing best\\npractices of the various management'),\n",
       " Document(metadata={'source': '/kaggle/input/humanresourcehr-policy/humanresourcespolicy.pdf', 'page': 11, 'page_label': '12'}, page_content='disciplines practised in the Group. They \\nalso strive to strengthen corporate \\ncohesion as well as to promote networking\\nthroughout the Group. \\nTraining programs should, as much as'),\n",
       " Document(metadata={'source': '/kaggle/input/humanresourcehr-policy/humanresourcespolicy.pdf', 'page': 11, 'page_label': '12'}, page_content='possible, be based on action learning \\nand reduce ex-cathedra teaching to the\\nstrict minimum.\\nIt is necessary to make optimal use of \\ne-learning programs as a complement to'),\n",
       " Document(metadata={'source': '/kaggle/input/humanresourcehr-policy/humanresourcespolicy.pdf', 'page': 11, 'page_label': '12'}, page_content='or a substitute for formal training programs.\\nAccording to needs they should be made\\navailable at shop floor level and enlarge \\nthe access to training.\\nIt is the role of each manager to assess'),\n",
       " Document(metadata={'source': '/kaggle/input/humanresourcehr-policy/humanresourcespolicy.pdf', 'page': 11, 'page_label': '12'}, page_content='progress achieved as a result of training\\nprograms.\\nAssessing and Developing\\nEach employee is in charge of her/his \\nown professional development. However,\\nthe Company endeavours to offer the'),\n",
       " Document(metadata={'source': '/kaggle/input/humanresourcehr-policy/humanresourcespolicy.pdf', 'page': 11, 'page_label': '12'}, page_content='opportunity to progress for those having \\nthe determination and the potential to\\ndevelop their capabilities.\\n11\\nProfessional Development\\nThe Nestlé Human Resources Policy'),\n",
       " Document(metadata={'source': '/kaggle/input/humanresourcehr-policy/humanresourcespolicy.pdf', 'page': 12, 'page_label': '13'}, page_content='Professional Development \\nSuch opportunities should take into account\\nthe potential of each employee and be\\ndiscussed with transparency. They will be\\nbased on defined possibilities, concentrate'),\n",
       " Document(metadata={'source': '/kaggle/input/humanresourcehr-policy/humanresourcespolicy.pdf', 'page': 12, 'page_label': '13'}, page_content='on the next career step and not on vague\\npromises or remote hypotheses. The\\nCompany encourages its employees to\\nexpress their objectives and expectations \\nin an open dialogue.'),\n",
       " Document(metadata={'source': '/kaggle/input/humanresourcehr-policy/humanresourcespolicy.pdf', 'page': 12, 'page_label': '13'}, page_content='The objective is to retain and motivate\\nemployees by offering attractive but realistic\\ncareer moves allowing them to develop \\ntheir skills over a long-term period'),\n",
       " Document(metadata={'source': '/kaggle/input/humanresourcehr-policy/humanresourcespolicy.pdf', 'page': 12, 'page_label': '13'}, page_content='within the framework of economic reality\\nand a changing environment.\\nWhereas succession plans forecast the\\nCompany needs, they will be reconciled,\\ninasmuch as possible, with individual'),\n",
       " Document(metadata={'source': '/kaggle/input/humanresourcehr-policy/humanresourcespolicy.pdf', 'page': 12, 'page_label': '13'}, page_content='development plans.\\nHR management provides the support for\\nimplementing the necessary planning tools,\\nhaving in mind the necessary flexibility \\nto cope with unforeseen situations.'),\n",
       " Document(metadata={'source': '/kaggle/input/humanresourcehr-policy/humanresourcespolicy.pdf', 'page': 12, 'page_label': '13'}, page_content='However, it is understood that each\\nmanager is co-responsible for preparing \\nthe resources necessary to the development\\nof the Company as this is also part of \\nhis accountability.'),\n",
       " Document(metadata={'source': '/kaggle/input/humanresourcehr-policy/humanresourcespolicy.pdf', 'page': 12, 'page_label': '13'}, page_content='his accountability.\\nRegular counselling and guidance are \\nthe best tools for improving performance \\nand for helping people develop their \\nskills. It also allows to correct errors swiftly'),\n",
       " Document(metadata={'source': '/kaggle/input/humanresourcehr-policy/humanresourcespolicy.pdf', 'page': 12, 'page_label': '13'}, page_content='and to transform them into a positive\\nlearning experience. In an organisation \\nwith flat structures this supports better\\ndelegation. Direct personal contact should'),\n",
       " Document(metadata={'source': '/kaggle/input/humanresourcehr-policy/humanresourcespolicy.pdf', 'page': 12, 'page_label': '13'}, page_content='always been given preference over written\\ncommunication whenever possible. \\nEach manager has the duty to act\\nas a mentor for his employees.\\nFormal assessment should take place on'),\n",
       " Document(metadata={'source': '/kaggle/input/humanresourcehr-policy/humanresourcespolicy.pdf', 'page': 12, 'page_label': '13'}, page_content='a regular basis, preferably once a year. Its\\npurpose is to provide feedback on past\\nperformance and future potential as well as\\non other relevant aspects concerning a staff'),\n",
       " Document(metadata={'source': '/kaggle/input/humanresourcehr-policy/humanresourcespolicy.pdf', 'page': 12, 'page_label': '13'}, page_content='member’s work including the development\\nof his skills and competencies. Both the\\npositive and negative aspects of individual\\nperformance should be frankly addressed.'),\n",
       " Document(metadata={'source': '/kaggle/input/humanresourcehr-policy/humanresourcespolicy.pdf', 'page': 12, 'page_label': '13'}, page_content='Assessment of performance should be\\nbased on facts rather than opinions. \\nFor managerial positions, assessment will\\nbe based essentially on agreed objectives\\nand their level of achievement.\\n12'),\n",
       " Document(metadata={'source': '/kaggle/input/humanresourcehr-policy/humanresourcespolicy.pdf', 'page': 12, 'page_label': '13'}, page_content='12\\nThe Nestlé Human Resources Policy'),\n",
       " Document(metadata={'source': '/kaggle/input/humanresourcehr-policy/humanresourcespolicy.pdf', 'page': 13, 'page_label': '14'}, page_content='Efficient performance management\\nemphasising the achievement of agreed\\nobjectives is a prime responsibility for \\neach manager. The necessary time should\\nbe dedicated to the monitoring and the'),\n",
       " Document(metadata={'source': '/kaggle/input/humanresourcehr-policy/humanresourcespolicy.pdf', 'page': 13, 'page_label': '14'}, page_content='follow-up of the progressive achievement \\nof objectives during the year.\\nThis feedback is meant to stimulate\\nperformance and should take place through\\nan open dialogue based on mutual trust'),\n",
       " Document(metadata={'source': '/kaggle/input/humanresourcehr-policy/humanresourcespolicy.pdf', 'page': 13, 'page_label': '14'}, page_content='and willingness to progress. It is requested\\nto provide written evidence of such\\nmeetings. Focus should be essentially on\\ncontinuous improvement, appropriate\\ntraining measures but also on shaping a'),\n",
       " Document(metadata={'source': '/kaggle/input/humanresourcehr-policy/humanresourcespolicy.pdf', 'page': 13, 'page_label': '14'}, page_content='stimulating working environment.\\nIn case of serious underperformance, \\na termination of employment should be\\nenvisaged. Such termination should \\nbe handled with due respect of the person'),\n",
       " Document(metadata={'source': '/kaggle/input/humanresourcehr-policy/humanresourcespolicy.pdf', 'page': 13, 'page_label': '14'}, page_content='and should include, where appropriate,\\nseparation terms that take into account \\nthe employee’s personal situation.\\nWhen assessing potential it should be'),\n",
       " Document(metadata={'source': '/kaggle/input/humanresourcehr-policy/humanresourcespolicy.pdf', 'page': 13, 'page_label': '14'}, page_content='kept in mind that the best indicator of talent \\nis achievement. Therefore responsibility\\nshould be given as early as reasonable \\nto allow people to prove themselves.'),\n",
       " Document(metadata={'source': '/kaggle/input/humanresourcehr-policy/humanresourcespolicy.pdf', 'page': 13, 'page_label': '14'}, page_content='Candidates for managerial positions should\\nclearly have demonstrated their willingness\\nand ability to apply the Nestlé Management\\nand Leadership Principles . \\n13\\nThe Nestlé Human Resources Policy'),\n",
       " Document(metadata={'source': '/kaggle/input/humanresourcehr-policy/humanresourcespolicy.pdf', 'page': 13, 'page_label': '14'}, page_content='Promotions will exclusively \\nbe based on competence, insight,\\nperformance and potential with \\nthe exclusion of any consideration\\nfor origin, race, nationality, gender,\\nreligion or age.'),\n",
       " Document(metadata={'source': '/kaggle/input/humanresourcehr-policy/humanresourcespolicy.pdf', 'page': 13, 'page_label': '14'}, page_content='religion or age.\\nFlexibility is a requirement for ensuring \\na positive professional evolution. Staff may\\nbe requested to move to other positions.\\nManagers, especially international staff, may'),\n",
       " Document(metadata={'source': '/kaggle/input/humanresourcehr-policy/humanresourcespolicy.pdf', 'page': 13, 'page_label': '14'}, page_content='be asked to move to other locations.\\nInternational experience and participation \\nin group development initiatives such as\\nGLOBE, SMPT and others can be acquired'),\n",
       " Document(metadata={'source': '/kaggle/input/humanresourcehr-policy/humanresourcespolicy.pdf', 'page': 13, 'page_label': '14'}, page_content='in all countries of the Group and are a\\nrequirement for holding high-level positions.\\nThe development of expertise in specific\\nareas of competence is determinant for the'),\n",
       " Document(metadata={'source': '/kaggle/input/humanresourcehr-policy/humanresourcespolicy.pdf', 'page': 13, 'page_label': '14'}, page_content='Company’s success. Therefore job rotation\\nshould be practised with caution. Whilst \\njob rotation might be useful under certain\\ncircumstances, it should not result'),\n",
       " Document(metadata={'source': '/kaggle/input/humanresourcehr-policy/humanresourcespolicy.pdf', 'page': 13, 'page_label': '14'}, page_content='in weakening our expertise in key areas.\\nProfessional Development'),\n",
       " Document(metadata={'source': '/kaggle/input/humanresourcehr-policy/humanresourcespolicy.pdf', 'page': 14, 'page_label': '15'}, page_content='Nestlé upholds the freedom of association\\nof its employees and the effective\\nrecognition of the right to collective\\nbargaining.\\nNestlé wishes, also through its relationship'),\n",
       " Document(metadata={'source': '/kaggle/input/humanresourcehr-policy/humanresourcespolicy.pdf', 'page': 14, 'page_label': '15'}, page_content='with unions and other representative\\nassociations, to sustain the long-term\\ndevelopment of the Company, both to the\\nbenefit of the employees and of the\\nCompany, by maintaining a level of'),\n",
       " Document(metadata={'source': '/kaggle/input/humanresourcehr-policy/humanresourcespolicy.pdf', 'page': 14, 'page_label': '15'}, page_content='competitiveness adapted to its economic\\nenvironment.\\nIndustrial relations are a clear responsibility\\nof local management and will be handled \\nat the appropriate level: first at site'),\n",
       " Document(metadata={'source': '/kaggle/input/humanresourcehr-policy/humanresourcespolicy.pdf', 'page': 14, 'page_label': '15'}, page_content='level (factories, warehouse) subsequently \\nat regional or national level, according \\nto local law and practices.\\nNestlé will ensure that direct and frequent\\ncommunication is established with its'),\n",
       " Document(metadata={'source': '/kaggle/input/humanresourcehr-policy/humanresourcespolicy.pdf', 'page': 14, 'page_label': '15'}, page_content='employees, both union members and \\nnon-members, as mentioned in the Nestlé\\nManagement and Leadership Principles .\\nRelations with unions will be established\\nunder strict observation of national law,'),\n",
       " Document(metadata={'source': '/kaggle/input/humanresourcehr-policy/humanresourcespolicy.pdf', 'page': 14, 'page_label': '15'}, page_content='local practices as well as those international\\nrecommendations to which Nestlé has\\nadhered to on a voluntary basis as stated \\nin the Corporate Business Principles.\\n14'),\n",
       " Document(metadata={'source': '/kaggle/input/humanresourcehr-policy/humanresourcespolicy.pdf', 'page': 14, 'page_label': '15'}, page_content='14\\nThe Nestlé Human Resources Policy\\nContacts with union delegates should create\\na further opportunity to provide information\\nallowing their members and other'),\n",
       " Document(metadata={'source': '/kaggle/input/humanresourcehr-policy/humanresourcespolicy.pdf', 'page': 14, 'page_label': '15'}, page_content='representative associations to acquire a full\\nunderstanding of the business activities \\nand the goals of Nestlé.\\nIn accordance with local legislation, Nestlé'),\n",
       " Document(metadata={'source': '/kaggle/input/humanresourcehr-policy/humanresourcespolicy.pdf', 'page': 14, 'page_label': '15'}, page_content='will refrain from any action restricting the\\nemployee’s right to be or not to be affiliated\\nto a union.\\nNestlé will not engage with any union or\\nother representative association in activities'),\n",
       " Document(metadata={'source': '/kaggle/input/humanresourcehr-policy/humanresourcespolicy.pdf', 'page': 14, 'page_label': '15'}, page_content='or discussions other than those relating \\nto employment and working conditions as\\nwell as issues relating to the workplace.\\nWhenever negotiations take place, they will'),\n",
       " Document(metadata={'source': '/kaggle/input/humanresourcehr-policy/humanresourcespolicy.pdf', 'page': 14, 'page_label': '15'}, page_content='be duly prepared with the full involvement\\nof line management and take into account\\nboth the Company’s and the employees’\\nlegitimate interest. In dealings with'),\n",
       " Document(metadata={'source': '/kaggle/input/humanresourcehr-policy/humanresourcespolicy.pdf', 'page': 14, 'page_label': '15'}, page_content='unions, it will be ensured that management\\nprerogatives be properly maintained.\\nIndustrial Relations'),\n",
       " Document(metadata={'source': '/kaggle/input/humanresourcehr-policy/humanresourcespolicy.pdf', 'page': 15, 'page_label': '16'}, page_content='The fact that Nestlé is more \\npeople and product than systems\\noriented is reflected in the way HR\\nis functioning and is organised.\\nProcesses and systems as well as'),\n",
       " Document(metadata={'source': '/kaggle/input/humanresourcehr-policy/humanresourcespolicy.pdf', 'page': 15, 'page_label': '16'}, page_content='professional HR tools are there to support\\nHR management but never to the detriment\\nof the human dimension. The human\\nperspective should be present at all times\\nand under all circumstances.'),\n",
       " Document(metadata={'source': '/kaggle/input/humanresourcehr-policy/humanresourcespolicy.pdf', 'page': 15, 'page_label': '16'}, page_content='The HR function should report to the\\nmanager responsible for a defined operation\\n(Region, Market, Country, Factory) with a\\nfunctional relation to the market HR'),\n",
       " Document(metadata={'source': '/kaggle/input/humanresourcehr-policy/humanresourcespolicy.pdf', 'page': 15, 'page_label': '16'}, page_content='according to the size of that operation.\\nThe HR manager should not only have the\\nskills and competencies from a purely\\nprofessional standpoint but also have the\\ncharisma and the credibility to be a'),\n",
       " Document(metadata={'source': '/kaggle/input/humanresourcehr-policy/humanresourcespolicy.pdf', 'page': 15, 'page_label': '16'}, page_content='trustworthy partner to her/his colleagues. \\nWhereas the HR function should indeed\\nprovide flawless administrative support, its\\nmain role is to add value to the business'),\n",
       " Document(metadata={'source': '/kaggle/input/humanresourcehr-policy/humanresourcespolicy.pdf', 'page': 15, 'page_label': '16'}, page_content='and to play a proactive role in every\\nsituation where HR action is required. \\nSpecific HR KPI’s are useful in assessing \\nthe performance of an HR unit. However, \\nit should be kept in mind that the'),\n",
       " Document(metadata={'source': '/kaggle/input/humanresourcehr-policy/humanresourcespolicy.pdf', 'page': 15, 'page_label': '16'}, page_content='HR contribution aims in the first place at\\noptimising the overall company performance\\nthrough improving people performance.\\nWith the evidence that the human capital'),\n",
       " Document(metadata={'source': '/kaggle/input/humanresourcehr-policy/humanresourcespolicy.pdf', 'page': 15, 'page_label': '16'}, page_content='is of increasing importance, HR plays\\nindeed a pivotal role in the conception \\nand implementation of the people \\nstrategies that impact financial results \\nand the organisation’s overall reputation'),\n",
       " Document(metadata={'source': '/kaggle/input/humanresourcehr-policy/humanresourcespolicy.pdf', 'page': 15, 'page_label': '16'}, page_content='and effectiveness.\\n15\\nThe Nestlé Human Resources Policy\\nHR Organisation'),\n",
       " Document(metadata={'source': '/kaggle/input/humanresourcehr-policy/humanresourcespolicy.pdf', 'page': 16, 'page_label': '17'}, page_content='The Nestlé Human Resources Policy\\n© October 2002, Nestec Ltd., Human Resources Department\\nConcept and design: Nestec Ltd., B-COM , Corporate Identity and Design, Vevey, Switzerland'),\n",
       " Document(metadata={'source': '/kaggle/input/humanresourcehr-policy/humanresourcespolicy.pdf', 'page': 16, 'page_label': '17'}, page_content='Printed by Neidhart + Schön AG, Zurich, Switzerland')]"
      ]
     },
     "execution_count": 8,
     "metadata": {},
     "output_type": "execute_result"
    }
   ],
   "source": [
    "texts"
   ]
  },
  {
   "cell_type": "markdown",
   "metadata": {},
   "source": [
    "#### Create Embeddings and store vector representation of inputs"
   ]
  },
  {
   "cell_type": "code",
   "execution_count": 9,
   "metadata": {
    "execution": {
     "iopub.execute_input": "2025-01-21T14:02:28.081344Z",
     "iopub.status.busy": "2025-01-21T14:02:28.080884Z",
     "iopub.status.idle": "2025-01-21T14:02:28.086879Z",
     "shell.execute_reply": "2025-01-21T14:02:28.085460Z",
     "shell.execute_reply.started": "2025-01-21T14:02:28.081312Z"
    }
   },
   "outputs": [],
   "source": [
    "api_key=\"\""
   ]
  },
  {
   "cell_type": "code",
   "execution_count": 10,
   "metadata": {
    "execution": {
     "iopub.execute_input": "2025-01-21T14:02:32.976347Z",
     "iopub.status.busy": "2025-01-21T14:02:32.975981Z",
     "iopub.status.idle": "2025-01-21T14:02:33.237871Z",
     "shell.execute_reply": "2025-01-21T14:02:33.236093Z",
     "shell.execute_reply.started": "2025-01-21T14:02:32.976320Z"
    }
   },
   "outputs": [],
   "source": [
    "openai_embeddings = OpenAIEmbeddings(openai_api_key = api_key)"
   ]
  },
  {
   "cell_type": "code",
   "execution_count": 11,
   "metadata": {
    "execution": {
     "iopub.execute_input": "2025-01-21T14:02:40.370876Z",
     "iopub.status.busy": "2025-01-21T14:02:40.370487Z",
     "iopub.status.idle": "2025-01-21T14:02:46.952882Z",
     "shell.execute_reply": "2025-01-21T14:02:46.951167Z",
     "shell.execute_reply.started": "2025-01-21T14:02:40.370848Z"
    }
   },
   "outputs": [],
   "source": [
    "vectordb = Chroma.from_documents(\n",
    "    documents = texts,\n",
    "    embedding = openai_embeddings,\n",
    "    persist_directory = \"/kaggle/working/vector_store/\"\n",
    ")\n",
    "vectordb.persist()"
   ]
  },
  {
   "cell_type": "markdown",
   "metadata": {},
   "source": [
    "#### Create OpenAI Retrieval Model"
   ]
  },
  {
   "cell_type": "code",
   "execution_count": 13,
   "metadata": {
    "execution": {
     "iopub.execute_input": "2025-01-21T14:05:53.657334Z",
     "iopub.status.busy": "2025-01-21T14:05:53.656942Z",
     "iopub.status.idle": "2025-01-21T14:05:53.791821Z",
     "shell.execute_reply": "2025-01-21T14:05:53.790531Z",
     "shell.execute_reply.started": "2025-01-21T14:05:53.657307Z"
    }
   },
   "outputs": [],
   "source": [
    "from langchain.chat_models import ChatOpenAI\n",
    "\n",
    "# build llm\n",
    "llm = ChatOpenAI(model_name = \"gpt-3.5-turbo\",\n",
    "                openai_api_key = api_key,\n",
    "                temperature = 1.0,\n",
    "                max_tokens = 1000)"
   ]
  },
  {
   "cell_type": "code",
   "execution_count": 14,
   "metadata": {
    "execution": {
     "iopub.execute_input": "2025-01-21T14:06:07.053767Z",
     "iopub.status.busy": "2025-01-21T14:06:07.053404Z",
     "iopub.status.idle": "2025-01-21T14:06:07.059630Z",
     "shell.execute_reply": "2025-01-21T14:06:07.058365Z",
     "shell.execute_reply.started": "2025-01-21T14:06:07.053744Z"
    }
   },
   "outputs": [],
   "source": [
    "Retrieval_Chain = RetrievalQA.from_chain_type(llm,\n",
    "                           retriever = vectordb.as_retriever(),\n",
    "                           return_source_documents = True)"
   ]
  },
  {
   "cell_type": "markdown",
   "metadata": {},
   "source": [
    "### Get QA Response from Retrieval QA"
   ]
  },
  {
   "cell_type": "code",
   "execution_count": 15,
   "metadata": {
    "execution": {
     "iopub.execute_input": "2025-01-21T14:13:08.010979Z",
     "iopub.status.busy": "2025-01-21T14:13:08.010585Z",
     "iopub.status.idle": "2025-01-21T14:13:36.393162Z",
     "shell.execute_reply": "2025-01-21T14:13:36.391856Z",
     "shell.execute_reply.started": "2025-01-21T14:13:08.010946Z"
    }
   },
   "outputs": [
    {
     "name": "stdout",
     "output_type": "stream",
     "text": [
      "I am your virtualHR @ Nestle. Ask me anything.\n"
     ]
    },
    {
     "name": "stdin",
     "output_type": "stream",
     "text": [
      "User:  how is the worklife balance in your company\n"
     ]
    },
    {
     "name": "stdout",
     "output_type": "stream",
     "text": [
      "\n",
      " HR Response : \n",
      "At Nestlé, the company believes in maintaining a good balance between an employee's private and professional life. This balance is seen as crucial for enhancing productivity, satisfaction, loyalty, and positively reflecting on the company's reputation. Nestlé encourages flexible working arrangements to support work-life balance, and employees are encouraged to communicate their objectives and expectations openly.\n"
     ]
    },
    {
     "name": "stdin",
     "output_type": "stream",
     "text": [
      "User:  quit\n"
     ]
    }
   ],
   "source": [
    "chat_history = []\n",
    "print(\"I am your virtualHR @ Nestle. Ask me anything.\")\n",
    "while True:\n",
    "    prompt = input(\"User: \")\n",
    "    if prompt.lower() == 'quit':\n",
    "        break\n",
    "    if prompt.strip == \"\":\n",
    "        continue\n",
    "    reply = Retrieval_Chain(prompt)\n",
    "    print(f\"\\n HR Response : \")\n",
    "    print(reply['result'])"
   ]
  }
 ],
 "metadata": {
  "kaggle": {
   "accelerator": "none",
   "dataSources": [
    {
     "datasetId": 6515549,
     "sourceId": 10527997,
     "sourceType": "datasetVersion"
    }
   ],
   "dockerImageVersionId": 30839,
   "isGpuEnabled": false,
   "isInternetEnabled": true,
   "language": "python",
   "sourceType": "notebook"
  },
  "kernelspec": {
   "display_name": "Python 3 (ipykernel)",
   "language": "python",
   "name": "python3"
  },
  "language_info": {
   "codemirror_mode": {
    "name": "ipython",
    "version": 3
   },
   "file_extension": ".py",
   "mimetype": "text/x-python",
   "name": "python",
   "nbconvert_exporter": "python",
   "pygments_lexer": "ipython3",
   "version": "3.11.7"
  }
 },
 "nbformat": 4,
 "nbformat_minor": 4
}
