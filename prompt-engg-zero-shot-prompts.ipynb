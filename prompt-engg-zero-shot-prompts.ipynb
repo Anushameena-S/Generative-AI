{
 "cells": [
  {
   "cell_type": "code",
   "execution_count": 1,
   "metadata": {
    "_cell_guid": "b1076dfc-b9ad-4769-8c92-a6c4dae69d19",
    "_uuid": "8f2839f25d086af736a60e9eeb907d3b93b6e0e5",
    "execution": {
     "iopub.execute_input": "2025-01-23T13:04:46.046177Z",
     "iopub.status.busy": "2025-01-23T13:04:46.045425Z",
     "iopub.status.idle": "2025-01-23T13:04:54.131047Z",
     "shell.execute_reply": "2025-01-23T13:04:54.129666Z",
     "shell.execute_reply.started": "2025-01-23T13:04:46.046139Z"
    }
   },
   "outputs": [
    {
     "name": "stdout",
     "output_type": "stream",
     "text": [
      "Collecting openai==0.28\n",
      "  Downloading openai-0.28.0-py3-none-any.whl.metadata (13 kB)\n",
      "Requirement already satisfied: requests>=2.20 in /usr/local/lib/python3.10/dist-packages (from openai==0.28) (2.32.3)\n",
      "Requirement already satisfied: tqdm in /usr/local/lib/python3.10/dist-packages (from openai==0.28) (4.67.1)\n",
      "Requirement already satisfied: aiohttp in /usr/local/lib/python3.10/dist-packages (from openai==0.28) (3.11.10)\n",
      "Requirement already satisfied: charset-normalizer<4,>=2 in /usr/local/lib/python3.10/dist-packages (from requests>=2.20->openai==0.28) (3.4.0)\n",
      "Requirement already satisfied: idna<4,>=2.5 in /usr/local/lib/python3.10/dist-packages (from requests>=2.20->openai==0.28) (3.10)\n",
      "Requirement already satisfied: urllib3<3,>=1.21.1 in /usr/local/lib/python3.10/dist-packages (from requests>=2.20->openai==0.28) (2.2.3)\n",
      "Requirement already satisfied: certifi>=2017.4.17 in /usr/local/lib/python3.10/dist-packages (from requests>=2.20->openai==0.28) (2024.12.14)\n",
      "Requirement already satisfied: aiohappyeyeballs>=2.3.0 in /usr/local/lib/python3.10/dist-packages (from aiohttp->openai==0.28) (2.4.4)\n",
      "Requirement already satisfied: aiosignal>=1.1.2 in /usr/local/lib/python3.10/dist-packages (from aiohttp->openai==0.28) (1.3.2)\n",
      "Requirement already satisfied: async-timeout<6.0,>=4.0 in /usr/local/lib/python3.10/dist-packages (from aiohttp->openai==0.28) (4.0.3)\n",
      "Requirement already satisfied: attrs>=17.3.0 in /usr/local/lib/python3.10/dist-packages (from aiohttp->openai==0.28) (24.3.0)\n",
      "Requirement already satisfied: frozenlist>=1.1.1 in /usr/local/lib/python3.10/dist-packages (from aiohttp->openai==0.28) (1.5.0)\n",
      "Requirement already satisfied: multidict<7.0,>=4.5 in /usr/local/lib/python3.10/dist-packages (from aiohttp->openai==0.28) (6.1.0)\n",
      "Requirement already satisfied: propcache>=0.2.0 in /usr/local/lib/python3.10/dist-packages (from aiohttp->openai==0.28) (0.2.1)\n",
      "Requirement already satisfied: yarl<2.0,>=1.17.0 in /usr/local/lib/python3.10/dist-packages (from aiohttp->openai==0.28) (1.18.3)\n",
      "Requirement already satisfied: typing-extensions>=4.1.0 in /usr/local/lib/python3.10/dist-packages (from multidict<7.0,>=4.5->aiohttp->openai==0.28) (4.12.2)\n",
      "Downloading openai-0.28.0-py3-none-any.whl (76 kB)\n",
      "\u001b[2K   \u001b[90m━━━━━━━━━━━━━━━━━━━━━━━━━━━━━━━━━━━━━━━━\u001b[0m \u001b[32m76.5/76.5 kB\u001b[0m \u001b[31m2.0 MB/s\u001b[0m eta \u001b[36m0:00:00\u001b[0m\n",
      "\u001b[?25hInstalling collected packages: openai\n",
      "  Attempting uninstall: openai\n",
      "    Found existing installation: openai 1.57.4\n",
      "    Uninstalling openai-1.57.4:\n",
      "      Successfully uninstalled openai-1.57.4\n",
      "Successfully installed openai-0.28.0\n"
     ]
    }
   ],
   "source": [
    "!pip install openai==0.28"
   ]
  },
  {
   "cell_type": "code",
   "execution_count": 2,
   "metadata": {
    "execution": {
     "iopub.execute_input": "2025-01-23T13:04:54.132832Z",
     "iopub.status.busy": "2025-01-23T13:04:54.132462Z",
     "iopub.status.idle": "2025-01-23T13:04:54.683126Z",
     "shell.execute_reply": "2025-01-23T13:04:54.682138Z",
     "shell.execute_reply.started": "2025-01-23T13:04:54.132798Z"
    }
   },
   "outputs": [],
   "source": [
    "import openai"
   ]
  },
  {
   "cell_type": "code",
   "execution_count": 3,
   "metadata": {
    "execution": {
     "iopub.execute_input": "2025-01-23T13:04:54.684937Z",
     "iopub.status.busy": "2025-01-23T13:04:54.684339Z",
     "iopub.status.idle": "2025-01-23T13:04:54.689976Z",
     "shell.execute_reply": "2025-01-23T13:04:54.688788Z",
     "shell.execute_reply.started": "2025-01-23T13:04:54.684892Z"
    }
   },
   "outputs": [],
   "source": [
    "# https://platform.openai.com/docs/overview\n",
    "api_key = \"\""
   ]
  },
  {
   "cell_type": "code",
   "execution_count": 4,
   "metadata": {
    "execution": {
     "iopub.execute_input": "2025-01-23T13:04:54.693218Z",
     "iopub.status.busy": "2025-01-23T13:04:54.692832Z",
     "iopub.status.idle": "2025-01-23T13:04:54.714772Z",
     "shell.execute_reply": "2025-01-23T13:04:54.713607Z",
     "shell.execute_reply.started": "2025-01-23T13:04:54.693190Z"
    }
   },
   "outputs": [],
   "source": [
    "def zero_shot_completion(prompt, chat_history = []):\n",
    "    messages = [{'role':'user', 'content': msg} for prompt in chat_history]\n",
    "    messages.append({'role':'user','content': prompt})\n",
    "    \n",
    "    # generate a response from model\n",
    "    response = openai.ChatCompletion.create(\n",
    "        api_key = api_key,\n",
    "        model = 'gpt-3.5-turbo',\n",
    "        messages = messages,\n",
    "        max_tokens = 1000,        # Maximum number of tokens\n",
    "        temperature = 1.0,        # Controls randomness in the output (0.0 to 2.0), temp closer to 0.0 model will generate repetitive o/p\n",
    "        top_p = 0.9,              # Nucleus Sampling\n",
    "        presence_penalty = 0.5,   # Penalizes new tokens based on wheather they appear in the text so far.\n",
    "        frequency_penalty = 0.5   # Penalizes new tokens based on their frequency in the text so far\n",
    "    )\n",
    "    model_reply = response['choices'][0]['message']['content']\n",
    "    return model_reply"
   ]
  },
  {
   "cell_type": "code",
   "execution_count": 5,
   "metadata": {
    "execution": {
     "iopub.execute_input": "2025-01-23T13:04:54.716933Z",
     "iopub.status.busy": "2025-01-23T13:04:54.716530Z",
     "iopub.status.idle": "2025-01-23T13:04:54.733765Z",
     "shell.execute_reply": "2025-01-23T13:04:54.732399Z",
     "shell.execute_reply.started": "2025-01-23T13:04:54.716892Z"
    }
   },
   "outputs": [],
   "source": [
    "prompt = \"\"\"\n",
    "Translate input from english to spanish.\n",
    "Input: Hello, How are you doing today?\n",
    "Output:\n",
    "\"\"\""
   ]
  },
  {
   "cell_type": "code",
   "execution_count": 6,
   "metadata": {
    "execution": {
     "iopub.execute_input": "2025-01-23T13:04:54.735371Z",
     "iopub.status.busy": "2025-01-23T13:04:54.735022Z",
     "iopub.status.idle": "2025-01-23T13:04:56.730548Z",
     "shell.execute_reply": "2025-01-23T13:04:56.729275Z",
     "shell.execute_reply.started": "2025-01-23T13:04:54.735341Z"
    }
   },
   "outputs": [
    {
     "name": "stdout",
     "output_type": "stream",
     "text": [
      "Hola, ¿Cómo estás hoy?\n"
     ]
    }
   ],
   "source": [
    "response = zero_shot_completion(prompt)\n",
    "print(response)"
   ]
  },
  {
   "cell_type": "code",
   "execution_count": 7,
   "metadata": {
    "execution": {
     "iopub.execute_input": "2025-01-23T13:04:56.731988Z",
     "iopub.status.busy": "2025-01-23T13:04:56.731720Z",
     "iopub.status.idle": "2025-01-23T13:04:56.737523Z",
     "shell.execute_reply": "2025-01-23T13:04:56.736112Z",
     "shell.execute_reply.started": "2025-01-23T13:04:56.731963Z"
    }
   },
   "outputs": [],
   "source": [
    "prompt = \"\"\"\n",
    "Write a instagram post to promote an online workshop about generative ai and prompt engineering targeting working professions \n",
    "and software developers. Limit the post content within 200 words.\n",
    "\"\"\""
   ]
  },
  {
   "cell_type": "code",
   "execution_count": 8,
   "metadata": {
    "execution": {
     "iopub.execute_input": "2025-01-23T13:04:56.739012Z",
     "iopub.status.busy": "2025-01-23T13:04:56.738671Z",
     "iopub.status.idle": "2025-01-23T13:04:59.299914Z",
     "shell.execute_reply": "2025-01-23T13:04:59.298853Z",
     "shell.execute_reply.started": "2025-01-23T13:04:56.738985Z"
    }
   },
   "outputs": [
    {
     "name": "stdout",
     "output_type": "stream",
     "text": [
      "🚀 Exciting news for all working professionals and software developers! Join us for our upcoming online workshop on generative AI and prompt engineering. Whether you're looking to enhance your skills or dive into the world of artificial intelligence, this workshop is perfect for you. 💻\n",
      "\n",
      "During this workshop, you will learn how to leverage generative AI models to create unique and innovative solutions in your work projects. From generating text to designing images, the possibilities are endless with this cutting-edge technology.\n",
      "\n",
      "Don't miss out on the opportunity to stay ahead in your industry and learn from experts in the field. Sign up now and take your career to new heights with our generative AI workshop!\n",
      "\n",
      "📅 Date: [Insert date]\n",
      "⏰ Time: [Insert time]\n",
      "📍 Location: Online\n",
      "💻 Register now at [Link]\n",
      "\n",
      "#GenerativeAI #PromptEngineering #OnlineWorkshop #ArtificialIntelligence #SoftwareDevelopers #ProfessionalDevelopment #InnovateYourCareer\n"
     ]
    }
   ],
   "source": [
    "response = zero_shot_completion(prompt)\n",
    "print(response)"
   ]
  }
 ],
 "metadata": {
  "kaggle": {
   "accelerator": "none",
   "dataSources": [],
   "dockerImageVersionId": 30839,
   "isGpuEnabled": false,
   "isInternetEnabled": true,
   "language": "python",
   "sourceType": "notebook"
  },
  "kernelspec": {
   "display_name": "Python 3 (ipykernel)",
   "language": "python",
   "name": "python3"
  },
  "language_info": {
   "codemirror_mode": {
    "name": "ipython",
    "version": 3
   },
   "file_extension": ".py",
   "mimetype": "text/x-python",
   "name": "python",
   "nbconvert_exporter": "python",
   "pygments_lexer": "ipython3",
   "version": "3.11.7"
  }
 },
 "nbformat": 4,
 "nbformat_minor": 4
}
