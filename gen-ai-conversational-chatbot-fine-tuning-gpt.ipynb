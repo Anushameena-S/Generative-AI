{
 "cells": [
  {
   "cell_type": "code",
   "execution_count": 1,
   "metadata": {
    "_cell_guid": "b1076dfc-b9ad-4769-8c92-a6c4dae69d19",
    "_uuid": "8f2839f25d086af736a60e9eeb907d3b93b6e0e5",
    "execution": {
     "iopub.execute_input": "2025-01-20T15:12:01.773281Z",
     "iopub.status.busy": "2025-01-20T15:12:01.773021Z",
     "iopub.status.idle": "2025-01-20T15:12:09.799467Z",
     "shell.execute_reply": "2025-01-20T15:12:09.797620Z",
     "shell.execute_reply.started": "2025-01-20T15:12:01.773256Z"
    }
   },
   "outputs": [
    {
     "name": "stdout",
     "output_type": "stream",
     "text": [
      "Collecting openai==0.28\n",
      "  Downloading openai-0.28.0-py3-none-any.whl.metadata (13 kB)\n",
      "Requirement already satisfied: requests>=2.20 in /usr/local/lib/python3.10/dist-packages (from openai==0.28) (2.32.3)\n",
      "Requirement already satisfied: tqdm in /usr/local/lib/python3.10/dist-packages (from openai==0.28) (4.67.1)\n",
      "Requirement already satisfied: aiohttp in /usr/local/lib/python3.10/dist-packages (from openai==0.28) (3.11.10)\n",
      "Requirement already satisfied: charset-normalizer<4,>=2 in /usr/local/lib/python3.10/dist-packages (from requests>=2.20->openai==0.28) (3.4.0)\n",
      "Requirement already satisfied: idna<4,>=2.5 in /usr/local/lib/python3.10/dist-packages (from requests>=2.20->openai==0.28) (3.10)\n",
      "Requirement already satisfied: urllib3<3,>=1.21.1 in /usr/local/lib/python3.10/dist-packages (from requests>=2.20->openai==0.28) (2.2.3)\n",
      "Requirement already satisfied: certifi>=2017.4.17 in /usr/local/lib/python3.10/dist-packages (from requests>=2.20->openai==0.28) (2024.12.14)\n",
      "Requirement already satisfied: aiohappyeyeballs>=2.3.0 in /usr/local/lib/python3.10/dist-packages (from aiohttp->openai==0.28) (2.4.4)\n",
      "Requirement already satisfied: aiosignal>=1.1.2 in /usr/local/lib/python3.10/dist-packages (from aiohttp->openai==0.28) (1.3.2)\n",
      "Requirement already satisfied: async-timeout<6.0,>=4.0 in /usr/local/lib/python3.10/dist-packages (from aiohttp->openai==0.28) (4.0.3)\n",
      "Requirement already satisfied: attrs>=17.3.0 in /usr/local/lib/python3.10/dist-packages (from aiohttp->openai==0.28) (24.3.0)\n",
      "Requirement already satisfied: frozenlist>=1.1.1 in /usr/local/lib/python3.10/dist-packages (from aiohttp->openai==0.28) (1.5.0)\n",
      "Requirement already satisfied: multidict<7.0,>=4.5 in /usr/local/lib/python3.10/dist-packages (from aiohttp->openai==0.28) (6.1.0)\n",
      "Requirement already satisfied: propcache>=0.2.0 in /usr/local/lib/python3.10/dist-packages (from aiohttp->openai==0.28) (0.2.1)\n",
      "Requirement already satisfied: yarl<2.0,>=1.17.0 in /usr/local/lib/python3.10/dist-packages (from aiohttp->openai==0.28) (1.18.3)\n",
      "Requirement already satisfied: typing-extensions>=4.1.0 in /usr/local/lib/python3.10/dist-packages (from multidict<7.0,>=4.5->aiohttp->openai==0.28) (4.12.2)\n",
      "Downloading openai-0.28.0-py3-none-any.whl (76 kB)\n",
      "\u001b[2K   \u001b[90m━━━━━━━━━━━━━━━━━━━━━━━━━━━━━━━━━━━━━━━━\u001b[0m \u001b[32m76.5/76.5 kB\u001b[0m \u001b[31m2.6 MB/s\u001b[0m eta \u001b[36m0:00:00\u001b[0m\n",
      "\u001b[?25hInstalling collected packages: openai\n",
      "  Attempting uninstall: openai\n",
      "    Found existing installation: openai 1.57.4\n",
      "    Uninstalling openai-1.57.4:\n",
      "      Successfully uninstalled openai-1.57.4\n",
      "Successfully installed openai-0.28.0\n"
     ]
    }
   ],
   "source": [
    "!pip install openai==0.28"
   ]
  },
  {
   "cell_type": "code",
   "execution_count": 2,
   "metadata": {
    "execution": {
     "iopub.execute_input": "2025-01-20T15:12:33.175850Z",
     "iopub.status.busy": "2025-01-20T15:12:33.175498Z",
     "iopub.status.idle": "2025-01-20T15:12:33.722667Z",
     "shell.execute_reply": "2025-01-20T15:12:33.721414Z",
     "shell.execute_reply.started": "2025-01-20T15:12:33.175819Z"
    }
   },
   "outputs": [],
   "source": [
    "import openai"
   ]
  },
  {
   "cell_type": "code",
   "execution_count": 3,
   "metadata": {
    "execution": {
     "iopub.execute_input": "2025-01-20T15:12:36.494012Z",
     "iopub.status.busy": "2025-01-20T15:12:36.493299Z",
     "iopub.status.idle": "2025-01-20T15:12:36.499923Z",
     "shell.execute_reply": "2025-01-20T15:12:36.498717Z",
     "shell.execute_reply.started": "2025-01-20T15:12:36.493966Z"
    }
   },
   "outputs": [],
   "source": [
    "api_key = \"\""
   ]
  },
  {
   "cell_type": "code",
   "execution_count": 4,
   "metadata": {
    "execution": {
     "iopub.execute_input": "2025-01-20T15:22:05.569916Z",
     "iopub.status.busy": "2025-01-20T15:22:05.569345Z",
     "iopub.status.idle": "2025-01-20T15:22:05.578137Z",
     "shell.execute_reply": "2025-01-20T15:22:05.576471Z",
     "shell.execute_reply.started": "2025-01-20T15:22:05.569877Z"
    }
   },
   "outputs": [],
   "source": [
    "def virtual_assistant(user_message, chat_history = []):\n",
    "    messages = [{'role':'system', 'content':'Act as a Travel Assistant.'}]\n",
    "    messages.extend([{'role':'user', 'content': msg} for msg in chat_history])\n",
    "    messages.append({'role':'user','content': user_message})\n",
    "    \n",
    "    # generate a response from model\n",
    "    response = openai.ChatCompletion.create(\n",
    "        api_key = api_key,\n",
    "        model = 'gpt-3.5-turbo',\n",
    "        messages = messages,\n",
    "        max_tokens = 1000,        # Maximum number of tokens\n",
    "        # Fine tuning Hyperparameters\n",
    "        temperature = 1.0,        # Controls randomness in the output (0.0 to 2.0), temp closer to 0.0 model will generate repetitive o/p\n",
    "        top_p = 0.9,              # Nucleus Sampling\n",
    "        presence_penalty = 0.5,   # Penalizes new tokens based on wheather they appear in the text so far.\n",
    "        frequency_penalty = 0.5   # Penalizes new tokens based on their frequency in the text so far\n",
    "    )\n",
    "    model_reply = response['choices'][0]['message']['content']\n",
    "    print('Travel Assistant', model_reply)\n",
    "    return model_reply"
   ]
  },
  {
   "cell_type": "code",
   "execution_count": 5,
   "metadata": {
    "execution": {
     "iopub.execute_input": "2025-01-20T15:22:36.981841Z",
     "iopub.status.busy": "2025-01-20T15:22:36.981402Z",
     "iopub.status.idle": "2025-01-20T15:25:31.234236Z",
     "shell.execute_reply": "2025-01-20T15:25:31.232925Z",
     "shell.execute_reply.started": "2025-01-20T15:22:36.981798Z"
    }
   },
   "outputs": [
    {
     "name": "stdout",
     "output_type": "stream",
     "text": [
      "Hey I'm Your Trip Advisor. How can I assist you today?\n"
     ]
    },
    {
     "name": "stdin",
     "output_type": "stream",
     "text": [
      "User:  I am planning a spiritual and tradition tour for India. Suggest me 10 Days itinerary.\n"
     ]
    },
    {
     "name": "stdout",
     "output_type": "stream",
     "text": [
      "Travel Assistant Day 1: Arrival in Delhi\n",
      "- Arrive in Delhi, the capital city of India\n",
      "- Visit Jama Masjid, one of the largest mosques in India\n",
      "- Explore Chandni Chowk, a bustling market with traditional Indian goods\n",
      "- Stay overnight in Delhi\n",
      "\n",
      "Day 2: Delhi Sightseeing\n",
      "- Visit Humayun's Tomb, a UNESCO World Heritage Site\n",
      "- Explore Qutub Minar, the tallest brick minaret in the world\n",
      "- Visit Lotus Temple, known for its unique lotus-shaped architecture\n",
      "- Stay overnight in Delhi\n",
      "\n",
      "Day 3: Varanasi\n",
      "- Fly to Varanasi, one of the oldest living cities in the world and a major spiritual hub in India\n",
      "- Attend the Ganga Aarti ceremony on the banks of River Ganges at Dashashwamedh Ghat\n",
      "- Take a boat ride on River Ganges during sunrise or sunset for a spiritual experience\n",
      "- Stay overnight in Varanasi\n",
      "\n",
      "Day 4: Varanasi Exploration\n",
      "- Visit Kashi Vishwanath Temple dedicated to Lord Shiva\n",
      "- Explore Sarnath, where Lord Buddha gave his first sermon after attaining enlightenment\n",
      "- Experience a traditional Ayurvedic massage for relaxation and rejuvenation\n",
      "- Stay overnight in Varanasi\n",
      "\n",
      "Day 5: Khajuraho Temples \n",
      "- Fly to Khajuraho and visit the famous Khajuraho Group of Monuments known for their intricate sculptures and architectural beauty \n",
      "- Explore temples like Kandariya Mahadev Temple, Lakshmana Temple, and Vishwanath Temple \n",
      "Stay overnight in Khajuraho \n",
      "\n",
      "Day 6: Orchha \n",
      " - Drive to Orchha and explore its historic palaces and temples including Jahangir Mahal, Raj Mahal, Ram Raja Temple \n",
      " - Witness the evening prayer ceremony at Ram Raja Temple   \n",
      " - Stay overnight in Orchha \n",
      "\n",
      "Day 7: Agra \n",
      " - Drive to Agra and visit Taj Mahal - an epitome of love  \n",
      " - Explore Agra Fort which served as a royal residence   \n",
      " - Enjoy shopping for local handicrafts   \n",
      " - Stay overnight in Agra \n",
      "\n",
      "Day 8: Jaipur \n",
      " - Drive to Jaipur also known as Pink City   \n",
      " - Visit Amer Fort, City Palace  \n",
      " - Explore Jantar Mantar – UNESCO World Heritage Site   \n",
      "Stay overnight in Jaipur \n",
      "\n",
      "Day 9: Pushkar  \n",
      " - Drive to Pushkar – an ancient city famous for Brahma Temple & Pushkar Lake   \n",
      " - Visit temples & Ghats around Pushkar Lake    \n",
      "Stay overnight in Pushkar \n",
      "\n",
      "Day 10: Departure from Jaipur  \n",
      " - Enjoy breakfast at leisure. Depending on your flight timing you can do some last-minute souvenir shopping or relax before heading to Jaipur airport for your onward journey.\n",
      "\n",
      "This itinerary combines spirituality with cultural experiences that showcase India's rich traditions. Let me know if you need any more details or assistance with bookings!\n"
     ]
    },
    {
     "name": "stdin",
     "output_type": "stream",
     "text": [
      "User:  Include both north and south indian place with 10 days plan\n"
     ]
    },
    {
     "name": "stdout",
     "output_type": "stream",
     "text": [
      "Travel Assistant Day 1-3: Delhi\n",
      "- Arrive in Delhi, explore historical sites like Red Fort, Jama Masjid, and Qutub Minar.\n",
      "- Visit spiritual places such as Lotus Temple and Akshardham Temple.\n",
      "- Explore traditional markets like Chandni Chowk and Dilli Haat for shopping and street food.\n",
      "\n",
      "Day 4-5: Varanasi\n",
      "- Fly to Varanasi, one of the oldest living cities in the world.\n",
      "- Experience spiritual ceremonies at the ghats of River Ganges.\n",
      "- Visit Sarnath, where Buddha delivered his first sermon.\n",
      "\n",
      "Day 6-7: Jaipur\n",
      "- Travel to Jaipur, known as the Pink City.\n",
      "- Explore Amber Fort, City Palace, and Hawa Mahal.\n",
      "- Visit traditional markets like Johari Bazaar and Bapu Bazaar for handicrafts and textiles.\n",
      "\n",
      "Day 8-9: Kerala\n",
      "- Fly to Kochi in Kerala, known for its backwaters and Ayurvedic treatments.\n",
      "- Experience a houseboat cruise on the backwaters of Alleppey.\n",
      "- Visit traditional Kathakali dance performances and explore tea plantations in Munnar.\n",
      "\n",
      "Day 10: Bangalore/Mysore\n",
      "- Fly to Bangalore or Mysore in South India.\n",
      "- Explore historic sites like Mysore Palace or Lalbagh Botanical Garden in Bangalore.\n",
      "- Conclude your trip with a visit to local temples or ashrams for spiritual experiences before departing.\n",
      "\n",
      "This itinerary offers a mix of spiritual sites, cultural experiences, and traditional elements from both North and South India within a span of 10 days. Remember to adjust travel times according to flight schedules.\n"
     ]
    },
    {
     "name": "stdin",
     "output_type": "stream",
     "text": [
      "User:  quit\n"
     ]
    }
   ],
   "source": [
    "chat_history = []\n",
    "print(\"Hey I'm Your Trip Advisor. How can I assist you today?\")\n",
    "while True:\n",
    "    user_input = input(\"User: \")\n",
    "    if user_input.lower() == 'quit':\n",
    "        break\n",
    "    gpt_reply = virtual_assistant(user_input, chat_history)\n",
    "    chat_history.append(user_input)\n",
    "    chat_history.append(user_input)"
   ]
  }
 ],
 "metadata": {
  "kaggle": {
   "accelerator": "none",
   "dataSources": [],
   "dockerImageVersionId": 30839,
   "isGpuEnabled": false,
   "isInternetEnabled": true,
   "language": "python",
   "sourceType": "notebook"
  },
  "kernelspec": {
   "display_name": "Python 3 (ipykernel)",
   "language": "python",
   "name": "python3"
  },
  "language_info": {
   "codemirror_mode": {
    "name": "ipython",
    "version": 3
   },
   "file_extension": ".py",
   "mimetype": "text/x-python",
   "name": "python",
   "nbconvert_exporter": "python",
   "pygments_lexer": "ipython3",
   "version": "3.11.7"
  }
 },
 "nbformat": 4,
 "nbformat_minor": 4
}
