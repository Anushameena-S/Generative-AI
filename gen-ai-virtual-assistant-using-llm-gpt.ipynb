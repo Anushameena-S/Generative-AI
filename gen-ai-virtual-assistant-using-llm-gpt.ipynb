{
 "cells": [
  {
   "cell_type": "code",
   "execution_count": 2,
   "metadata": {
    "execution": {
     "iopub.execute_input": "2025-01-17T15:27:44.259134Z",
     "iopub.status.busy": "2025-01-17T15:27:44.258692Z",
     "iopub.status.idle": "2025-01-17T15:27:50.465436Z",
     "shell.execute_reply": "2025-01-17T15:27:50.464278Z",
     "shell.execute_reply.started": "2025-01-17T15:27:44.259090Z"
    }
   },
   "outputs": [
    {
     "name": "stdout",
     "output_type": "stream",
     "text": [
      "Collecting openai==0.28\n",
      "  Downloading openai-0.28.0-py3-none-any.whl.metadata (13 kB)\n",
      "Requirement already satisfied: requests>=2.20 in /usr/local/lib/python3.10/dist-packages (from openai==0.28) (2.32.3)\n",
      "Requirement already satisfied: tqdm in /usr/local/lib/python3.10/dist-packages (from openai==0.28) (4.67.1)\n",
      "Requirement already satisfied: aiohttp in /usr/local/lib/python3.10/dist-packages (from openai==0.28) (3.11.10)\n",
      "Requirement already satisfied: charset-normalizer<4,>=2 in /usr/local/lib/python3.10/dist-packages (from requests>=2.20->openai==0.28) (3.4.0)\n",
      "Requirement already satisfied: idna<4,>=2.5 in /usr/local/lib/python3.10/dist-packages (from requests>=2.20->openai==0.28) (3.10)\n",
      "Requirement already satisfied: urllib3<3,>=1.21.1 in /usr/local/lib/python3.10/dist-packages (from requests>=2.20->openai==0.28) (2.2.3)\n",
      "Requirement already satisfied: certifi>=2017.4.17 in /usr/local/lib/python3.10/dist-packages (from requests>=2.20->openai==0.28) (2024.12.14)\n",
      "Requirement already satisfied: aiohappyeyeballs>=2.3.0 in /usr/local/lib/python3.10/dist-packages (from aiohttp->openai==0.28) (2.4.4)\n",
      "Requirement already satisfied: aiosignal>=1.1.2 in /usr/local/lib/python3.10/dist-packages (from aiohttp->openai==0.28) (1.3.2)\n",
      "Requirement already satisfied: async-timeout<6.0,>=4.0 in /usr/local/lib/python3.10/dist-packages (from aiohttp->openai==0.28) (4.0.3)\n",
      "Requirement already satisfied: attrs>=17.3.0 in /usr/local/lib/python3.10/dist-packages (from aiohttp->openai==0.28) (24.3.0)\n",
      "Requirement already satisfied: frozenlist>=1.1.1 in /usr/local/lib/python3.10/dist-packages (from aiohttp->openai==0.28) (1.5.0)\n",
      "Requirement already satisfied: multidict<7.0,>=4.5 in /usr/local/lib/python3.10/dist-packages (from aiohttp->openai==0.28) (6.1.0)\n",
      "Requirement already satisfied: propcache>=0.2.0 in /usr/local/lib/python3.10/dist-packages (from aiohttp->openai==0.28) (0.2.1)\n",
      "Requirement already satisfied: yarl<2.0,>=1.17.0 in /usr/local/lib/python3.10/dist-packages (from aiohttp->openai==0.28) (1.18.3)\n",
      "Requirement already satisfied: typing-extensions>=4.1.0 in /usr/local/lib/python3.10/dist-packages (from multidict<7.0,>=4.5->aiohttp->openai==0.28) (4.12.2)\n",
      "Downloading openai-0.28.0-py3-none-any.whl (76 kB)\n",
      "\u001b[2K   \u001b[90m━━━━━━━━━━━━━━━━━━━━━━━━━━━━━━━━━━━━━━━━\u001b[0m \u001b[32m76.5/76.5 kB\u001b[0m \u001b[31m4.2 MB/s\u001b[0m eta \u001b[36m0:00:00\u001b[0m\n",
      "\u001b[?25hInstalling collected packages: openai\n",
      "  Attempting uninstall: openai\n",
      "    Found existing installation: openai 1.57.4\n",
      "    Uninstalling openai-1.57.4:\n",
      "      Successfully uninstalled openai-1.57.4\n",
      "Successfully installed openai-0.28.0\n"
     ]
    }
   ],
   "source": [
    "!pip install openai==0.28"
   ]
  },
  {
   "cell_type": "code",
   "execution_count": 5,
   "metadata": {
    "execution": {
     "iopub.execute_input": "2025-01-17T15:57:51.209563Z",
     "iopub.status.busy": "2025-01-17T15:57:51.209109Z",
     "iopub.status.idle": "2025-01-17T15:57:51.781914Z",
     "shell.execute_reply": "2025-01-17T15:57:51.780283Z",
     "shell.execute_reply.started": "2025-01-17T15:57:51.209528Z"
    }
   },
   "outputs": [],
   "source": [
    "import openai"
   ]
  },
  {
   "cell_type": "code",
   "execution_count": 3,
   "metadata": {
    "execution": {
     "iopub.execute_input": "2025-01-17T15:39:10.205361Z",
     "iopub.status.busy": "2025-01-17T15:39:10.204847Z",
     "iopub.status.idle": "2025-01-17T15:39:10.211415Z",
     "shell.execute_reply": "2025-01-17T15:39:10.209490Z",
     "shell.execute_reply.started": "2025-01-17T15:39:10.205319Z"
    }
   },
   "outputs": [],
   "source": [
    "api_key = \"\""
   ]
  },
  {
   "cell_type": "code",
   "execution_count": 6,
   "metadata": {
    "execution": {
     "iopub.execute_input": "2025-01-17T16:01:16.104159Z",
     "iopub.status.busy": "2025-01-17T16:01:16.103403Z",
     "iopub.status.idle": "2025-01-17T16:01:16.111904Z",
     "shell.execute_reply": "2025-01-17T16:01:16.110170Z",
     "shell.execute_reply.started": "2025-01-17T16:01:16.104084Z"
    }
   },
   "outputs": [],
   "source": [
    "def virtual_assistant(user_message, chat_history = []):\n",
    "    messages = [{'role':'system', 'content':'Act as a Travel Assistant.'}]\n",
    "    messages.extend([{'role':'user', 'content': msg} for msg in chat_history])\n",
    "    messages.append({'role':'user','content': user_message})\n",
    "    \n",
    "    # generate a response from model\n",
    "    response = openai.ChatCompletion.create(\n",
    "        api_key = api_key,\n",
    "        model = 'gpt-3.5-turbo',\n",
    "        messages = messages,\n",
    "        max_tokens = 1000       # 1 token is roughly 4 character, max_tokens is maximum size\n",
    "    )\n",
    "    model_reply = response['choices'][0]['message']['content']\n",
    "    print('Travel Assistant', model_reply)\n",
    "    return model_reply"
   ]
  },
  {
   "cell_type": "code",
   "execution_count": 7,
   "metadata": {
    "execution": {
     "iopub.execute_input": "2025-01-17T16:02:12.073518Z",
     "iopub.status.busy": "2025-01-17T16:02:12.073122Z",
     "iopub.status.idle": "2025-01-17T16:02:40.571628Z",
     "shell.execute_reply": "2025-01-17T16:02:40.570090Z",
     "shell.execute_reply.started": "2025-01-17T16:02:12.073489Z"
    }
   },
   "outputs": [
    {
     "name": "stdout",
     "output_type": "stream",
     "text": [
      "Hey I'm Your Trip Advisor. How can I assist you today?\n"
     ]
    },
    {
     "name": "stdin",
     "output_type": "stream",
     "text": [
      "User:  Hi. Suggest me Top 10 places to visit in India. I am visiting to explore traditional and cultural values.\n"
     ]
    },
    {
     "name": "stdout",
     "output_type": "stream",
     "text": [
      "Travel Assistant Sure! Here are the top 10 places in India that offer a rich cultural experience and a glimpse into the traditional values of the country:\n",
      "\n",
      "1. Varanasi, Uttar Pradesh - Known for its ancient temples, spiritual significance, and religious rituals along the banks of the Ganges River.\n",
      "\n",
      "2. Jaipur, Rajasthan - Also known as the Pink City, famous for its magnificent palaces, forts, and vibrant culture.\n",
      "\n",
      "3. Udaipur, Rajasthan - Known as the City of Lakes, Udaipur is famous for its stunning palaces, lakes, and traditional Rajasthani architecture.\n",
      "\n",
      "4. Khajuraho, Madhya Pradesh - Famous for its exquisite temples showcasing intricate carvings and sculptures that depict various aspects of life and culture.\n",
      "\n",
      "5. Hampi, Karnataka - A UNESCO World Heritage Site known for its ancient ruins, temples, and intricate stone carvings.\n",
      "\n",
      "6. Mahabalipuram, Tamil Nadu - Famous for its ancient rock-cut temples, cave sanctuaries, and beautiful coastal scenery.\n",
      "\n",
      "7. Kochi, Kerala - A port city with a rich history of trade and cultural exchange, featuring historic sites, markets, and vibrant art scenes.\n",
      "\n",
      "8. Pushkar, Rajasthan - Known for its sacred lake, colorful camel fair, and traditional Rajasthani culture.\n",
      "\n",
      "9. Amritsar, Punjab - Home to the Golden Temple, a significant spiritual and cultural site for Sikhs, as well as delicious Punjabi cuisine.\n",
      "\n",
      "10. Kolkata, West Bengal - A city known for its rich literary heritage, artistic traditions, and historic architecture, reflecting the blend of British, Indian, and Bengali culture.\n",
      "\n",
      "These destinations offer a mix of history, tradition, and cultural experiences that will give you a deep insight into the diverse cultural fabric of India.\n"
     ]
    },
    {
     "name": "stdin",
     "output_type": "stream",
     "text": [
      "User:  quit\n"
     ]
    }
   ],
   "source": [
    "chat_history = []\n",
    "print(\"Hey I'm Your Trip Advisor. How can I assist you today?\")\n",
    "while True:\n",
    "    user_input = input(\"User: \")\n",
    "    if user_input.lower() == 'quit':\n",
    "        break\n",
    "    gpt_reply = virtual_assistant(user_input, chat_history)\n",
    "    chat_history.append(user_input)\n",
    "    chat_history.append(user_input)"
   ]
  }
 ],
 "metadata": {
  "kaggle": {
   "accelerator": "none",
   "dataSources": [],
   "dockerImageVersionId": 30839,
   "isGpuEnabled": false,
   "isInternetEnabled": true,
   "language": "python",
   "sourceType": "notebook"
  },
  "kernelspec": {
   "display_name": "Python 3 (ipykernel)",
   "language": "python",
   "name": "python3"
  },
  "language_info": {
   "codemirror_mode": {
    "name": "ipython",
    "version": 3
   },
   "file_extension": ".py",
   "mimetype": "text/x-python",
   "name": "python",
   "nbconvert_exporter": "python",
   "pygments_lexer": "ipython3",
   "version": "3.11.7"
  }
 },
 "nbformat": 4,
 "nbformat_minor": 4
}
