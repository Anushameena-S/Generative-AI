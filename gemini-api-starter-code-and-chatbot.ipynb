{
 "cells": [
  {
   "cell_type": "code",
   "execution_count": null,
   "metadata": {
    "_cell_guid": "b1076dfc-b9ad-4769-8c92-a6c4dae69d19",
    "_uuid": "8f2839f25d086af736a60e9eeb907d3b93b6e0e5"
   },
   "outputs": [],
   "source": [
    "#Gemini API Key \n",
    "# https://aistudio.google.com/prompts/new_chat"
   ]
  },
  {
   "cell_type": "code",
   "execution_count": 1,
   "metadata": {
    "execution": {
     "iopub.execute_input": "2025-01-27T13:52:41.243285Z",
     "iopub.status.busy": "2025-01-27T13:52:41.243050Z",
     "iopub.status.idle": "2025-01-27T13:53:01.565540Z",
     "shell.execute_reply": "2025-01-27T13:53:01.564200Z",
     "shell.execute_reply.started": "2025-01-27T13:52:41.243262Z"
    }
   },
   "outputs": [
    {
     "name": "stdout",
     "output_type": "stream",
     "text": [
      "\u001b[2K   \u001b[90m━━━━━━━━━━━━━━━━━━━━━━━━━━━━━━━━━━━━━━━━\u001b[0m \u001b[32m175.4/175.4 kB\u001b[0m \u001b[31m3.7 MB/s\u001b[0m eta \u001b[36m0:00:00\u001b[0m00:01\u001b[0m\n",
      "\u001b[2K   \u001b[90m━━━━━━━━━━━━━━━━━━━━━━━━━━━━━━━━━━━━━━━━\u001b[0m \u001b[32m1.3/1.3 MB\u001b[0m \u001b[31m26.6 MB/s\u001b[0m eta \u001b[36m0:00:00\u001b[0m00:01\u001b[0m\n",
      "\u001b[?25h"
     ]
    }
   ],
   "source": [
    "!pip install -U -q \"google-generativeai>=0.8.3\""
   ]
  },
  {
   "cell_type": "code",
   "execution_count": 2,
   "metadata": {
    "execution": {
     "iopub.execute_input": "2025-01-27T13:53:26.549098Z",
     "iopub.status.busy": "2025-01-27T13:53:26.548748Z",
     "iopub.status.idle": "2025-01-27T13:53:28.342844Z",
     "shell.execute_reply": "2025-01-27T13:53:28.341645Z",
     "shell.execute_reply.started": "2025-01-27T13:53:26.549066Z"
    }
   },
   "outputs": [],
   "source": [
    "import google.generativeai as genai"
   ]
  },
  {
   "cell_type": "code",
   "execution_count": 3,
   "metadata": {
    "execution": {
     "iopub.execute_input": "2025-01-27T13:56:54.690329Z",
     "iopub.status.busy": "2025-01-27T13:56:54.689702Z",
     "iopub.status.idle": "2025-01-27T13:56:54.695127Z",
     "shell.execute_reply": "2025-01-27T13:56:54.693964Z",
     "shell.execute_reply.started": "2025-01-27T13:56:54.690296Z"
    }
   },
   "outputs": [],
   "source": [
    "apiKey=\"\"\n",
    "genai.configure(api_key=apiKey)"
   ]
  },
  {
   "cell_type": "code",
   "execution_count": 15,
   "metadata": {
    "execution": {
     "iopub.execute_input": "2025-01-27T15:00:12.927396Z",
     "iopub.status.busy": "2025-01-27T15:00:12.926956Z",
     "iopub.status.idle": "2025-01-27T15:00:13.780034Z",
     "shell.execute_reply": "2025-01-27T15:00:13.779022Z",
     "shell.execute_reply.started": "2025-01-27T15:00:12.927334Z"
    }
   },
   "outputs": [
    {
     "name": "stdout",
     "output_type": "stream",
     "text": [
      "models/chat-bison-001\n",
      "models/text-bison-001\n",
      "models/embedding-gecko-001\n",
      "models/gemini-1.0-pro-latest\n",
      "models/gemini-1.0-pro\n",
      "models/gemini-pro\n",
      "models/gemini-1.0-pro-001\n",
      "models/gemini-1.0-pro-vision-latest\n",
      "models/gemini-pro-vision\n",
      "models/gemini-1.5-pro-latest\n",
      "models/gemini-1.5-pro-001\n",
      "models/gemini-1.5-pro-002\n",
      "models/gemini-1.5-pro\n",
      "models/gemini-1.5-pro-exp-0801\n",
      "models/gemini-1.5-pro-exp-0827\n",
      "models/gemini-1.5-flash-latest\n",
      "models/gemini-1.5-flash-001\n",
      "models/gemini-1.5-flash-001-tuning\n",
      "models/gemini-1.5-flash\n",
      "models/gemini-1.5-flash-exp-0827\n",
      "models/gemini-1.5-flash-002\n",
      "models/gemini-1.5-flash-8b\n",
      "models/gemini-1.5-flash-8b-001\n",
      "models/gemini-1.5-flash-8b-latest\n",
      "models/gemini-1.5-flash-8b-exp-0827\n",
      "models/gemini-1.5-flash-8b-exp-0924\n",
      "models/gemini-2.0-flash-exp\n",
      "models/gemini-exp-1206\n",
      "models/gemini-exp-1121\n",
      "models/gemini-exp-1114\n",
      "models/gemini-2.0-flash-thinking-exp-01-21\n",
      "models/gemini-2.0-flash-thinking-exp\n",
      "models/gemini-2.0-flash-thinking-exp-1219\n",
      "models/learnlm-1.5-pro-experimental\n",
      "models/embedding-001\n",
      "models/text-embedding-004\n",
      "models/aqa\n"
     ]
    }
   ],
   "source": [
    "for model in genai.list_models():\n",
    "    print(model.name)"
   ]
  },
  {
   "cell_type": "code",
   "execution_count": 4,
   "metadata": {
    "execution": {
     "iopub.execute_input": "2025-01-27T14:00:46.364119Z",
     "iopub.status.busy": "2025-01-27T14:00:46.363691Z",
     "iopub.status.idle": "2025-01-27T14:00:46.368854Z",
     "shell.execute_reply": "2025-01-27T14:00:46.367611Z",
     "shell.execute_reply.started": "2025-01-27T14:00:46.364089Z"
    }
   },
   "outputs": [],
   "source": [
    "model = genai.GenerativeModel(\"gemini-pro\")"
   ]
  },
  {
   "cell_type": "code",
   "execution_count": 6,
   "metadata": {
    "execution": {
     "iopub.execute_input": "2025-01-27T14:01:23.924266Z",
     "iopub.status.busy": "2025-01-27T14:01:23.923959Z",
     "iopub.status.idle": "2025-01-27T14:01:31.842957Z",
     "shell.execute_reply": "2025-01-27T14:01:31.841915Z",
     "shell.execute_reply.started": "2025-01-27T14:01:23.924243Z"
    }
   },
   "outputs": [],
   "source": [
    "response = model.generate_content(\"What is solar system in milkyway galaxy?\")"
   ]
  },
  {
   "cell_type": "code",
   "execution_count": 7,
   "metadata": {
    "execution": {
     "iopub.execute_input": "2025-01-27T14:01:37.241198Z",
     "iopub.status.busy": "2025-01-27T14:01:37.240865Z",
     "iopub.status.idle": "2025-01-27T14:01:37.246549Z",
     "shell.execute_reply": "2025-01-27T14:01:37.245384Z",
     "shell.execute_reply.started": "2025-01-27T14:01:37.241173Z"
    }
   },
   "outputs": [
    {
     "name": "stdout",
     "output_type": "stream",
     "text": [
      "The solar system is a gravitationally bound system of the Sun, eight planets, dwarf planets, and many moons, asteroids, comets and meteoroids. It is located in the Milky Way galaxy.\n",
      "\n",
      "The solar system formed 4.6 billion years ago from the gravitational collapse of a giant molecular cloud. The vast majority of the system's mass is in the Sun, with the majority of the remaining mass contained in Jupiter. The four smaller inner planets, Mercury, Venus, Earth and Mars, are terrestrial planets, being primarily composed of rock and metal. The four outer planets are giant planets, being substantially more massive than the terrestrials. The two outermost planets, Uranus and Neptune, are ice giants, being composed mostly of substances with relatively low melting points compared to hydrogen and helium, called volatiles. All planets have almost circular orbits that lie within a nearly flat disc called the ecliptic.\n",
      "\n",
      "The solar system also contains two regions populated by small bodies. The asteroid belt, which lies between the orbits of Mars and Jupiter, contains mostly asteroids. Beyond Neptune's orbit lies the Kuiper belt, which contains mostly comets and some dwarf planets such as Pluto. Within the Kuiper belt lies the scattered disc, which is a population of icy bodies with highly elliptical orbits.\n",
      "\n",
      "The Sun is a G-type main-sequence star. It is the source of most of the energy in the solar system, which reaches the Earth in the form of sunlight. The Sun's energy is produced by nuclear fusion reactions in its core.\n",
      "\n",
      "The planets in the solar system can be divided into two groups: the inner planets and the outer planets. The inner planets are Mercury, Venus, Earth, and Mars. They are all relatively small and rocky, and they orbit the Sun relatively quickly. The outer planets are Jupiter, Saturn, Uranus, and Neptune. They are all much larger than the inner planets, and they orbit the Sun much more slowly.\n",
      "\n",
      "The solar system is not static. It is constantly evolving, as the planets and other objects in the solar system interact with each other. The gravitational interactions between the planets can cause their orbits to change slightly over time. The solar system is also affected by the gravitational forces of other objects in the Milky Way galaxy.\n",
      "\n",
      "The solar system is a fascinating and complex system. It is a place of great beauty and wonder, and it is home to a wide variety of life. The solar system is also a place of great scientific interest, and it is still being studied and explored today.\n"
     ]
    }
   ],
   "source": [
    "print(response.text)"
   ]
  },
  {
   "cell_type": "code",
   "execution_count": 8,
   "metadata": {
    "execution": {
     "iopub.execute_input": "2025-01-27T14:02:57.850597Z",
     "iopub.status.busy": "2025-01-27T14:02:57.850162Z",
     "iopub.status.idle": "2025-01-27T14:02:57.857608Z",
     "shell.execute_reply": "2025-01-27T14:02:57.856667Z",
     "shell.execute_reply.started": "2025-01-27T14:02:57.850559Z"
    }
   },
   "outputs": [
    {
     "data": {
      "text/plain": [
       "[content {\n",
       "  parts {\n",
       "    text: \"The solar system is a gravitationally bound system of the Sun, eight planets, dwarf planets, and many moons, asteroids, comets and meteoroids. It is located in the Milky Way galaxy.\\n\\nThe solar system formed 4.6 billion years ago from the gravitational collapse of a giant molecular cloud. The vast majority of the system\\'s mass is in the Sun, with the majority of the remaining mass contained in Jupiter. The four smaller inner planets, Mercury, Venus, Earth and Mars, are terrestrial planets, being primarily composed of rock and metal. The four outer planets are giant planets, being substantially more massive than the terrestrials. The two outermost planets, Uranus and Neptune, are ice giants, being composed mostly of substances with relatively low melting points compared to hydrogen and helium, called volatiles. All planets have almost circular orbits that lie within a nearly flat disc called the ecliptic.\\n\\nThe solar system also contains two regions populated by small bodies. The asteroid belt, which lies between the orbits of Mars and Jupiter, contains mostly asteroids. Beyond Neptune\\'s orbit lies the Kuiper belt, which contains mostly comets and some dwarf planets such as Pluto. Within the Kuiper belt lies the scattered disc, which is a population of icy bodies with highly elliptical orbits.\\n\\nThe Sun is a G-type main-sequence star. It is the source of most of the energy in the solar system, which reaches the Earth in the form of sunlight. The Sun\\'s energy is produced by nuclear fusion reactions in its core.\\n\\nThe planets in the solar system can be divided into two groups: the inner planets and the outer planets. The inner planets are Mercury, Venus, Earth, and Mars. They are all relatively small and rocky, and they orbit the Sun relatively quickly. The outer planets are Jupiter, Saturn, Uranus, and Neptune. They are all much larger than the inner planets, and they orbit the Sun much more slowly.\\n\\nThe solar system is not static. It is constantly evolving, as the planets and other objects in the solar system interact with each other. The gravitational interactions between the planets can cause their orbits to change slightly over time. The solar system is also affected by the gravitational forces of other objects in the Milky Way galaxy.\\n\\nThe solar system is a fascinating and complex system. It is a place of great beauty and wonder, and it is home to a wide variety of life. The solar system is also a place of great scientific interest, and it is still being studied and explored today.\"\n",
       "  }\n",
       "  role: \"model\"\n",
       "}\n",
       "finish_reason: STOP\n",
       "index: 0\n",
       "safety_ratings {\n",
       "  category: HARM_CATEGORY_SEXUALLY_EXPLICIT\n",
       "  probability: NEGLIGIBLE\n",
       "}\n",
       "safety_ratings {\n",
       "  category: HARM_CATEGORY_HATE_SPEECH\n",
       "  probability: NEGLIGIBLE\n",
       "}\n",
       "safety_ratings {\n",
       "  category: HARM_CATEGORY_HARASSMENT\n",
       "  probability: NEGLIGIBLE\n",
       "}\n",
       "safety_ratings {\n",
       "  category: HARM_CATEGORY_DANGEROUS_CONTENT\n",
       "  probability: NEGLIGIBLE\n",
       "}\n",
       "citation_metadata {\n",
       "  citation_sources {\n",
       "    start_index: 183\n",
       "    end_index: 347\n",
       "    uri: \"https://km.wikipedia.org/wiki/%E1%9E%94%E1%9F%92%E1%9E%9A%E1%9E%96%E1%9F%90%E1%9E%93%E1%9F%92%E1%9E%92%E1%9E%96%E1%9F%92%E1%9E%9A%E1%9F%87%E1%9E%A2%E1%9E%B6%E1%9E%91%E1%9E%B7%E1%9E%8F%E1%9F%92%E1%9E%99\"\n",
       "    license_: \"\"\n",
       "  }\n",
       "  citation_sources {\n",
       "    start_index: 361\n",
       "    end_index: 642\n",
       "    uri: \"https://www.scribd.com/document/421101432/CSS-General-Science-and-Ability-pdf\"\n",
       "    license_: \"\"\n",
       "  }\n",
       "  citation_sources {\n",
       "    start_index: 821\n",
       "    end_index: 943\n",
       "    uri: \"https://www.scribd.com/document/421101432/CSS-General-Science-and-Ability-pdf\"\n",
       "    license_: \"\"\n",
       "  }\n",
       "}\n",
       "]"
      ]
     },
     "execution_count": 8,
     "metadata": {},
     "output_type": "execute_result"
    }
   ],
   "source": [
    "response.candidates"
   ]
  },
  {
   "cell_type": "markdown",
   "metadata": {},
   "source": [
    "#### Conversational Chatbot"
   ]
  },
  {
   "cell_type": "code",
   "execution_count": 12,
   "metadata": {
    "execution": {
     "iopub.execute_input": "2025-01-27T14:30:54.846013Z",
     "iopub.status.busy": "2025-01-27T14:30:54.845596Z",
     "iopub.status.idle": "2025-01-27T14:30:54.851335Z",
     "shell.execute_reply": "2025-01-27T14:30:54.849869Z",
     "shell.execute_reply.started": "2025-01-27T14:30:54.845971Z"
    }
   },
   "outputs": [],
   "source": [
    "def gemini_assistant(prompt):\n",
    "    model = genai.GenerativeModel(\"gemini-pro\")\n",
    "    chat = model.start_chat(history=[])\n",
    "    reponse = chat.send_message(prompt)\n",
    "    print('Ask me Anything:', reponse.text)"
   ]
  },
  {
   "cell_type": "code",
   "execution_count": 13,
   "metadata": {
    "execution": {
     "iopub.execute_input": "2025-01-27T14:31:10.748231Z",
     "iopub.status.busy": "2025-01-27T14:31:10.747918Z",
     "iopub.status.idle": "2025-01-27T14:31:18.397023Z",
     "shell.execute_reply": "2025-01-27T14:31:18.395856Z",
     "shell.execute_reply.started": "2025-01-27T14:31:10.748207Z"
    }
   },
   "outputs": [
    {
     "name": "stdout",
     "output_type": "stream",
     "text": [
      "Ask me Anything: **10-Day Spiritual and Tradition Tour of India**\n",
      "\n",
      "**Day 1:**\n",
      "\n",
      "* Arrive in Delhi and transfer to your hotel.\n",
      "* Visit the Akshardham Temple, a magnificent Hindu temple complex.\n",
      "\n",
      "**Day 2:**\n",
      "\n",
      "* Take an early morning flight to Varanasi.\n",
      "* Explore the sacred city of Varanasi, known for its ghats (riverfront steps) and spiritual significance.\n",
      "* Witness the Ganga Aarti ceremony at Dashashwamedh Ghat.\n",
      "\n",
      "**Day 3:**\n",
      "\n",
      "* Visit Sarnath, where Buddha gave his first sermon.\n",
      "* Meditate at the Bodhi Tree, where Buddha attained enlightenment.\n",
      "\n",
      "**Day 4:**\n",
      "\n",
      "* Take a train to Bodhgaya.\n",
      "* Visit the Mahabodhi Temple, the main site associated with Buddha's enlightenment.\n",
      "\n",
      "**Day 5:**\n",
      "\n",
      "* Explore the Nalanda University ruins, a renowned ancient Buddhist learning center.\n",
      "* Visit the Barabar Caves, ancient cave temples with intricate carvings.\n",
      "\n",
      "**Day 6:**\n",
      "\n",
      "* Take a flight to Delhi.\n",
      "* Visit the Jama Masjid, one of the largest mosques in India.\n",
      "\n",
      "**Day 7:**\n",
      "\n",
      "* Explore the Red Fort, a UNESCO World Heritage Site.\n",
      "* Attend a Qawwali concert at Nizamuddin Dargah.\n",
      "\n",
      "**Day 8:**\n",
      "\n",
      "* Take a train to Jaipur.\n",
      "* Visit the Amber Fort, a beautiful palace perched on a hilltop.\n",
      "\n",
      "**Day 9:**\n",
      "\n",
      "* Explore the City Palace, the former residence of the Maharajas of Jaipur.\n",
      "* Visit the Hawa Mahal, a unique palace with a facade of intricate windows.\n",
      "\n",
      "**Day 10:**\n",
      "\n",
      "* Depart from Jaipur.\n",
      "\n",
      "**Additional Recommendations:**\n",
      "\n",
      "* Consider visiting the Pushkar Temple during the annual Pushkar Camel Fair.\n",
      "* Include a yoga or meditation retreat at one of the many ashrams in Rishikesh.\n",
      "* Visit the holy city of Amritsar and experience the Golden Temple.\n",
      "* Allow ample time for travel between cities, as India can have long distances and varying modes of transportation.\n"
     ]
    }
   ],
   "source": [
    "gemini_assistant(\"I am planning a spiritual and tradition tour for India. Suggest me 10 Days itinerary.\")"
   ]
  },
  {
   "cell_type": "code",
   "execution_count": 14,
   "metadata": {
    "execution": {
     "iopub.execute_input": "2025-01-27T14:32:18.461925Z",
     "iopub.status.busy": "2025-01-27T14:32:18.461520Z",
     "iopub.status.idle": "2025-01-27T14:32:26.735205Z",
     "shell.execute_reply": "2025-01-27T14:32:26.734078Z",
     "shell.execute_reply.started": "2025-01-27T14:32:18.461893Z"
    }
   },
   "outputs": [
    {
     "name": "stdout",
     "output_type": "stream",
     "text": [
      "Ask me Anything: **Day 1:**\n",
      "\n",
      "* Arrive in Chennai, the capital of Tamil Nadu.\n",
      "* Visit Marina Beach, India's longest urban beach.\n",
      "* Explore Kapaleeshwarar Temple, a historic Hindu shrine.\n",
      "\n",
      "**Day 2:**\n",
      "\n",
      "* Drive to Mahabalipuram (1.5 hours).\n",
      "* Visit the UNESCO World Heritage Site of Mahabalipuram, famous for its ancient rock-cut sculptures.\n",
      "\n",
      "**Day 3:**\n",
      "\n",
      "* Drive to Puducherry (2 hours).\n",
      "* Explore the French Quarter of this former French colony.\n",
      "* Visit the Promenade Beach and savour some local seafood.\n",
      "\n",
      "**Day 4:**\n",
      "\n",
      "* Drive to Thanjavur (4 hours).\n",
      "* Visit the Brihadeeswarar Temple, another UNESCO World Heritage Site.\n",
      "* Explore the Thanjavur Palace and Art Gallery.\n",
      "\n",
      "**Day 5:**\n",
      "\n",
      "* Drive to Madurai (4 hours).\n",
      "* Check in to your hotel near the Meenakshi Temple.\n",
      "\n",
      "**Day 6:**\n",
      "\n",
      "* Visit Meenakshi Temple, one of the most famous Hindu temples in India.\n",
      "* Take a walk through the colourful bazaars surrounding the temple.\n",
      "\n",
      "**Day 7:**\n",
      "\n",
      "* Drive to Kodaikanal (4 hours).\n",
      "* Enjoy the scenic hill station with its picturesque lakes and waterfalls.\n",
      "\n",
      "**Day 8:**\n",
      "\n",
      "* Drive to Munnar (5 hours).\n",
      "* Explore the lush tea plantations and rolling hills of the Western Ghats.\n",
      "\n",
      "**Day 9:**\n",
      "\n",
      "* Visit the Mattupetty Dam and take a boat ride on its scenic reservoir.\n",
      "* Enjoy a traditional Kerala meal at a local restaurant.\n",
      "\n",
      "**Day 10:**\n",
      "\n",
      "* Drive to Kochi (3 hours).\n",
      "* Visit Fort Kochi, the oldest European settlement in India.\n",
      "* Depart from Cochin International Airport.\n",
      "\n",
      "**Tips:**\n",
      "\n",
      "* Consider extending your trip by a day or two to fully explore the beauty of the Western Ghats.\n",
      "* Learn a few basic Tamil or Malayalam phrases to enhance your interactions.\n",
      "* Book your accommodation and transportation in advance, especially during peak season.\n",
      "* Respect local customs and traditions.\n",
      "* Pack light clothing and comfortable walking shoes.\n"
     ]
    }
   ],
   "source": [
    "gemini_assistant(\"Ok i am also interested in visiting south indian states, so replan it for same 10 days.\")"
   ]
  },
  {
   "cell_type": "markdown",
   "metadata": {},
   "source": [
    "#### Config Gemini model"
   ]
  },
  {
   "cell_type": "code",
   "execution_count": 18,
   "metadata": {
    "execution": {
     "iopub.execute_input": "2025-01-27T15:08:02.355339Z",
     "iopub.status.busy": "2025-01-27T15:08:02.355019Z",
     "iopub.status.idle": "2025-01-27T15:08:02.360023Z",
     "shell.execute_reply": "2025-01-27T15:08:02.358619Z",
     "shell.execute_reply.started": "2025-01-27T15:08:02.355315Z"
    }
   },
   "outputs": [],
   "source": [
    "gemini_config = {\n",
    "    \"temperature\" : 0.9,\n",
    "    \"top_p\" : 1,\n",
    "    \"top_k\" : 1,             # top_k wider selection of tokens (1-40)\n",
    "    \"max_output_tokens\" : 400,    # max token output size (1-8192)\n",
    "}"
   ]
  },
  {
   "cell_type": "code",
   "execution_count": 19,
   "metadata": {
    "execution": {
     "iopub.execute_input": "2025-01-27T15:08:05.406119Z",
     "iopub.status.busy": "2025-01-27T15:08:05.405778Z",
     "iopub.status.idle": "2025-01-27T15:08:05.410613Z",
     "shell.execute_reply": "2025-01-27T15:08:05.409200Z",
     "shell.execute_reply.started": "2025-01-27T15:08:05.406096Z"
    }
   },
   "outputs": [],
   "source": [
    "model = genai.GenerativeModel('gemini-pro',\n",
    "                            generation_config = gemini_config\n",
    "                           )"
   ]
  },
  {
   "cell_type": "code",
   "execution_count": 20,
   "metadata": {
    "execution": {
     "iopub.execute_input": "2025-01-27T15:09:22.275133Z",
     "iopub.status.busy": "2025-01-27T15:09:22.274692Z",
     "iopub.status.idle": "2025-01-27T15:09:29.615243Z",
     "shell.execute_reply": "2025-01-27T15:09:29.614282Z",
     "shell.execute_reply.started": "2025-01-27T15:09:22.275103Z"
    }
   },
   "outputs": [],
   "source": [
    "response = model.generate_content(\"What is solar system in milkyway galaxy?\")"
   ]
  },
  {
   "cell_type": "code",
   "execution_count": 21,
   "metadata": {
    "execution": {
     "iopub.execute_input": "2025-01-27T15:10:18.805230Z",
     "iopub.status.busy": "2025-01-27T15:10:18.804893Z",
     "iopub.status.idle": "2025-01-27T15:10:18.810682Z",
     "shell.execute_reply": "2025-01-27T15:10:18.809505Z",
     "shell.execute_reply.started": "2025-01-27T15:10:18.805206Z"
    }
   },
   "outputs": [
    {
     "name": "stdout",
     "output_type": "stream",
     "text": [
      "The solar system is a gravitationally bound system comprising the Sun, eight planets, dwarf planets, and many moons, asteroids, comets and meteoroids. It is located in the Milky Way galaxy.\n",
      "\n",
      "The Sun is a G-type main-sequence star that makes up 99.86% of the mass of the Solar System. The planets are divided into two groups: the inner planets and the outer planets. The inner planets are Mercury, Venus, Earth, and Mars. They are made mostly of rock and metal. The outer planets are Jupiter, Saturn, Uranus, and Neptune. They are made mostly of gas and ice.\n",
      "\n",
      "Dwarf planets are objects that are too large to be called asteroids but too small to be called planets. They include Pluto, Ceres, Eris, and Makemake.\n",
      "\n",
      "Moons are objects that orbit planets. The largest moon in the Solar System is Ganymede, which orbits Jupiter.\n",
      "\n",
      "Asteroids are small, rocky objects that orbit the Sun. They range in size from a few meters to hundreds of kilometers.\n",
      "\n",
      "Comets are small, icy objects that orbit the Sun. They have a nucleus made of ice and dust, and a tail made of gas and dust.\n",
      "\n",
      "Meteoroids are small pieces of rock and metal that orbit the Sun. They range in size from a few millimeters to a few meters. When a meteoroid enters the Earth's atmosphere, it is heated by friction and glows. This is what we see as a meteor. If the meteoroid is large enough, it may not completely burn up in the atmosphere and will impact the Earth's surface. This is called a meteorite.\n",
      "\n",
      "The Solar System is a dynamic system that is constantly changing. The planets move around the Sun in elliptical orbits, and the Sun's rotation causes the day-night cycle on Earth. The Solar System is also constantly being bombarded by asteroids and comets, which can cause significant changes to the surface of the planets.\n"
     ]
    }
   ],
   "source": [
    "print(response.text)"
   ]
  }
 ],
 "metadata": {
  "kaggle": {
   "accelerator": "none",
   "dataSources": [
    {
     "datasetId": 6556863,
     "sourceId": 10593772,
     "sourceType": "datasetVersion"
    }
   ],
   "dockerImageVersionId": 30839,
   "isGpuEnabled": false,
   "isInternetEnabled": true,
   "language": "python",
   "sourceType": "notebook"
  },
  "kernelspec": {
   "display_name": "Python 3 (ipykernel)",
   "language": "python",
   "name": "python3"
  },
  "language_info": {
   "codemirror_mode": {
    "name": "ipython",
    "version": 3
   },
   "file_extension": ".py",
   "mimetype": "text/x-python",
   "name": "python",
   "nbconvert_exporter": "python",
   "pygments_lexer": "ipython3",
   "version": "3.11.7"
  }
 },
 "nbformat": 4,
 "nbformat_minor": 4
}
